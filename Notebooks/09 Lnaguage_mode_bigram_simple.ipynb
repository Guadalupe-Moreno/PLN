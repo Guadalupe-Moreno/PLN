{
 "cells": [
  {
   "cell_type": "markdown",
   "metadata": {},
   "source": [
    "# Estimación de un modelo del lenguaje (bigramas)"
   ]
  },
  {
   "cell_type": "markdown",
   "metadata": {},
   "source": [
    "Para crear un modelo del lenguaje $\\mu=(\\Sigma,A,\\Pi)$, indexaremos las palabras del corpus de entrenamiento a partir de número. En el vocabulario guardaremos la palabra y el índice numérico respectivo. Para esto, definimos las siguientes dos funciones:"
   ]
  },
  {
   "cell_type": "code",
   "execution_count": 1,
   "metadata": {},
   "outputs": [],
   "source": [
    "#-*- encoding:utf-8 -*-\n",
    "import numpy as np\n",
    "from collections import defaultdict, Counter\n",
    "from preprocessing import preprocess\n",
    "import matplotlib.pyplot as plt\n",
    "from itertools import chain\n",
    "\n",
    "#Funcion que crea un vocabulario de palabras con un indice numerico\n",
    "def vocab():\n",
    "    vocab = defaultdict()\n",
    "    vocab.default_factory = lambda: len(vocab)\n",
    "    return vocab    \n",
    "\n",
    "#Funcion que pasa la cadena de simbolos a una secuencia con indices numericos\n",
    "def text2numba(corpus, vocab):\n",
    "    for doc in corpus:\n",
    "        yield [vocab[w] for w in doc.split()]"
   ]
  },
  {
   "cell_type": "markdown",
   "metadata": {},
   "source": [
    "### Preprocesamiento de los datos\n",
    "\n",
    "Para el modelo del lenguaje, asumiremos un corpus de entrenamiento muy simple. En este caso, creamos el vocabulario 'idx' e indexamos cada símbolo del vocabulario."
   ]
  },
  {
   "cell_type": "code",
   "execution_count": 2,
   "metadata": {},
   "outputs": [
    {
     "name": "stdout",
     "output_type": "stream",
     "text": [
      "[[0, 1, 2, 3, 4], [3, 5, 6], [0, 5, 7, 8, 9], [3, 10, 2, 11]]\n"
     ]
    }
   ],
   "source": [
    "corpus = ['el perro come un hueso', 'un muchacho jugaba', 'el muchacho saltaba la cuerda',\n",
    "          'un gato come croquetas']\n",
    "\n",
    "#Llamamos la funcion para crear el vocabulario\n",
    "idx = vocab()\n",
    "#Creamos el vocabulario y le asignamos un indice a cada simbolo segun su aparicion\n",
    "cads_idx = list(text2numba(corpus,idx))\n",
    "\n",
    "print(cads_idx)"
   ]
  },
  {
   "cell_type": "markdown",
   "metadata": {},
   "source": [
    "Podemos ver que el vocabulario es un diccionario donde se asocian los símbolos y sus índices numéricos."
   ]
  },
  {
   "cell_type": "code",
   "execution_count": 3,
   "metadata": {},
   "outputs": [
    {
     "name": "stdout",
     "output_type": "stream",
     "text": [
      "defaultdict(<function vocab.<locals>.<lambda> at 0x0000027568211F28>, {'el': 0, 'perro': 1, 'come': 2, 'un': 3, 'hueso': 4, 'muchacho': 5, 'jugaba': 6, 'saltaba': 7, 'la': 8, 'cuerda': 9, 'gato': 10, 'croquetas': 11})\n"
     ]
    }
   ],
   "source": [
    "print(idx)"
   ]
  },
  {
   "cell_type": "markdown",
   "metadata": {},
   "source": [
    "Ahora debemos indicar el inicio y el fin de cada cadena. Para esto, utilizaremos las estiquetas BOS (Beginning Of Sentence) y EOS (End Of Sentence)."
   ]
  },
  {
   "cell_type": "code",
   "execution_count": 4,
   "metadata": {},
   "outputs": [
    {
     "name": "stdout",
     "output_type": "stream",
     "text": [
      "[[13, 0, 1, 2, 3, 4, 12], [13, 3, 5, 6, 12], [13, 0, 5, 7, 8, 9, 12], [13, 3, 10, 2, 11, 12]]\n"
     ]
    }
   ],
   "source": [
    "#Indicamos las etiquetas a usar\n",
    "EOS = '<EOS>'\n",
    "BOS = '<BOS>'\n",
    "\n",
    "#Cada etiqeuta se le asigna un indice numerico\n",
    "BOS_IDX = max(idx.values())+2\n",
    "EOS_IDX = max(idx.values())+1\n",
    "\n",
    "#Se agregan estas etiqeutas al vocabulario\n",
    "idx[EOS] = EOS_IDX\n",
    "idx[BOS] = BOS_IDX\n",
    "\n",
    "#A cada cadena se le agrega la etiqueta BOS al inicio y EOS al final\n",
    "cadenas = [[BOS_IDX] + cad + [EOS_IDX] for cad in cads_idx]\n",
    "\n",
    "print(cadenas)"
   ]
  },
  {
   "cell_type": "markdown",
   "metadata": {},
   "source": [
    "Ahora creamos los bigramas a partir de las cadenas de entrenamiento. En este caso, incluimos bigramas del tipo ($<BOS>$,$w_0$) y ($w_T$,$<EOS>$) que nos serán útiles para construir el modelo. Asimismo, obtenemos las frecuencias."
   ]
  },
  {
   "cell_type": "code",
   "execution_count": 25,
   "metadata": {},
   "outputs": [
    {
     "name": "stdout",
     "output_type": "stream",
     "text": [
      "[(13, 0), (0, 1), (1, 2), (2, 3), (3, 4), (4, 12), (13, 3), (3, 5), (5, 6), (6, 12), (13, 0), (0, 5), (5, 7), (7, 8), (8, 9), (9, 12), (13, 3), (3, 10), (10, 2), (2, 11), (11, 12)]\n"
     ]
    }
   ],
   "source": [
    "#Se crean los bigramas\n",
    "bigrams = list(chain(*[zip(cad,cad[1:]) for cad in cadenas]))\n",
    "\n",
    "#Se obtiene la frecuencia de cada bigrama\n",
    "frecBigrams = Counter(bigrams)\n",
    "\n",
    "print(bigrams)"
   ]
  },
  {
   "cell_type": "markdown",
   "metadata": {},
   "source": [
    "### Estimación del modelo\n",
    "\n",
    "Obtenemos el número de elementos que hay en el vocabulario y creamos la matriz de transiciones $A$ y el vector de probabilidades iniciales $\\Pi$."
   ]
  },
  {
   "cell_type": "code",
   "execution_count": 6,
   "metadata": {},
   "outputs": [],
   "source": [
    "#Numero de tipos sin contar las etiqeutas BOS y EOS\n",
    "N = len(idx)-2\n",
    "\n",
    "#La matriz A es de NxN+1, los renglones consideran EOS\n",
    "A = np.zeros((N,N+1))\n",
    "\n",
    "#Pi es de tamano N\n",
    "Pi = np.zeros(N)"
   ]
  },
  {
   "cell_type": "markdown",
   "metadata": {},
   "source": [
    "Procedemos a llenar la matriz $A$ y el vector $\\Pi$ con las frecuencias de bigramas. Para la matriz de transiciones, tenemos que:\n",
    "\n",
    "$$A = (a_{ij}) = fr([w_i,w_j])$$\n",
    "\n",
    "Se considera a la etiqueta EOS en los finales de cadenas. Para el vector de iniciales tenemos que:\n",
    "\n",
    "$$\\Pi = (\\pi_i) = fr([<BOS>,w_i])$$"
   ]
  },
  {
   "cell_type": "code",
   "execution_count": 7,
   "metadata": {},
   "outputs": [],
   "source": [
    "for bigram,frec in frecBigrams.items():\n",
    "    if bigram[0] != BOS_IDX:\n",
    "        A[bigram[0],bigram[1]] = frec\n",
    "    elif bigram[0] == BOS_IDX:\n",
    "        Pi[bigram[1]] = frec"
   ]
  },
  {
   "cell_type": "markdown",
   "metadata": {},
   "source": [
    "En este caso, el modelo sólo cuenta con frecuencias. Falta obtener las probabilidades."
   ]
  },
  {
   "cell_type": "code",
   "execution_count": 26,
   "metadata": {},
   "outputs": [
    {
     "name": "stdout",
     "output_type": "stream",
     "text": [
      "[[0. 0. 0. 0. 0. 0. 0. 0. 0. 0. 0. 0.]\n",
      " [1. 0. 0. 0. 0. 0. 0. 0. 0. 0. 0. 0.]\n",
      " [0. 1. 0. 0. 0. 0. 0. 0. 0. 0. 1. 0.]\n",
      " [0. 0. 1. 0. 0. 0. 0. 0. 0. 0. 0. 0.]\n",
      " [0. 0. 0. 1. 0. 0. 0. 0. 0. 0. 0. 0.]\n",
      " [1. 0. 0. 1. 0. 0. 0. 0. 0. 0. 0. 0.]\n",
      " [0. 0. 0. 0. 0. 1. 0. 0. 0. 0. 0. 0.]\n",
      " [0. 0. 0. 0. 0. 1. 0. 0. 0. 0. 0. 0.]\n",
      " [0. 0. 0. 0. 0. 0. 0. 1. 0. 0. 0. 0.]\n",
      " [0. 0. 0. 0. 0. 0. 0. 0. 1. 0. 0. 0.]\n",
      " [0. 0. 0. 1. 0. 0. 0. 0. 0. 0. 0. 0.]\n",
      " [0. 0. 1. 0. 0. 0. 0. 0. 0. 0. 0. 0.]\n",
      " [0. 0. 0. 0. 1. 0. 1. 0. 0. 1. 0. 1.]]\n",
      "[2. 0. 0. 2. 0. 0. 0. 0. 0. 0. 0. 0.]\n"
     ]
    }
   ],
   "source": [
    "#Frecuencias de bigramas\n",
    "print(A.T)\n",
    "\n",
    "print(Pi.T)"
   ]
  },
  {
   "cell_type": "markdown",
   "metadata": {},
   "source": [
    "Usaremos un estimador Lidstone, que definiremos como:\n",
    "\n",
    "$$p_{lid}(w_j|w_i) = \\frac{fr([w_i,w_j]) + \\lambda}{\\sum_k fr([w_i,w_k]) + \\lambda N}$$"
   ]
  },
  {
   "cell_type": "code",
   "execution_count": 9,
   "metadata": {},
   "outputs": [],
   "source": [
    "#Definicion de estimador Lidstone\n",
    "def get_model_Lid(frec_trans, frec_init, l=0.0):\n",
    "    #Añadir parámetro\n",
    "    addA = frec_trans + l\n",
    "    addPi = frec_init + l\n",
    "    \n",
    "    #Obtener probabilidades de transición\n",
    "    mu_A = addA.T/addA.T.sum(0)\n",
    "    #Obtener probabilidades de inicio\n",
    "    mu_Pi = addPi.T/addPi.T.sum(0)\n",
    "    \n",
    "    return (mu_A.T,mu_Pi)"
   ]
  },
  {
   "cell_type": "markdown",
   "metadata": {},
   "source": [
    "Definida la función así, podemos estimar la probabilidad de los datos a partir de variar el parámetro $\\lambda$. En primer lugar, podemos obtener la probabilidad frecuentista (que llamaremos MLE) dada por:\n",
    "\n",
    "$$p_{mle}(w_j|w_i) = \\frac{fr([w_i,w_j])}{\\sum_k fr([w_i,w_k])}$$\n",
    "\n",
    "En este caso, $\\lambda =0$."
   ]
  },
  {
   "cell_type": "code",
   "execution_count": 10,
   "metadata": {},
   "outputs": [
    {
     "name": "stdout",
     "output_type": "stream",
     "text": [
      "[[0.   0.   0.   0.   0.   0.   0.   0.   0.   0.   0.   0.  ]\n",
      " [0.5  0.   0.   0.   0.   0.   0.   0.   0.   0.   0.   0.  ]\n",
      " [0.   1.   0.   0.   0.   0.   0.   0.   0.   0.   1.   0.  ]\n",
      " [0.   0.   0.5  0.   0.   0.   0.   0.   0.   0.   0.   0.  ]\n",
      " [0.   0.   0.   0.33 0.   0.   0.   0.   0.   0.   0.   0.  ]\n",
      " [0.5  0.   0.   0.33 0.   0.   0.   0.   0.   0.   0.   0.  ]\n",
      " [0.   0.   0.   0.   0.   0.5  0.   0.   0.   0.   0.   0.  ]\n",
      " [0.   0.   0.   0.   0.   0.5  0.   0.   0.   0.   0.   0.  ]\n",
      " [0.   0.   0.   0.   0.   0.   0.   1.   0.   0.   0.   0.  ]\n",
      " [0.   0.   0.   0.   0.   0.   0.   0.   1.   0.   0.   0.  ]\n",
      " [0.   0.   0.   0.33 0.   0.   0.   0.   0.   0.   0.   0.  ]\n",
      " [0.   0.   0.5  0.   0.   0.   0.   0.   0.   0.   0.   0.  ]\n",
      " [0.   0.   0.   0.   1.   0.   1.   0.   0.   1.   0.   1.  ]]\n",
      "[0.5 0.  0.  0.5 0.  0.  0.  0.  0.  0.  0.  0. ]\n"
     ]
    }
   ],
   "source": [
    "#Se obtienen las probabilidades\n",
    "A_mle, Pi_mle = get_model_Lid(A,Pi,l=0)\n",
    "\n",
    "print(np.round(A_mle,2).T)\n",
    "print(Pi_mle)"
   ]
  },
  {
   "cell_type": "markdown",
   "metadata": {},
   "source": [
    "Podemos comprobar que nuestro estimador es una probabilidad, para esto vemos que la matriz de transiciones cumple:\n",
    "\n",
    "$$\\sum_{j=1}^{N+1} (a_{ij}) = 1$$\n",
    "\n",
    "(En este caso, hemos tomado en cuenta al símbolo de término EOS). Y el vector de probabilidades iniciales cumple:\n",
    "\n",
    "$$\\sum_{i=1}^{N} \\pi_i = 1$$"
   ]
  },
  {
   "cell_type": "code",
   "execution_count": 11,
   "metadata": {},
   "outputs": [
    {
     "name": "stdout",
     "output_type": "stream",
     "text": [
      "[1. 1. 1. 1. 1. 1. 1. 1. 1. 1. 1. 1.]\n",
      "1.0\n"
     ]
    }
   ],
   "source": [
    "print(A_mle.sum(1))\n",
    "print(Pi_mle.sum(0))"
   ]
  },
  {
   "cell_type": "markdown",
   "metadata": {},
   "source": [
    "Ahora que tenemos nuestro modelo $\\mu$, podemos obtener la probabilidad de cadenas. Para esto definimos una función dada por:\n",
    "\n",
    "$$p(w_0 ... w_T) = \\pi_0 \\prod_{i=1}^T p(w_i|w_{i-1})$$"
   ]
  },
  {
   "cell_type": "code",
   "execution_count": 12,
   "metadata": {},
   "outputs": [],
   "source": [
    "def prob_cad(cad,mu):\n",
    "    #Matrices del modelo\n",
    "    A_mu, Pi_mu = mu\n",
    "    #Obtenemos los simbolos\n",
    "    seq = cad.split()\n",
    "    #Obtenemos los bigramas de la cadena de evaluacion\n",
    "    bigrSeq = zip(seq,seq[1:])\n",
    "    \n",
    "    #Guardamos la probabilidad inicial dado el modelo\n",
    "    p = Pi_mu[idx[seq[0]]]\n",
    "    #Multiplicamos por las probabilidades de los bigramas dado el modelo\n",
    "    for gram1,gram2 in bigrSeq:\n",
    "        p *= A_mu[idx[gram1],idx[gram2]]\n",
    "    \n",
    "    return p  "
   ]
  },
  {
   "cell_type": "markdown",
   "metadata": {},
   "source": [
    "Podemos, entonces, probar como es que este modelo del lenguaje estima las probabilidades de dos cadenas: una contenida en los datos; y otra agramatical."
   ]
  },
  {
   "cell_type": "code",
   "execution_count": 27,
   "metadata": {},
   "outputs": [
    {
     "name": "stdout",
     "output_type": "stream",
     "text": [
      "\t--Probabilidad MLE--\n",
      "el perro come un hueso : \t 0.041666666666666664\n",
      "un perro come un hueso : \t 0.0\n"
     ]
    }
   ],
   "source": [
    "#Cadenas de prueba\n",
    "str1 = 'el perro come un hueso'\n",
    "str2 = 'un perro come un hueso'\n",
    "\n",
    "print('\\t--Probabilidad MLE--')\n",
    "print( str1,': \\t', prob_cad(str1,(A_mle,Pi_mle)) )\n",
    "print( str2,': \\t', prob_cad(str2,(A_mle,Pi_mle)) )"
   ]
  },
  {
   "cell_type": "markdown",
   "metadata": {},
   "source": [
    "De igual forma, podemos utilizar una probabilidad laplaciana para definir el modelo. En este caso, utilizaremos la función de probabilidad dada por:\n",
    "\n",
    "\n",
    "$$p_{lap}(w_j|w_i) = \\frac{fr([w_i,w_j]) + 1}{\\sum_k fr([w_i,w_k]) + N}$$\n",
    "\n",
    "Es decir, tomaremos $\\lambda = 1$."
   ]
  },
  {
   "cell_type": "code",
   "execution_count": 14,
   "metadata": {},
   "outputs": [
    {
     "name": "stdout",
     "output_type": "stream",
     "text": [
      "[1. 1. 1. 1. 1. 1. 1. 1. 1. 1. 1. 1.]\n",
      "1.0\n",
      "[[0.06666667 0.13333333 0.06666667 0.06666667 0.06666667 0.13333333\n",
      "  0.06666667 0.06666667 0.06666667 0.06666667 0.06666667 0.06666667\n",
      "  0.06666667]\n",
      " [0.07142857 0.07142857 0.14285714 0.07142857 0.07142857 0.07142857\n",
      "  0.07142857 0.07142857 0.07142857 0.07142857 0.07142857 0.07142857\n",
      "  0.07142857]\n",
      " [0.06666667 0.06666667 0.06666667 0.13333333 0.06666667 0.06666667\n",
      "  0.06666667 0.06666667 0.06666667 0.06666667 0.06666667 0.13333333\n",
      "  0.06666667]\n",
      " [0.0625     0.0625     0.0625     0.0625     0.125      0.125\n",
      "  0.0625     0.0625     0.0625     0.0625     0.125      0.0625\n",
      "  0.0625    ]\n",
      " [0.07142857 0.07142857 0.07142857 0.07142857 0.07142857 0.07142857\n",
      "  0.07142857 0.07142857 0.07142857 0.07142857 0.07142857 0.07142857\n",
      "  0.14285714]\n",
      " [0.06666667 0.06666667 0.06666667 0.06666667 0.06666667 0.06666667\n",
      "  0.13333333 0.13333333 0.06666667 0.06666667 0.06666667 0.06666667\n",
      "  0.06666667]\n",
      " [0.07142857 0.07142857 0.07142857 0.07142857 0.07142857 0.07142857\n",
      "  0.07142857 0.07142857 0.07142857 0.07142857 0.07142857 0.07142857\n",
      "  0.14285714]\n",
      " [0.07142857 0.07142857 0.07142857 0.07142857 0.07142857 0.07142857\n",
      "  0.07142857 0.07142857 0.14285714 0.07142857 0.07142857 0.07142857\n",
      "  0.07142857]\n",
      " [0.07142857 0.07142857 0.07142857 0.07142857 0.07142857 0.07142857\n",
      "  0.07142857 0.07142857 0.07142857 0.14285714 0.07142857 0.07142857\n",
      "  0.07142857]\n",
      " [0.07142857 0.07142857 0.07142857 0.07142857 0.07142857 0.07142857\n",
      "  0.07142857 0.07142857 0.07142857 0.07142857 0.07142857 0.07142857\n",
      "  0.14285714]\n",
      " [0.07142857 0.07142857 0.14285714 0.07142857 0.07142857 0.07142857\n",
      "  0.07142857 0.07142857 0.07142857 0.07142857 0.07142857 0.07142857\n",
      "  0.07142857]\n",
      " [0.07142857 0.07142857 0.07142857 0.07142857 0.07142857 0.07142857\n",
      "  0.07142857 0.07142857 0.07142857 0.07142857 0.07142857 0.07142857\n",
      "  0.14285714]]\n"
     ]
    }
   ],
   "source": [
    "#Modelo con probabilidad laplaciana\n",
    "A_lap, Pi_lap = get_model_Lid(A,Pi,l=1)\n",
    "\n",
    "#Comprobar que suman 1\n",
    "print(A_lap.sum(1))\n",
    "print(Pi_lap.sum(0))\n",
    "print(A_lap)"
   ]
  },
  {
   "cell_type": "markdown",
   "metadata": {},
   "source": [
    "Y podemos comparar las probabilidades que se obtienen con este estimador:"
   ]
  },
  {
   "cell_type": "code",
   "execution_count": 28,
   "metadata": {},
   "outputs": [
    {
     "name": "stdout",
     "output_type": "stream",
     "text": [
      "\t--Probabilidad Laplaciana--\n",
      "el perro come un hueso : \t 5.9523809523809524e-05\n",
      "un perro come un hueso : \t 2.7901785714285713e-05\n"
     ]
    }
   ],
   "source": [
    "print('\\t--Probabilidad Laplaciana--')\n",
    "print( str1,': \\t', prob_cad(str1,(A_lap,Pi_lap)) )\n",
    "print( str2,': \\t', prob_cad(str2,(A_lap,Pi_lap)) )"
   ]
  },
  {
   "cell_type": "markdown",
   "metadata": {},
   "source": [
    "Como puede observarse, al tomar la probabilidad Laplaciana, las transiciones que no se vieron en el corpus tienen una probabilidad diferente de 0, pero que es baja. Esto es una ventaja, pues podemos asignar probabilidades a transiciones no atestiguadas, asignándoles baja probabilidad de transición."
   ]
  },
  {
   "cell_type": "markdown",
   "metadata": {},
   "source": [
    "### Generación de cadenas\n",
    "\n",
    "Una vez establecido el modelo del lenguaje, éste puede utilizarse en diferentes aplicaciones de NLP. Los modelos del lenguaje, en general están presentes en un gran número de tareas (traducción automática, reconocimiento de voz, reconocimiento óptico de caracteres, etc.). Una de sus aplicaciones más inmediatas es el autocompletado. Esto es, predecir la palabra $\\hat{w}$ más probable dada una cadena $w_1,...,w_{i-1}$ de palabras anteriores. Para determinar esta predicción, buscamos:\n",
    "\n",
    "$$\\hat{w} = \\arg\\max_{w} p(w_1 w_2...w_{n-1} w)$$\n",
    "\n",
    "Esta probabilidad se puede determinar a partir del modelo $\\mu$ que hemos definido de la forma siguiente:\n",
    "\n",
    "$$\\hat{w} = \\arg\\max_{w} p(w|w_{n-1})p(w_1 w_2...w_{n-1})$$"
   ]
  },
  {
   "cell_type": "code",
   "execution_count": 16,
   "metadata": {},
   "outputs": [
    {
     "name": "stdout",
     "output_type": "stream",
     "text": [
      "Palabra siguiente más probable: come Ccon probabilidad: 0.14285714285714285\n"
     ]
    }
   ],
   "source": [
    "#Diccionario para recuperar palabras a partir de sus índices\n",
    "get_word = {i:w for w,i in idx.items()}\n",
    "\n",
    "def next_word(string, mu):\n",
    "    #Elementos del modelo\n",
    "    A, Pi = mu\n",
    "    #Obtener la probabilidad de la historia\n",
    "    p_prev = prob_cad(string, mu)\n",
    "    #Obtener la última palabra en la historia\n",
    "    last_w = string.split()[-1]\n",
    "    #Obtener el argumento que maximiza la probabilidad\n",
    "    max_w = np.argmax(A[idx[last_w]]*p_prev)\n",
    "    \n",
    "    return get_word[max_w], A[idx[last_w],max_w]\n",
    "    \n",
    "pred, prob_pred = next_word('el perro',(A_lap,Pi_lap))\n",
    "print('Palabra siguiente más probable:', pred, 'Ccon probabilidad:', prob_pred)"
   ]
  },
  {
   "cell_type": "markdown",
   "metadata": {},
   "source": [
    "Si aplicamos esta predicción d eforma iterativa, podemos, además, producir texto a partir de una cadena de entrada. Para esto, buscaremos encontrar la cadena con mayor probabilidad dado una estimulo de entrada. Este proceso acabará cuando la palabra siguiente con mayor probabilidad sea EOS (End Of String)."
   ]
  },
  {
   "cell_type": "code",
   "execution_count": 36,
   "metadata": {},
   "outputs": [
    {
     "name": "stdout",
     "output_type": "stream",
     "text": [
      "el perro come un hueso\n"
     ]
    }
   ],
   "source": [
    "def generate(string, mu):\n",
    "    #Guarda la palabra predicha\n",
    "    w = ''\n",
    "    #Guarda la cadena que se ha generado\n",
    "    str_gen = string\n",
    "    #El método se detiene al ver <EOS>\n",
    "    while w != '<EOS>':\n",
    "        #Predice la siguiente palabra\n",
    "        w, p = next_word(str_gen, mu)\n",
    "        #Agrega esa palabra a ala cadena\n",
    "        str_gen += ' ' + w\n",
    "    \n",
    "    #Regresa la cadena si el símbolo EOS\n",
    "    return str_gen[:len(str_gen)-6]\n",
    "    \n",
    "print(generate('el', (A_lap,Pi_lap) ))"
   ]
  },
  {
   "cell_type": "markdown",
   "metadata": {},
   "source": [
    "### Evaluación del modelo del lenguaje"
   ]
  },
  {
   "cell_type": "markdown",
   "metadata": {},
   "source": [
    "Para tener una idea de que tan bueno es el modelo que estimamos, podemos utilizar la entropía cruzada empírica dada por la función:\n",
    "\n",
    "$$H_E(p) = -\\frac{1}{M} \\sum_{x_1,...,x_m}^N \\log p(x_1, ...x_m)$$\n",
    "\n",
    "En este caso, el modelo con menor entropía será aquel que mejor prediga una (o varias) cadenas no vistas. Por tanto, consideraremos que generaliza mejor. De aquí, que busquemos un modelo que minimice esta función.\n",
    "\n",
    "En otros casos, se utiliza la perplejidad, la cual se define en base a esta entropía como $2^{H_E(p)}$."
   ]
  },
  {
   "cell_type": "code",
   "execution_count": 18,
   "metadata": {},
   "outputs": [],
   "source": [
    "#Corpus para evaluar el modelo (cadenas no vistas)\n",
    "eval_corp = ['el perro jugaba un hueso','el muchacho jugaba la cuerda', 'un muchacho come un hueso']\n",
    "\n",
    "def H(mu):\n",
    "    #Entropía\n",
    "    H = 0.0\n",
    "    for cad in eval_corp:\n",
    "        #Probabilidad de la cadena\n",
    "        p_cad = prob_cad(cad,mu)\n",
    "        #Número de bigramas\n",
    "        M = len(cad.split())\n",
    "        #Obtenemos la entropía cruzada de la cadena\n",
    "        H -= np.log(p_cad)/M       \n",
    "    \n",
    "    return H/len(eval_corp)"
   ]
  },
  {
   "cell_type": "code",
   "execution_count": 19,
   "metadata": {},
   "outputs": [
    {
     "name": "stdout",
     "output_type": "stream",
     "text": [
      "Entropía, modelo MLE: \t inf\n",
      "Entropía, modelo Laplaciano\t: 2.126066556461792\n"
     ]
    },
    {
     "name": "stderr",
     "output_type": "stream",
     "text": [
      "C:\\Users\\Mijangos\\AppData\\Local\\Continuum\\anaconda3\\lib\\site-packages\\ipykernel_launcher.py:13: RuntimeWarning: divide by zero encountered in log\n",
      "  del sys.path[0]\n"
     ]
    }
   ],
   "source": [
    "print( 'Entropía, modelo MLE: \\t', H((A_mle,Pi_mle)) )\n",
    "print( 'Entropía, modelo Laplaciano\\t:', H((A_lap,Pi_lap)) )"
   ]
  },
  {
   "cell_type": "markdown",
   "metadata": {},
   "source": [
    "El modelo de frecuentista (MLE) es incapaz de asignarle una probabilidad distinta de 0 a cadenas que nunca vio; por tanto, no es capaz de generalizar adecuadamente. En este sentido, la probabilidad con smoothing laplaciano resulta ser un mejor estimador.\n",
    "\n",
    "Pero ¿cuál sería el mejor estimador que podríamos obtener? Si nos enfocamos a la familia de estimadores de Lidstone, basta variar el parámetro $\\lambda$ y determinar cuándo se minimiza la entropía cruzada. Para esto, tomamos varios valores de $\\lambda$ (desde 0.01 hasta 2) y observamos cómo se comporta la entropía cruzada."
   ]
  },
  {
   "cell_type": "code",
   "execution_count": 20,
   "metadata": {},
   "outputs": [
    {
     "data": {
      "image/png": "[encoded data removed]",
      "text/plain": [
       "<Figure size 432x288 with 1 Axes>"
      ]
     },
     "metadata": {
      "needs_background": "light"
     },
     "output_type": "display_data"
    }
   ],
   "source": [
    "#Guarda valores de entropía\n",
    "rank_H = []\n",
    "for i in range(1,200):\n",
    "    #rango de 0.01 a 2\n",
    "    k = float(i)/100\n",
    "    #obtiene los valores de entropia\n",
    "    rank_H.append( (k,H(get_model_Lid(A,Pi,l=k))) )\n",
    "\n",
    "#Visualización\n",
    "rank_H = np.array(rank_H)\n",
    "plt.scatter(rank_H[:,0],rank_H[:,1])\n",
    "plt.show()"
   ]
  },
  {
   "cell_type": "markdown",
   "metadata": {},
   "source": [
    "Así, podemos obtener el valor de $\\lambda$ que minimice la entropía y estimar una distribución de probabilidad Lidstone con este parámetro."
   ]
  },
  {
   "cell_type": "code",
   "execution_count": 21,
   "metadata": {},
   "outputs": [
    {
     "name": "stdout",
     "output_type": "stream",
     "text": [
      "0.07\n"
     ]
    }
   ],
   "source": [
    "#Parámetro que minimiza entropía\n",
    "l_min = rank_H[:,0][np.argmin(rank_H[:,1])]\n",
    "print(l_min)\n",
    "\n",
    "#Estimación de probabilidad\n",
    "A_lid, Pi_lid = get_model_Lid(A,Pi,l=l_min)"
   ]
  },
  {
   "cell_type": "markdown",
   "metadata": {},
   "source": [
    "Y al igual que hicimos con los otros estimadores, podemos determinar la probabilidad de cadenas."
   ]
  },
  {
   "cell_type": "code",
   "execution_count": 37,
   "metadata": {},
   "outputs": [
    {
     "name": "stdout",
     "output_type": "stream",
     "text": [
      "\t--Probabilidad Lidstone--\n",
      "el perro come un hueso : \t 0.008864698962808098\n",
      "un perro come un hueso : \t 0.0004316129690761788\n"
     ]
    }
   ],
   "source": [
    "print('\\t--Probabilidad Lidstone--')\n",
    "print( str1,': \\t', prob_cad(str1,(A_lid,Pi_lid)) )\n",
    "print( str2, ': \\t', prob_cad(str2,(A_lid,Pi_lid)) )"
   ]
  },
  {
   "cell_type": "markdown",
   "metadata": {},
   "source": [
    "Finalmente, es posible combinar funciones de probabilidad a partir de la interpolación, dada por:\n",
    "\n",
    "$$p_{int}(w_j|w_i) = \\sum_i \\lambda_i \\cdot p_i(w_j|w_i)$$\n",
    "\n",
    "Recordando que $\\sum_i \\lambda_i =1$."
   ]
  },
  {
   "cell_type": "code",
   "execution_count": 23,
   "metadata": {},
   "outputs": [
    {
     "name": "stdout",
     "output_type": "stream",
     "text": [
      "\t--Probabilidad Interpolación\n",
      "el perro come un hueso : \t 0.018492254641849337\n",
      "perro hueso el jugaba un : \t 8.77158126400316e-10\n",
      "\n",
      "Entropía de la interpolación: 1.7379299563197428\n"
     ]
    }
   ],
   "source": [
    "#Interpolación\n",
    "l1, l2, l3 = 0.3, 0.1, 0.6\n",
    "A_int = l1*A_lid + l2*A_lap + l3*A_mle\n",
    "Pi_int = l1*Pi_lid + l2*Pi_lap + l3*Pi_mle\n",
    "\n",
    "print('\\t--Probabilidad Interpolación')\n",
    "print( str1,': \\t', prob_cad(str1,(A_int, Pi_int)) )\n",
    "print( str2, ': \\t', prob_cad(str2,(A_int, Pi_int)) )\n",
    "\n",
    "print( '\\nEntropía de la interpolación:', H((A_int, Pi_int)) )"
   ]
  },
  {
   "cell_type": "markdown",
   "metadata": {},
   "source": [
    "  "
   ]
  }
 ],
 "metadata": {
  "kernelspec": {
   "display_name": "Python 3",
   "language": "python",
   "name": "python3"
  },
  "language_info": {
   "codemirror_mode": {
    "name": "ipython",
    "version": 3
   },
   "file_extension": ".py",
   "mimetype": "text/x-python",
   "name": "python",
   "nbconvert_exporter": "python",
   "pygments_lexer": "ipython3",
   "version": "3.8.5"
  }
 },
 "nbformat": 4,
 "nbformat_minor": 2
}
