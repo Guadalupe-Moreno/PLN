{
 "cells": [
  {
   "cell_type": "markdown",
   "metadata": {},
   "source": [
    "# Algoritmo del Perceptrón"
   ]
  },
  {
   "cell_type": "markdown",
   "metadata": {},
   "source": [
    "El algoritmo del perceptrón aprende los parámetros a partir de la iteración a partir de una regla de actualización basada en una interpretación del ángulo entre los vectores ejemplos y el vector de pesos."
   ]
  },
  {
   "cell_type": "code",
   "execution_count": 1,
   "metadata": {},
   "outputs": [],
   "source": [
    "import numpy as np\n",
    "import matplotlib.pyplot as plt"
   ]
  },
  {
   "cell_type": "markdown",
   "metadata": {},
   "source": [
    "### Problema AND\n",
    "\n",
    "Consideremos la siguiente distribución de los datos. Tenemos que se asigna la clase 1 sólo cuando están presente los valores en ambas entradas; esto define el problema AND. Sólo sí $x=1$ y $y=1$ se activará la neurona. Estos datos son linealmente separables:"
   ]
  },
  {
   "cell_type": "code",
   "execution_count": 2,
   "metadata": {},
   "outputs": [
    {
     "data": {
      "image/png": "[encoded data removed]",
      "text/plain": [
       "<Figure size 432x288 with 1 Axes>"
      ]
     },
     "metadata": {
      "needs_background": "light"
     },
     "output_type": "display_data"
    }
   ],
   "source": [
    "#Puntos en un cuadrado en R2\n",
    "X = np.array([[0,1],[1,0],[0,0],[1,1]])\n",
    "#Definición de problema AND\n",
    "Y = np.array([0,0,0,1])\n",
    "\n",
    "plt.scatter(X[:,0], X[:,1], c=Y)\n",
    "plt.title('Problema AND')\n",
    "plt.show()"
   ]
  },
  {
   "cell_type": "markdown",
   "metadata": {},
   "source": [
    "Para hacer sencillo el procesamiento, añadimos una columna más a los datos. Esta columna representa el bias y, por tanto, es siempre igual a 1. Esto lo hacemos para considerar el bias como una variable de entrada, por lo que el vector $w$ que buscaremos  será de la forma $w^T = \\begin{pmatrix} w_1 & w_2 & b \\end{pmatrix}$. Es decir, determinaremos el bias junto con los pesos de las conexiones."
   ]
  },
  {
   "cell_type": "code",
   "execution_count": 3,
   "metadata": {},
   "outputs": [],
   "source": [
    "#dimensiones de los datos\n",
    "m,n = X.shape\n",
    "#Se agrega un 1 a cada vector\n",
    "#Este representará el bias\n",
    "X1 = np.append(X,np.ones((m,1)),axis=1)"
   ]
  },
  {
   "cell_type": "markdown",
   "metadata": {
    "collapsed": true
   },
   "source": [
    "### Entrenamiento del perceptrón\n",
    "\n",
    "Para que el perceptrón funcione de manera adecuada, necesitamos obtener los parámetros adecuados de la red. Para esto, utilizaremos la regla de actualización del perceptrón."
   ]
  },
  {
   "cell_type": "markdown",
   "metadata": {},
   "source": [
    "Antes de esto, debemos definir los hiperparámetros. Los hiperparámetros, en este caso son: (1) el rango de aprendizaje; y (2) el número máximo de iteraciones."
   ]
  },
  {
   "cell_type": "code",
   "execution_count": 4,
   "metadata": {},
   "outputs": [],
   "source": [
    "#HIPERPARÁMETROS\n",
    "l = 1         #Rango de aprendizaje\n",
    "k = 10      #Num. maximo de iteraciones"
   ]
  },
  {
   "cell_type": "markdown",
   "metadata": {},
   "source": [
    "Asimismo, definimos la función de decisión.  En este caso, el algoritmo corre las predicciones de las clases de los datos a partir de los parámetros en ese estado: $$f(x) = \\begin{cases} 1 & \\text{ si } w\\cdot x + b > 0 \\\\  0 & \\text{ si } w\\cdot x + b \\leq 0 \\end{cases}$$"
   ]
  },
  {
   "cell_type": "code",
   "execution_count": 5,
   "metadata": {},
   "outputs": [],
   "source": [
    "#Función de decisión\n",
    "f = lambda x, theta: (np.dot(x,theta) >= 0).astype(np.int)"
   ]
  },
  {
   "cell_type": "markdown",
   "metadata": {},
   "source": [
    "En cada iteración, cada nuevo parámetro se calcula como: $$ w_i \\leftarrow w_i - \\eta (f(x^{(k)}) - y_k) x^{(k)}_i$$\n",
    "\n",
    "En particular, se nota que lo hace por cada uno de los $N$ ejemplos. Entonces, en general, podemos ver que para todos los datos de entrenamiento, el proceso de actualización es:\n",
    "\n",
    "$$w_i \\leftarrow w_i - \\eta \\sum_{k=1}^N(f(x^{(k)}) - y_k) x^{(k)}_i$$\n",
    "\n",
    "El algoritmo se detiene cuando alcanza un error igual a 0 o cuando se ha alcanzado el máximo número de iteraciones.\n",
    "\n",
    "Iniciamos los parámetros de forma aleatoria. En este caso, el vector de incio es $w = (1,1)^T$ y el bias es $b = 1$."
   ]
  },
  {
   "cell_type": "code",
   "execution_count": 6,
   "metadata": {},
   "outputs": [
    {
     "name": "stdout",
     "output_type": "stream",
     "text": [
      "Estado 1 \t prediccion [1 1 1 1] \t parametros [ 0.  0. -2.]\n",
      "Estado 2 \t prediccion [0 0 0 0] \t parametros [ 1.  1. -1.]\n",
      "Estado 3 \t prediccion [1 1 0 1] \t parametros [ 0.  0. -3.]\n",
      "Estado 4 \t prediccion [0 0 0 0] \t parametros [ 1.  1. -2.]\n",
      "Estado 5 \t prediccion [0 0 0 1] \t parametros [ 1.  1. -2.]\n"
     ]
    }
   ],
   "source": [
    "#Inicializción de parametros\n",
    "w = np.ones(n+1)\n",
    "\n",
    "#Iteración\n",
    "t = 1\n",
    "stop = False\n",
    "while  stop == False:\n",
    "    #FORWARD\n",
    "    #Funcion de prediccion\n",
    "    pred = f(X1,w) \n",
    "    #Error\n",
    "    err =  pred - Y\n",
    "    \n",
    "    #ACTUALIZACIÓN\n",
    "    #Gradiente descendiente\n",
    "    w -= l*((X1.T * err).T).sum(0)\n",
    "    \n",
    "    print('Estado', t, '\\t prediccion', pred, '\\t', end=\" \")\n",
    "    print('parametros', w)\n",
    "    \n",
    "    t += 1\n",
    "    #Criterio de paro\n",
    "    if (pred - Y).sum(0) == 0 or t > k: \n",
    "        stop = True"
   ]
  },
  {
   "cell_type": "markdown",
   "metadata": {},
   "source": [
    "A partir de este algoritmo, hemos aprendido los parámetros de la red que clasifican de forma adecuada los datos de entrada."
   ]
  },
  {
   "cell_type": "markdown",
   "metadata": {},
   "source": [
    "### Visualización\n",
    "\n",
    "Podemos ver que el perceptrón es un clasificador lineal. Esto es, crea un hiperplano en el espacio, de tal forma que todo lo que se encuentre arriba de este hiperpano pertenece a una clase, mientras que lo que se encuentre por debajo pertenece a la clase contraria. Para visalizar esto, debemos notar que la recta que define el vector de pesos $w$ y el bias $b$ está dada por el conjunto $l =\\{v : w\\cdot v = -b\\}$."
   ]
  },
  {
   "cell_type": "code",
   "execution_count": 7,
   "metadata": {},
   "outputs": [
    {
     "data": {
      "image/png": "[encoded data removed]",
      "text/plain": [
       "<Figure size 432x288 with 1 Axes>"
      ]
     },
     "metadata": {
      "needs_background": "light"
     },
     "output_type": "display_data"
    }
   ],
   "source": [
    "#Puntos extremos de la recta\n",
    "xs = [0, -w[2]/w[0]]\n",
    "ys = [-w[2]/w[1], 0]\n",
    "\n",
    "#Recta de decisión\n",
    "plt.plot(xs,ys,'k-')\n",
    "#Ploteo\n",
    "plt.scatter(X[:,0],X[:,1],c=f(X1,w), cmap='jet')\n",
    "plt.show()"
   ]
  },
  {
   "cell_type": "markdown",
   "metadata": {},
   "source": [
    "### El problema XOR\n",
    "\n",
    "El problema XOR es un problema que no puede solucionarse por el perceptrón; esto se debe a que no se trata de un problema linealmente separable."
   ]
  },
  {
   "cell_type": "code",
   "execution_count": 8,
   "metadata": {},
   "outputs": [
    {
     "data": {
      "image/png": "[encoded data removed]",
      "text/plain": [
       "<Figure size 432x288 with 1 Axes>"
      ]
     },
     "metadata": {
      "needs_background": "light"
     },
     "output_type": "display_data"
    }
   ],
   "source": [
    "Y_XOR = np.array([0,0,1,1])\n",
    "\n",
    "plt.scatter(X[:,0], X[:,1], c=Y_XOR, cmap='jet')\n",
    "plt.show()"
   ]
  },
  {
   "cell_type": "markdown",
   "metadata": {},
   "source": [
    "Podemos entrenar un perceptrón; sin embargo, el algoritmo no llegará a converger (por esto, es importante considerar un número máximo de iteraciones)."
   ]
  },
  {
   "cell_type": "code",
   "execution_count": 9,
   "metadata": {},
   "outputs": [
    {
     "name": "stdout",
     "output_type": "stream",
     "text": [
      "Estado 10 \t prediccion [1 1 1 1] \t parametros [0.9 0.9 0.8]\n",
      "Estado 20 \t prediccion [1 1 1 1] \t parametros [0.8 0.8 0.6]\n",
      "Estado 30 \t prediccion [1 1 1 1] \t parametros [0.7 0.7 0.4]\n",
      "Estado 40 \t prediccion [1 1 1 1] \t parametros [0.6 0.6 0.2]\n",
      "Estado 50 \t prediccion [1 1 1 1] \t parametros [ 5.00000000e-01  5.00000000e-01 -6.17561557e-16]\n",
      "Estado 60 \t prediccion [1 1 0 1] \t parametros [ 0.4  0.4 -0.1]\n",
      "Estado 70 \t prediccion [1 1 0 1] \t parametros [ 0.3  0.3 -0.2]\n",
      "Estado 80 \t prediccion [1 1 0 1] \t parametros [ 0.23  0.23 -0.24]\n",
      "Estado 90 \t prediccion [0 0 0 1] \t parametros [ 0.2  0.2 -0.2]\n"
     ]
    }
   ],
   "source": [
    "#Inicializción de parametros\n",
    "w_xor = np.ones(n+1)\n",
    "\n",
    "#Hiperparametros\n",
    "l = 0.01         #Rango de aprendizaje\n",
    "k = 99      #Num. maximo de iteraciones\n",
    "\n",
    "t = 1         #Iteracion inicial\n",
    "stop = False  #Criterio de paro\n",
    "while  stop == False:\n",
    "    pred = f(X1,w_xor)       #Funcion de prediccion\n",
    "    err =  pred - Y_XOR              #Error \n",
    "    w_xor -= l*((X1.T * err).T).sum(0) #Actualizacion de los parametros w\n",
    "    \n",
    "    if t%10 == 0:\n",
    "        print('Estado', t, '\\t prediccion', pred, '\\t', end=\" \")\n",
    "        print('parametros', w_xor)\n",
    "        \n",
    "    t += 1\n",
    "    if (pred - Y_XOR).sum(0) == 0 or t > k: #Criterio de paro\n",
    "        stop = True"
   ]
  },
  {
   "cell_type": "markdown",
   "metadata": {},
   "source": [
    "Podemos ver que la clasificación es incorrecta, el algoritmo nunca convergerá, pero tratará de minimizar el error. Esto implica que siempre habrá al menos un punto que no clasifique de manera correcta."
   ]
  },
  {
   "cell_type": "code",
   "execution_count": 10,
   "metadata": {},
   "outputs": [
    {
     "data": {
      "image/png": "[encoded data removed]",
      "text/plain": [
       "<Figure size 432x288 with 1 Axes>"
      ]
     },
     "metadata": {
      "needs_background": "light"
     },
     "output_type": "display_data"
    },
    {
     "name": "stdout",
     "output_type": "stream",
     "text": [
      "Clasificación: [0 0 0 1]\n",
      "Parámetros: [ 0.17  0.17 -0.17]\n"
     ]
    }
   ],
   "source": [
    "#Limites de la decisión\n",
    "x_xor = [0, -w_xor[2]/w_xor[0]] \n",
    "y_xor = [-w_xor[2]/w_xor[1], 0]\n",
    "\n",
    "#Recta de decisión\n",
    "plt.plot(x_xor,y_xor,'k-')\n",
    "#Ploteo\n",
    "plt.scatter(X[:,0],X[:,1],c=f(X1,w_xor), cmap='jet')\n",
    "plt.show()\n",
    "\n",
    "#Clases y pesos\n",
    "print('Clasificación:', f(X1,w_xor))\n",
    "print('Parámetros:', w_xor)"
   ]
  },
  {
   "cell_type": "markdown",
   "metadata": {},
   "source": [
    "Para solucionar este problema, tendremos que utilizar un método más potente que el perceptrón: el perceptrón multicapa."
   ]
  }
 ],
 "metadata": {
  "kernelspec": {
   "display_name": "Python 3",
   "language": "python",
   "name": "python3"
  },
  "language_info": {
   "codemirror_mode": {
    "name": "ipython",
    "version": 3
   },
   "file_extension": ".py",
   "mimetype": "text/x-python",
   "name": "python",
   "nbconvert_exporter": "python",
   "pygments_lexer": "ipython3",
   "version": "3.8.5"
  }
 },
 "nbformat": 4,
 "nbformat_minor": 2
}
