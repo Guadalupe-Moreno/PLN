{
 "cells": [
  {
   "cell_type": "markdown",
   "metadata": {
    "collapsed": true
   },
   "source": [
    "# Red neuronal reccurente"
   ]
  },
  {
   "cell_type": "markdown",
   "metadata": {},
   "source": [
    "Analizaremos la estructura de una red recurrente simple. Nuestro objetivo será construir un modelo del lenguaje que tome como cadena de entrada una secuencia de palabras $w_1,...,w_T$ y cuya salida sean las probabilidades $p(w_i|w_{i-1})$. La idea es que el modelo del lenguaje tome en cuenta todos los estados anteriores. De esta forma, estableceremos una probabilidad: \n",
    "$$p(w_i|w_{i-1},...,w_1)$$\n",
    "\n",
    "Para realizar esta probabilidad utilizaremos una arquitectura de red neuronal recurrente (RNN). En primer lugar definiremos algunas funciones para manejar el texto."
   ]
  },
  {
   "cell_type": "code",
   "execution_count": 1,
   "metadata": {},
   "outputs": [],
   "source": [
    "#-*- encoding:utf-8 -*-\n",
    "import numpy as np\n",
    "from collections import defaultdict, Counter\n",
    "from itertools import chain\n",
    "\n",
    "#Funcion que crea un vocabulario de palabras con un indice numerico\n",
    "def vocab():\n",
    "    vocab = defaultdict()\n",
    "    vocab.default_factory = lambda: len(vocab)\n",
    "    return vocab    \n",
    "\n",
    "#Funcion que pasa la cadena de simbolos a una secuencia con indices numericos\n",
    "def text2numba(corpus, vocab):\n",
    "    for doc in corpus:\n",
    "        yield [vocab[w] for w in doc.split()]"
   ]
  },
  {
   "cell_type": "markdown",
   "metadata": {},
   "source": [
    "Al igual que con modelos del lenguaje más tradicionales, tomamos un corpus e indexamos las palabras con valores numéricos, con el objetivo de que sea más fácil manejarlas."
   ]
  },
  {
   "cell_type": "code",
   "execution_count": 2,
   "metadata": {},
   "outputs": [
    {
     "name": "stdout",
     "output_type": "stream",
     "text": [
      "[[0, 1, 2, 3, 4], [3, 5, 6], [0, 5, 7, 8, 9], [3, 1, 2, 10], [0, 1, 2], [0, 11, 2, 10], [3, 11, 2]]\n"
     ]
    }
   ],
   "source": [
    "corpus = ['el perro come un hueso', 'un muchacho jugaba', 'el muchacho saltaba la cuerda',\n",
    "          'un perro come croquetas', 'el perro come', 'el gato come croquetas', 'un gato come']\n",
    "\n",
    "#Llamamos la funcion para crear el vocabulario\n",
    "idx = vocab()\n",
    "#Creamos el vocabulario y le asignamos un indice a cada simbolo segun su aparicion\n",
    "cads_idx = list(text2numba(corpus,idx))\n",
    "\n",
    "print(cads_idx)"
   ]
  },
  {
   "cell_type": "markdown",
   "metadata": {},
   "source": [
    "Además, tenemos que añadir los símbolos de BOS (Beginning Of Sentence) y EOS (End Of Sentence). Estas palabras también se añaden al vocabulario con índices numéricos."
   ]
  },
  {
   "cell_type": "code",
   "execution_count": 3,
   "metadata": {},
   "outputs": [
    {
     "name": "stdout",
     "output_type": "stream",
     "text": [
      "defaultdict(<function vocab.<locals>.<lambda> at 0x7f4e08b0c550>, {'el': 0, 'perro': 1, 'come': 2, 'un': 3, 'hueso': 4, 'muchacho': 5, 'jugaba': 6, 'saltaba': 7, 'la': 8, 'cuerda': 9, 'croquetas': 10, 'gato': 11, '<EOS>': 12, '<BOS>': 13})\n"
     ]
    }
   ],
   "source": [
    "#Indicamos las etiquetas a usar\n",
    "EOS = '<EOS>'\n",
    "BOS = '<BOS>'\n",
    "\n",
    "#Cada etiqeuta se le asigna un indice numerico\n",
    "BOS_IDX = max(idx.values())+2\n",
    "EOS_IDX = max(idx.values())+1\n",
    "\n",
    "#Se agregan estas etiqeutas al vocabulario\n",
    "idx[EOS] = EOS_IDX\n",
    "idx[BOS] = BOS_IDX\n",
    "\n",
    "#A cada cadena se le agrega la etiqueta BOS al inicio y EOS al final\n",
    "cadenas = [[BOS_IDX] + cad + [EOS_IDX] for cad in cads_idx]\n",
    "\n",
    "#Se obtiene la longitud del alfabeto\n",
    "N = len(idx)\n",
    "\n",
    "print(idx)"
   ]
  },
  {
   "cell_type": "markdown",
   "metadata": {},
   "source": [
    "### Entrenamiento de la red\n",
    "\n",
    "Para construir la red neuronal definiremos una arquitectura simple:\n",
    "\n",
    "1) Incorporaremos una capa de embedding. En esta se tomará un one-hot $s^{(t)}$ que represente a una palabra $w_t$. Definiremos una matriz que guarde los vectores de embedding, $C$ de $d\\times N$, donde $d$ es la dimensión de los embeddings y $N$ el tamaño del vocabulario. Así, la capa de embedding estará definida por $$x = Cs^{(t)}$$\n",
    "\n",
    "2) Incorporaremos una celda que guarde los estados; esta celda tendra dimensión $m$. Está se definirá como $$h_t = \\tanh(Vh_{t-1} + Ux + b)$$ Donde $h_{t-1}$ es la celda en el estado anterior, $V$ es una matriz de $m \\times m$, $U$ una matriz de $d \\times m$ y $b$ es el bias.\n",
    "\n",
    "3) La capa de salida se conformará por la función Softmax. Así, la definimos como $$\\phi(x) = Softmax(Wh_t + c)$$\n",
    "\n",
    "En primer lugar, inicializamos los parámetros de la red."
   ]
  },
  {
   "cell_type": "code",
   "execution_count": 4,
   "metadata": {},
   "outputs": [],
   "source": [
    "np.random.seed(0)\n",
    "#El número de rasgos que representan cada vector\n",
    "nn_input_dim = N\n",
    "#El total de clases que arrojará\n",
    "output_dim = N-1\n",
    "\n",
    "#Dimensiones de los vectores-palabra\n",
    "dim = 2\n",
    "cell_dim = 3\n",
    "\n",
    "#Embedding\n",
    "C = np.random.randn(dim,nn_input_dim) / np.sqrt(nn_input_dim)\n",
    "\n",
    "#Capa oculta, estados anteriores\n",
    "V = np.random.randn(cell_dim,cell_dim) / np.sqrt(cell_dim)\n",
    "\n",
    "#Capa oculta, entrada\n",
    "U = np.random.randn(cell_dim,dim) / np.sqrt(dim)\n",
    "b = np.zeros(cell_dim)\n",
    "\n",
    "#Capa de salida\n",
    "W = np.random.randn(output_dim,cell_dim) / np.sqrt(cell_dim)\n",
    "c = np.zeros(output_dim)"
   ]
  },
  {
   "cell_type": "markdown",
   "metadata": {},
   "source": [
    "A continuación, definimos el entrenamiento: la fase de forward y el backpropagation. Utilizamos un rango de aprendizaje (lr) de 0.1 y 100 iteraciones (it)."
   ]
  },
  {
   "cell_type": "code",
   "execution_count": 5,
   "metadata": {},
   "outputs": [],
   "source": [
    "it = 100\n",
    "lr = 0.1\n",
    "\n",
    "for t in range(it):\n",
    "        \n",
    "    for seq in cadenas:\n",
    "        #Inicializaciopn de estados\n",
    "        h = np.zeros((len(seq)+1,cell_dim))\n",
    "\n",
    "        for t,w in enumerate(seq):\n",
    "            #FORWARD\n",
    "            #Embedding\n",
    "            x = C.T[w]\n",
    "            \n",
    "            #Unidad oculta\n",
    "            act = np.dot(V,h[t]) + np.dot(U,x) + b\n",
    "            h[t+1] = np.tanh(act)\n",
    "\n",
    "            #capa de salida\n",
    "            preAct = np.exp(np.dot(W,h[t+1]) + c)\n",
    "            #Softmax\n",
    "            probs = preAct/preAct.sum(0)\n",
    "            \n",
    "            #BACK-PROP\n",
    "            #Variable de salida\n",
    "            d_out = probs\n",
    "            if t < len(seq)-1:\n",
    "                d_out[seq[t+1]] -= 1\n",
    "            else:\n",
    "                d_out[EOS_IDX] -= 1\n",
    "            \n",
    "            #Variable de celdas\n",
    "            d_h = (1-h[t+1]**2)*np.dot(W.T,d_out)\n",
    "            #Variable de embedding\n",
    "            d_emb = np.dot(U.T,d_h)\n",
    "\n",
    "            #Jacobianas\n",
    "            dW = np.outer(d_out,h[t+1])\n",
    "            dV = np.outer(d_h, h[t])\n",
    "            dU = np.outer(d_h, x)\n",
    "\n",
    "            #Gradientes descendientes\n",
    "            W -= lr*dW\n",
    "            c -= lr*d_out\n",
    "            \n",
    "            V -= lr*dV\n",
    "            \n",
    "            U -= lr*dU\n",
    "            b -= lr*d_h\n",
    "            \n",
    "            C.T[w] -= lr*d_emb"
   ]
  },
  {
   "cell_type": "markdown",
   "metadata": {},
   "source": [
    "Una vez entrenado el modelo, definimos una función (forward) que corra la red sobre una cadena de entrada."
   ]
  },
  {
   "cell_type": "code",
   "execution_count": 6,
   "metadata": {},
   "outputs": [],
   "source": [
    "def forward(sent, h = np.zeros(cell_dim)):\n",
    "    sent = sent.split()\n",
    "    prob_tot = np.zeros((len(sent),N-1))\n",
    "    \n",
    "    for t,w in enumerate(sent):\n",
    "        #FORWARD\n",
    "        #embedding\n",
    "        x= C.T[idx[w]]\n",
    "        #Unidad oculta\n",
    "        act = np.dot(V,h) + np.dot(U,x) + b\n",
    "        h = np.tanh(act)\n",
    "\n",
    "        #capa de salida\n",
    "        preAct = np.exp(np.dot(W,h) + c)\n",
    "        probs = preAct/preAct.sum(0)\n",
    "        \n",
    "        #Se almacenan las probabilidades\n",
    "        prob_tot[t] = probs\n",
    "        \n",
    "    return h, prob_tot       "
   ]
  },
  {
   "cell_type": "markdown",
   "metadata": {},
   "source": [
    "Finalmente, podemos aplicar la red a una cadena para obtener su probabilidad. Como modelo del lenguaje, podemos aplicar para obtener las probabilidades de transición. Por ejemplo, si la aplicamos al símbolos BOS, obtendremos las probabilidades de que una palabra inicie una cadena."
   ]
  },
  {
   "cell_type": "code",
   "execution_count": 7,
   "metadata": {},
   "outputs": [
    {
     "name": "stdout",
     "output_type": "stream",
     "text": [
      "el 0.5285601165695673\n",
      "perro 0.0004364628440876486\n",
      "come 6.482490402735659e-07\n",
      "un 0.44316651915926775\n",
      "hueso 0.005615866539487745\n",
      "muchacho 0.00029911199792510487\n",
      "jugaba 0.006472277650473759\n",
      "saltaba 0.0050914846763759234\n",
      "la 5.66109497427003e-05\n",
      "cuerda 5.2713003695262495e-05\n",
      "croquetas 0.0011741025429548352\n",
      "gato 0.0003070144451515262\n",
      "<EOS> 0.008767071372230392\n",
      "1.0\n"
     ]
    }
   ],
   "source": [
    "H,p = forward('<BOS>')\n",
    "for word, j in idx.items():\n",
    "    if word != '<BOS>':\n",
    "        print(word, p[0][j])\n",
    "        \n",
    "print(p[0].sum(0))"
   ]
  },
  {
   "cell_type": "markdown",
   "metadata": {
    "collapsed": true
   },
   "source": [
    "Asimismo, podemos obtener las probabilidades de una palabra dada las $n$ anteriores, lo que determina un modelo de $n-gramas$. Por ejemplo, podemos obtener probabilidades del tipo $p(w_i|w_{i-1},w_{i-2})$."
   ]
  },
  {
   "cell_type": "code",
   "execution_count": 8,
   "metadata": {},
   "outputs": [
    {
     "name": "stdout",
     "output_type": "stream",
     "text": [
      "el 0.003907044736765696\n",
      "perro 0.0013100637951481589\n",
      "come 0.0003117250387051234\n",
      "un 0.2286612891006706\n",
      "hueso 0.3062420805488038\n",
      "muchacho 0.0018121684845638687\n",
      "jugaba 0.08717567646666646\n",
      "saltaba 0.06776524463969273\n",
      "la 0.06606538211868808\n",
      "cuerda 0.07763533526861062\n",
      "croquetas 0.1380831013143516\n",
      "gato 0.002332245477676022\n",
      "<EOS> 0.01869864300965699\n",
      "0.9999999999999999\n"
     ]
    }
   ],
   "source": [
    "H,p = forward('un gato come un')\n",
    "for word, j in idx.items():\n",
    "    if word != '<BOS>':\n",
    "        print(word, p[3][j])\n",
    "\n",
    "print(p[-1].sum(0))"
   ]
  },
  {
   "cell_type": "markdown",
   "metadata": {},
   "source": [
    "Más aún, podemos notar que la probabilidad de una cadena completa puede darse como:\n",
    "\n",
    "$$p(w_1,...,w_T) = \\prod_{t=1}^T p(w_t|w_1,...,w_{t-1})$$"
   ]
  },
  {
   "cell_type": "code",
   "execution_count": 9,
   "metadata": {},
   "outputs": [
    {
     "name": "stdout",
     "output_type": "stream",
     "text": [
      "Probabilidad cadena \"el perro come un hueso\" es 0.0068271038141444395\n",
      "Probabilidad cadena \"cuerda gato cuerda la saltaba\" es 1.4642360021436627e-18\n"
     ]
    }
   ],
   "source": [
    "def prob_total(string):\n",
    "    #Agrega símbolo de inicio para prob inicial\n",
    "    frase = '<BOS> ' + string\n",
    "    #Aplica la red para obtener probs\n",
    "    H,p = forward(frase)\n",
    "    #Inicia probabilidad de cadena\n",
    "    prob = 1\n",
    "    #Separa la frase en palabra\n",
    "    words = frase.split()\n",
    "    for j in range(len(words)-1):\n",
    "        #Siguiente palabra\n",
    "        nxt = words[j+1]\n",
    "        #Prob de nxt_word dado anteriores\n",
    "        prob *= p[j][idx[nxt]]\n",
    "    \n",
    "    return prob\n",
    " \n",
    "#Ejemplos de probabilidades\n",
    "frase1 = 'el perro come un hueso'\n",
    "frase2 = 'cuerda gato cuerda la saltaba'\n",
    "prob1 = prob_total(frase1)\n",
    "prob2 = prob_total(frase2)\n",
    "\n",
    "print('Probabilidad cadena \"{}\" es {}\\nProbabilidad cadena \"{}\" es {}'.format(frase1,prob1, frase2,prob2))"
   ]
  },
  {
   "cell_type": "markdown",
   "metadata": {},
   "source": [
    "### Ploteo de los embeddings"
   ]
  },
  {
   "cell_type": "markdown",
   "metadata": {},
   "source": [
    "Además de obtener una probabilidad de cadenas, el modelo que hemos descrito aprende representaciones vectoriales de la palabra o embeddings. Al igual que el modelo de Word2Vec, podemos ocupar una arquitectura recurrente para obtener embeddings de palabra. Aquí hemos descrito una versión muy sencilla de esto. Modelos más complejos son CoVe (McCann, 2017) o ELMo (Peters et al., 2018)."
   ]
  },
  {
   "cell_type": "code",
   "execution_count": 10,
   "metadata": {},
   "outputs": [],
   "source": [
    "import matplotlib.pyplot as plt\n",
    "from sklearn.decomposition import PCA\n",
    "from sklearn.manifold import TSNE\n",
    "from operator import itemgetter\n",
    "\n",
    "#Funcion para plotear los datos con labels\n",
    "def plot_words(Z,ids):\n",
    "    #Reduce la dimensionalidad a 2\n",
    "    Z = PCA(2).fit_transform(Z)\n",
    "    \n",
    "    #Plotea con la marcas (marker) y el color indicado (c)\n",
    "    r=0\n",
    "    plt.scatter(Z[:,0],Z[:,1], marker='o', c='blue')\n",
    "    for label,x,y in zip(ids, Z[:,0], Z[:,1]):\n",
    "        plt.annotate(label, xy=(x,y), xytext=(-1,1), textcoords='offset points', ha='center', va='bottom')\n",
    "        r+=1\n",
    "    #plt.show()\n",
    "\n",
    "#Ordena las etiquetas para que coincidan con los vectores-renglón de la matriz de embedding\n",
    "label = [w[0] for w in sorted(idx.items(), key=itemgetter(1))]"
   ]
  },
  {
   "cell_type": "markdown",
   "metadata": {},
   "source": [
    "Así, la visualización de los datos es la siguiente:"
   ]
  },
  {
   "cell_type": "code",
   "execution_count": 11,
   "metadata": {},
   "outputs": [
    {
     "data": {
      "image/png": "[encoded data removed]",
      "text/plain": [
       "<Figure size 432x288 with 1 Axes>"
      ]
     },
     "metadata": {
      "needs_background": "light"
     },
     "output_type": "display_data"
    }
   ],
   "source": [
    "plot_words(C.T[:-2],label)"
   ]
  },
  {
   "cell_type": "markdown",
   "metadata": {},
   "source": [
    "### Calculo de similitud\n",
    "\n",
    "Para calcular la similitud entre vectores, se puede utilizar la distancia eculideana o bien el coseno. En NLP el coseno es una forma común de determinar la similitud entre vectores. Este se define como:\n",
    "\n",
    "$$\\cos(x,y) = \\frac{x\\cdot y}{||x|| ||y||}$$\n",
    "\n",
    "Asimismo, para simplificar el calculo del coseno se pueden normalizar los vectores, dividiéndolos entre sus normas. Así, para cada vector $x$ su norma es $||x||=1$, lo que simplifica la ecuación anterior a:\n",
    "\n",
    "$$\\cos(x,y) = x\\cdot y$$"
   ]
  },
  {
   "cell_type": "code",
   "execution_count": 12,
   "metadata": {},
   "outputs": [
    {
     "data": {
      "image/png": "[encoded data removed]",
      "text/plain": [
       "<Figure size 432x288 with 1 Axes>"
      ]
     },
     "metadata": {
      "needs_background": "light"
     },
     "output_type": "display_data"
    }
   ],
   "source": [
    "#Normalización de los vecotores\n",
    "C_norm = (C/np.array([np.linalg.norm(w) for w in C.T])).T\n",
    "\n",
    "#Ploteo\n",
    "plot_words(C_norm[:-2],label)"
   ]
  },
  {
   "cell_type": "code",
   "execution_count": 13,
   "metadata": {},
   "outputs": [
    {
     "name": "stdout",
     "output_type": "stream",
     "text": [
      "el \t -0.9821469818981463\n",
      "perro \t 1.0\n",
      "come \t 0.23550496393158288\n",
      "un \t -0.74192552339308\n",
      "hueso \t 0.436635479123061\n",
      "muchacho \t -0.9844648782401342\n",
      "jugaba \t 0.2766337688472683\n",
      "saltaba \t -0.1572841332842866\n",
      "la \t 0.15775286431490548\n",
      "cuerda \t 0.5566932040953324\n",
      "croquetas \t 0.6176211750615836\n",
      "gato \t 0.9999861338711007\n",
      "<EOS> \t 0.6886874463607017\n",
      "<BOS> \t -0.7805839943224248\n"
     ]
    }
   ],
   "source": [
    "#Palabra objetivo\n",
    "obj_word = C_norm[idx['perro']]\n",
    "\n",
    "#Búsqueda de palabras más similares\n",
    "for w,v in idx.items():\n",
    "    #Calcula la distancia coseno\n",
    "    print(w,'\\t', np.dot(C_norm[v], obj_word) )"
   ]
  },
  {
   "cell_type": "markdown",
   "metadata": {},
   "source": [
    "### Predicción de secuencias"
   ]
  },
  {
   "cell_type": "markdown",
   "metadata": {},
   "source": [
    "Una aplicación típica de este tipo de modelos es la generación de secuencias; esto tiene aplicaciones, por ejemplo, en la predicción automática de texto, en agentes conversacionales, entre otras. La idea es introducir una secuencia inicial $x^{(1)},...,x^{(t)}$ y que se prediga los elementos subsecuentes. Esto de la forma siguiente:\n",
    "\n",
    "$$\\hat{y}^{(t+1)} = \\arg\\max_y p(y|x^{(1)},...,x^{(t)})$$\n",
    "\n",
    "Donde $y$ son los posibles elementos de un alfabeto. En el siguiente estado, $t+2$, se querrá predecir un elemento que siga a la secuencia $x^{(1)},...,x^{(t)}, \\hat{y}^{(t+1)}$, por lo que tenemos que calcular:\n",
    "\n",
    "$$\\hat{y}^{(t+2)} = \\arg\\max_y p(y|x^{(1)},...,x^{(t)}, \\hat{y}^{(t+1)})$$\n",
    "\n",
    "Es decir, el símbolo $\\hat{y}^{(t+1)}$ será la entrada de la RNN en el estado siguiente. De manera general, queremos obtener:\n",
    "\n",
    "$$\\hat{y}^{(t+i)} = \\arg\\max_y p(y|x^{(1)},...,x^{(t)},\\hat{y}^{(t+1)}, ..., \\hat{y}^{(t+i-1)})$$\n",
    "\n",
    "La secuencia terminará cuando $\\hat{y}^{(t+i)} = EOS$ para alguna $i$.\n"
   ]
  },
  {
   "cell_type": "code",
   "execution_count": 14,
   "metadata": {},
   "outputs": [],
   "source": [
    "def forward_prediction(sent):\n",
    "    arg_idx = BOS_IDX\n",
    "    words = []\n",
    "    \n",
    "    h, probs = forward(sent)\n",
    "    arg_max = list(idx.keys())[list(idx.values()).index(np.argmax(probs[-1]))]\n",
    "    words.append(arg_max)\n",
    "    \n",
    "    while arg_max != '<EOS>':\n",
    "        h, probs = forward(arg_max,h)\n",
    "        arg_max = list(idx.keys())[list(idx.values()).index(np.argmax(probs[-1]))]\n",
    "        words.append(arg_max)    \n",
    "        \n",
    "    return sent + ' ' + ' '.join(words)"
   ]
  },
  {
   "cell_type": "markdown",
   "metadata": {},
   "source": [
    "Definido esta función, podemos autocompletar sentencias:"
   ]
  },
  {
   "cell_type": "code",
   "execution_count": 15,
   "metadata": {},
   "outputs": [
    {
     "name": "stdout",
     "output_type": "stream",
     "text": [
      "<BOS> un gato come <EOS>\n",
      "<BOS> perro saltaba la <EOS>\n",
      "<BOS> el perro saltaba <EOS>\n",
      "<BOS> el gato come <EOS>\n"
     ]
    }
   ],
   "source": [
    "print( forward_prediction('<BOS> un') )\n",
    "print( forward_prediction('<BOS> perro saltaba la') )\n",
    "print( forward_prediction('<BOS> el perro saltaba') )\n",
    "print( forward_prediction('<BOS> el gato') )"
   ]
  },
  {
   "cell_type": "markdown",
   "metadata": {},
   "source": [
    "Otras aplicaciones de las RNN son la traducción automática, el etiquetado (a diferentes niveles), sistemas de voz a texto y de texto a voz, etc. Sin embargo, en la actualidad se utilizan arquitecturas más compejas, como LSTMs y capas de atención."
   ]
  },
  {
   "cell_type": "markdown",
   "metadata": {},
   "source": [
    "### Visualización de las celdas recurrentes\n",
    "\n",
    "Las celdas recurrentes guardan información tanto de los vectores de entrada como de la red en estados anteriores. Estas celdas tienen información importante que le permite a la red decidir la distribución de salida en un estado dado. Algunos modelos de representación vectorial (word embeddings) han aprovechado la información aquí almacenada para producir vectores de palabraS; sistemas como CoVe toman en cuenta estas celdas para \"contextualizar\" los embeddings.\n",
    "\n",
    "Lo primero que haremos es definir un función que, además de devolver la probabilidad de salida, regrese cada una de las celdas recursivas en cada estado $t$. Así, obtendremos una matriz $H$ donde cada renglon será una celda vanilla. Podemos definir esta matriz por sus renglones como:\n",
    "\n",
    "$$H_{t} = g(Vh^{(t-1)} + Ux^{(t)} + b)$$"
   ]
  },
  {
   "cell_type": "code",
   "execution_count": 16,
   "metadata": {},
   "outputs": [],
   "source": [
    "def get_cells(sent, h = np.zeros(cell_dim)):\n",
    "    sent = sent.split()\n",
    "    prob_tot = np.zeros((len(sent),N-1))\n",
    "    #Guarda las celdas vanillas por cada estado\n",
    "    H = np.zeros((len(sent), cell_dim))\n",
    "    \n",
    "    for t,w in enumerate(sent):\n",
    "        #FORWARD\n",
    "        #embedding\n",
    "        x= C.T[idx[w]]\n",
    "        #Unidad oculta\n",
    "        act = np.dot(V,h) + np.dot(U,x) + b\n",
    "        h = np.tanh(act)\n",
    "        #add h\n",
    "        H[t] = h\n",
    "\n",
    "        #capa de salida\n",
    "        preAct = np.exp(np.dot(W,h) + c)\n",
    "        probs = preAct/preAct.sum(0)\n",
    "        \n",
    "        #Se almacenan las probabilidades\n",
    "        prob_tot[t] = probs\n",
    "        \n",
    "    return H, prob_tot "
   ]
  },
  {
   "cell_type": "markdown",
   "metadata": {},
   "source": [
    "Entonces, dada una cadena, se obtendrá una celda vanilla para cada palabra en la cadena. De esta forma, podemos pensar que esta celda representa a la palabra  y su historia (las palabras que lo anteceden). Podemos visualizarlos, entonces, en un espacio vectorial."
   ]
  },
  {
   "cell_type": "code",
   "execution_count": 17,
   "metadata": {},
   "outputs": [
    {
     "data": {
      "image/png": "[encoded data removed]",
      "text/plain": [
       "<Figure size 432x288 with 1 Axes>"
      ]
     },
     "metadata": {
      "needs_background": "light"
     },
     "output_type": "display_data"
    }
   ],
   "source": [
    "ex_sent = 'el gato come un hueso'\n",
    "H_s, p_s = get_cells(ex_sent)\n",
    "\n",
    "plot_words(H_s,ex_sent.split())\n",
    "plt.show()"
   ]
  },
  {
   "cell_type": "markdown",
   "metadata": {},
   "source": [
    "Se puede ver cómo varían las celdas vanillas. Algunas de estas guardan cierta relación. Sin embargo, una interpretación precisa puede resultar complicada."
   ]
  },
  {
   "cell_type": "code",
   "execution_count": 18,
   "metadata": {},
   "outputs": [
    {
     "data": {
      "image/png": "[encoded data removed]",
      "text/plain": [
       "<Figure size 432x288 with 1 Axes>"
      ]
     },
     "metadata": {
      "needs_background": "light"
     },
     "output_type": "display_data"
    },
    {
     "name": "stdout",
     "output_type": "stream",
     "text": [
      "[[-0.58511047 -0.73715014 -0.39867304]\n",
      " [ 0.09435091  0.91857351  0.99802444]\n",
      " [-0.76924616 -0.89104545  0.94759988]\n",
      " [-0.98286294 -0.99837484  0.00459508]\n",
      " [ 0.93930143 -0.83909084  0.98877931]]\n"
     ]
    }
   ],
   "source": [
    "plt.plot(H_s.T, '-')\n",
    "plt.gca().legend(ex_sent.split())\n",
    "plt.show()\n",
    "print(H_s)"
   ]
  },
  {
   "cell_type": "markdown",
   "metadata": {},
   "source": [
    "   "
   ]
  }
 ],
 "metadata": {
  "kernelspec": {
   "display_name": "Python 3",
   "language": "python",
   "name": "python3"
  },
  "language_info": {
   "codemirror_mode": {
    "name": "ipython",
    "version": 3
   },
   "file_extension": ".py",
   "mimetype": "text/x-python",
   "name": "python",
   "nbconvert_exporter": "python",
   "pygments_lexer": "ipython3",
   "version": "3.8.5"
  }
 },
 "nbformat": 4,
 "nbformat_minor": 2
}
