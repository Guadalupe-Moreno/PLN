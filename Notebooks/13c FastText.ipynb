{
 "cells": [
  {
   "cell_type": "markdown",
   "metadata": {
    "colab_type": "text",
    "id": "8blzJvSyF5Gf"
   },
   "source": [
    "# fastText y clustering espectral\n",
    "\n",
    "fasText es un método, creado por Facebook, para generar representaciones vectoriales de palabras (embeddings). Es similar a Word2Vec pero tiene la característica de modelar no sólo palabras completas sino también subcadenas (subwords). Gracias a esto, y a la noción  de \"composición\", puede construir la representación de una palabra que nunca vio en el entrenamiento, a partir de la combinación de l representaciones de sus partes/subcadenas. \n",
    "\n",
    "En este notebook entrenaremos representaciones fastText a partir de un corpus en español y posteriormente realizaremos agrupamiento usando la técnica de clustering espectral.\n",
    "\n",
    "\n",
    "## 1. Representación vectorial de palabras con fastText\n",
    "\n",
    "Vamos a instalar fastText de manera nativa usando el repositorio de github y la línea de comandos:\n",
    "\n"
   ]
  },
  {
   "cell_type": "code",
   "execution_count": 1,
   "metadata": {
    "colab": {
     "base_uri": "https://localhost:8080/",
     "height": 1000
    },
    "colab_type": "code",
    "id": "Um289bl9Wsw_",
    "outputId": "2eeb8afb-dd5c-4813-811f-0f87a12ca99e"
   },
   "outputs": [
    {
     "name": "stdout",
     "output_type": "stream",
     "text": [
      "--2020-11-26 10:46:09--  https://github.com/facebookresearch/fastText/archive/v0.9.1.zip\n",
      "Resolviendo github.com (github.com)... 140.82.112.3\n",
      "Conectando con github.com (github.com)[140.82.112.3]:443... conectado.\n",
      "Petición HTTP enviada, esperando respuesta... 302 Found\n",
      "Ubicación: https://codeload.github.com/facebookresearch/fastText/zip/v0.9.1 [siguiente]\n",
      "--2020-11-26 10:46:09--  https://codeload.github.com/facebookresearch/fastText/zip/v0.9.1\n",
      "Resolviendo codeload.github.com (codeload.github.com)... 140.82.114.10\n",
      "Conectando con codeload.github.com (codeload.github.com)[140.82.114.10]:443... conectado.\n",
      "Petición HTTP enviada, esperando respuesta... 200 OK\n",
      "Longitud: no especificado [application/zip]\n",
      "Guardando como: “v0.9.1.zip”\n",
      "\n",
      "v0.9.1.zip              [            <=>     ]   4.13M   465KB/s    en 10s     \n",
      "\n",
      "2020-11-26 10:46:20 (422 KB/s) - “v0.9.1.zip” guardado [4327207]\n",
      "\n",
      "Archive:  v0.9.1.zip\n",
      "b5b7d307274ce00ef52198fbc692ed3bd11d9856\n",
      "   creating: fastText-0.9.1/\n",
      "   creating: fastText-0.9.1/.circleci/\n",
      "  inflating: fastText-0.9.1/.circleci/cmake_test.sh  \n",
      "  inflating: fastText-0.9.1/.circleci/config.yml  \n",
      "  inflating: fastText-0.9.1/.circleci/gcc_test.sh  \n",
      "  inflating: fastText-0.9.1/.circleci/pip_test.sh  \n",
      "  inflating: fastText-0.9.1/.circleci/pull_data.sh  \n",
      "  inflating: fastText-0.9.1/.circleci/python_test.sh  \n",
      "  inflating: fastText-0.9.1/.circleci/run_locally.sh  \n",
      "  inflating: fastText-0.9.1/.circleci/setup_circleimg.sh  \n",
      "  inflating: fastText-0.9.1/.circleci/setup_debian.sh  \n",
      "  inflating: fastText-0.9.1/.gitignore  \n",
      "  inflating: fastText-0.9.1/CMakeLists.txt  \n",
      "  inflating: fastText-0.9.1/CODE_OF_CONDUCT.md  \n",
      "  inflating: fastText-0.9.1/CONTRIBUTING.md  \n",
      "  inflating: fastText-0.9.1/LICENSE  \n",
      "  inflating: fastText-0.9.1/MANIFEST.in  \n",
      "  inflating: fastText-0.9.1/Makefile  \n",
      "  inflating: fastText-0.9.1/README.md  \n",
      "   creating: fastText-0.9.1/alignment/\n",
      "  inflating: fastText-0.9.1/alignment/README.md  \n",
      "  inflating: fastText-0.9.1/alignment/align.py  \n",
      "  inflating: fastText-0.9.1/alignment/eval.py  \n",
      "  inflating: fastText-0.9.1/alignment/example.sh  \n",
      "  inflating: fastText-0.9.1/alignment/unsup_align.py  \n",
      "  inflating: fastText-0.9.1/alignment/utils.py  \n",
      "  inflating: fastText-0.9.1/classification-example.sh  \n",
      "  inflating: fastText-0.9.1/classification-results.sh  \n",
      "   creating: fastText-0.9.1/crawl/\n",
      "  inflating: fastText-0.9.1/crawl/README.md  \n",
      "  inflating: fastText-0.9.1/crawl/dedup.cc  \n",
      "  inflating: fastText-0.9.1/crawl/download_crawl.sh  \n",
      "  inflating: fastText-0.9.1/crawl/filter_dedup.sh  \n",
      "  inflating: fastText-0.9.1/crawl/filter_utf8.cc  \n",
      "  inflating: fastText-0.9.1/crawl/process_wet_file.sh  \n",
      "   creating: fastText-0.9.1/docs/\n",
      "  inflating: fastText-0.9.1/docs/aligned-vectors.md  \n",
      "  inflating: fastText-0.9.1/docs/api.md  \n",
      "  inflating: fastText-0.9.1/docs/cheatsheet.md  \n",
      "  inflating: fastText-0.9.1/docs/crawl-vectors.md  \n",
      "  inflating: fastText-0.9.1/docs/dataset.md  \n",
      "  inflating: fastText-0.9.1/docs/english-vectors.md  \n",
      "  inflating: fastText-0.9.1/docs/faqs.md  \n",
      "  inflating: fastText-0.9.1/docs/language-identification.md  \n",
      "  inflating: fastText-0.9.1/docs/options.md  \n",
      "  inflating: fastText-0.9.1/docs/pretrained-vectors.md  \n",
      "  inflating: fastText-0.9.1/docs/python-module.md  \n",
      "  inflating: fastText-0.9.1/docs/references.md  \n",
      "  inflating: fastText-0.9.1/docs/supervised-models.md  \n",
      "  inflating: fastText-0.9.1/docs/supervised-tutorial.md  \n",
      "  inflating: fastText-0.9.1/docs/support.md  \n",
      "  inflating: fastText-0.9.1/docs/unsupervised-tutorials.md  \n",
      "  inflating: fastText-0.9.1/eval.py  \n",
      "  inflating: fastText-0.9.1/get-wikimedia.sh  \n",
      "   creating: fastText-0.9.1/python/\n",
      "  inflating: fastText-0.9.1/python/README.md  \n",
      "  inflating: fastText-0.9.1/python/README.rst  \n",
      "   creating: fastText-0.9.1/python/benchmarks/\n",
      "  inflating: fastText-0.9.1/python/benchmarks/README.rst  \n",
      "  inflating: fastText-0.9.1/python/benchmarks/get_word_vector.py  \n",
      "   creating: fastText-0.9.1/python/doc/\n",
      "   creating: fastText-0.9.1/python/doc/examples/\n",
      "  inflating: fastText-0.9.1/python/doc/examples/FastTextEmbeddingBag.py  \n",
      "  inflating: fastText-0.9.1/python/doc/examples/bin_to_vec.py  \n",
      "  inflating: fastText-0.9.1/python/doc/examples/compute_accuracy.py  \n",
      "  inflating: fastText-0.9.1/python/doc/examples/get_vocab.py  \n",
      "  inflating: fastText-0.9.1/python/doc/examples/train_supervised.py  \n",
      "  inflating: fastText-0.9.1/python/doc/examples/train_unsupervised.py  \n",
      "   creating: fastText-0.9.1/python/fasttext_module/\n",
      "   creating: fastText-0.9.1/python/fasttext_module/fasttext/\n",
      "  inflating: fastText-0.9.1/python/fasttext_module/fasttext/FastText.py  \n",
      "  inflating: fastText-0.9.1/python/fasttext_module/fasttext/__init__.py  \n",
      "   creating: fastText-0.9.1/python/fasttext_module/fasttext/pybind/\n",
      "  inflating: fastText-0.9.1/python/fasttext_module/fasttext/pybind/fasttext_pybind.cc  \n",
      "   creating: fastText-0.9.1/python/fasttext_module/fasttext/tests/\n",
      "  inflating: fastText-0.9.1/python/fasttext_module/fasttext/tests/__init__.py  \n",
      "  inflating: fastText-0.9.1/python/fasttext_module/fasttext/tests/test_configurations.py  \n",
      "  inflating: fastText-0.9.1/python/fasttext_module/fasttext/tests/test_script.py  \n",
      "   creating: fastText-0.9.1/python/fasttext_module/fasttext/util/\n",
      "  inflating: fastText-0.9.1/python/fasttext_module/fasttext/util/__init__.py  \n",
      "  inflating: fastText-0.9.1/python/fasttext_module/fasttext/util/util.py  \n",
      "  inflating: fastText-0.9.1/quantization-example.sh  \n",
      "  inflating: fastText-0.9.1/runtests.py  \n",
      "   creating: fastText-0.9.1/scripts/\n",
      "   creating: fastText-0.9.1/scripts/kbcompletion/\n",
      "  inflating: fastText-0.9.1/scripts/kbcompletion/README.md  \n",
      "  inflating: fastText-0.9.1/scripts/kbcompletion/data.sh  \n",
      "  inflating: fastText-0.9.1/scripts/kbcompletion/eval.cpp  \n",
      "  inflating: fastText-0.9.1/scripts/kbcompletion/fb15k.sh  \n",
      "  inflating: fastText-0.9.1/scripts/kbcompletion/fb15k237.sh  \n",
      "  inflating: fastText-0.9.1/scripts/kbcompletion/svo.sh  \n",
      "  inflating: fastText-0.9.1/scripts/kbcompletion/wn18.sh  \n",
      "   creating: fastText-0.9.1/scripts/quantization/\n",
      "  inflating: fastText-0.9.1/scripts/quantization/quantization-results.sh  \n",
      " extracting: fastText-0.9.1/setup.cfg  \n",
      "  inflating: fastText-0.9.1/setup.py  \n",
      "   creating: fastText-0.9.1/src/\n",
      "  inflating: fastText-0.9.1/src/args.cc  \n",
      "  inflating: fastText-0.9.1/src/args.h  \n",
      "  inflating: fastText-0.9.1/src/densematrix.cc  \n",
      "  inflating: fastText-0.9.1/src/densematrix.h  \n",
      "  inflating: fastText-0.9.1/src/dictionary.cc  \n",
      "  inflating: fastText-0.9.1/src/dictionary.h  \n",
      "  inflating: fastText-0.9.1/src/fasttext.cc  \n",
      "  inflating: fastText-0.9.1/src/fasttext.h  \n",
      "  inflating: fastText-0.9.1/src/loss.cc  \n",
      "  inflating: fastText-0.9.1/src/loss.h  \n",
      "  inflating: fastText-0.9.1/src/main.cc  \n",
      "  inflating: fastText-0.9.1/src/matrix.cc  \n",
      "  inflating: fastText-0.9.1/src/matrix.h  \n",
      "  inflating: fastText-0.9.1/src/meter.cc  \n",
      "  inflating: fastText-0.9.1/src/meter.h  \n",
      "  inflating: fastText-0.9.1/src/model.cc  \n",
      "  inflating: fastText-0.9.1/src/model.h  \n",
      "  inflating: fastText-0.9.1/src/productquantizer.cc  \n",
      "  inflating: fastText-0.9.1/src/productquantizer.h  \n",
      "  inflating: fastText-0.9.1/src/quantmatrix.cc  \n",
      "  inflating: fastText-0.9.1/src/quantmatrix.h  \n",
      "  inflating: fastText-0.9.1/src/real.h  \n",
      "  inflating: fastText-0.9.1/src/utils.cc  \n",
      "  inflating: fastText-0.9.1/src/utils.h  \n",
      "  inflating: fastText-0.9.1/src/vector.cc  \n",
      "  inflating: fastText-0.9.1/src/vector.h  \n",
      "   creating: fastText-0.9.1/tests/\n",
      "  inflating: fastText-0.9.1/tests/fetch_test_data.sh  \n",
      "   creating: fastText-0.9.1/website/\n",
      "  inflating: fastText-0.9.1/website/README.md  \n",
      "   creating: fastText-0.9.1/website/blog/\n",
      "  inflating: fastText-0.9.1/website/blog/2016-08-18-blog-post.md  \n",
      "  inflating: fastText-0.9.1/website/blog/2017-05-02-blog-post.md  \n",
      "  inflating: fastText-0.9.1/website/blog/2017-10-02-blog-post.md  \n",
      "  inflating: fastText-0.9.1/website/blog/2019-06-25-blog-post.md  \n",
      "   creating: fastText-0.9.1/website/core/\n",
      "  inflating: fastText-0.9.1/website/core/Footer.js  \n",
      "  inflating: fastText-0.9.1/website/package.json  \n",
      "   creating: fastText-0.9.1/website/pages/\n",
      "   creating: fastText-0.9.1/website/pages/en/\n",
      "  inflating: fastText-0.9.1/website/pages/en/index.js  \n",
      "  inflating: fastText-0.9.1/website/sidebars.json  \n",
      "  inflating: fastText-0.9.1/website/siteConfig.js  \n",
      "   creating: fastText-0.9.1/website/static/\n",
      "   creating: fastText-0.9.1/website/static/docs/\n",
      "   creating: fastText-0.9.1/website/static/docs/en/\n",
      "   creating: fastText-0.9.1/website/static/docs/en/html/\n",
      " extracting: fastText-0.9.1/website/static/docs/en/html/.classfasttext_1_1QMatrix-members.html.i4eKqy  \n",
      "  inflating: fastText-0.9.1/website/static/docs/en/html/annotated.html  \n",
      "  inflating: fastText-0.9.1/website/static/docs/en/html/annotated_dup.js  \n",
      "  inflating: fastText-0.9.1/website/static/docs/en/html/args_8cc.html  \n",
      "  inflating: fastText-0.9.1/website/static/docs/en/html/args_8h.html  \n",
      "  inflating: fastText-0.9.1/website/static/docs/en/html/args_8h.js  \n",
      "  inflating: fastText-0.9.1/website/static/docs/en/html/args_8h_source.html  \n",
      " extracting: fastText-0.9.1/website/static/docs/en/html/bc_s.png  \n",
      "  inflating: fastText-0.9.1/website/static/docs/en/html/bdwn.png  \n",
      "  inflating: fastText-0.9.1/website/static/docs/en/html/classes.html  \n",
      "  inflating: fastText-0.9.1/website/static/docs/en/html/classfasttext_1_1Args-members.html  \n",
      "  inflating: fastText-0.9.1/website/static/docs/en/html/classfasttext_1_1Args.html  \n",
      "  inflating: fastText-0.9.1/website/static/docs/en/html/classfasttext_1_1Args.js  \n",
      "  inflating: fastText-0.9.1/website/static/docs/en/html/classfasttext_1_1Dictionary-members.html  \n",
      "  inflating: fastText-0.9.1/website/static/docs/en/html/classfasttext_1_1Dictionary.html  \n",
      "  inflating: fastText-0.9.1/website/static/docs/en/html/classfasttext_1_1Dictionary.js  \n",
      "  inflating: fastText-0.9.1/website/static/docs/en/html/classfasttext_1_1FastText-members.html  \n",
      "  inflating: fastText-0.9.1/website/static/docs/en/html/classfasttext_1_1FastText.html  \n",
      "  inflating: fastText-0.9.1/website/static/docs/en/html/classfasttext_1_1FastText.js  \n",
      "  inflating: fastText-0.9.1/website/static/docs/en/html/classfasttext_1_1Matrix-members.html  \n",
      "  inflating: fastText-0.9.1/website/static/docs/en/html/classfasttext_1_1Matrix.html  \n",
      "  inflating: fastText-0.9.1/website/static/docs/en/html/classfasttext_1_1Matrix.js  \n",
      "  inflating: fastText-0.9.1/website/static/docs/en/html/classfasttext_1_1Model-members.html  \n",
      "  inflating: fastText-0.9.1/website/static/docs/en/html/classfasttext_1_1Model.html  \n",
      "  inflating: fastText-0.9.1/website/static/docs/en/html/classfasttext_1_1Model.js  \n",
      "  inflating: fastText-0.9.1/website/static/docs/en/html/classfasttext_1_1ProductQuantizer-members.html  \n",
      "  inflating: fastText-0.9.1/website/static/docs/en/html/classfasttext_1_1ProductQuantizer.html  \n",
      "  inflating: fastText-0.9.1/website/static/docs/en/html/classfasttext_1_1ProductQuantizer.js  \n",
      "  inflating: fastText-0.9.1/website/static/docs/en/html/classfasttext_1_1QMatrix-members.html  \n",
      "  inflating: fastText-0.9.1/website/static/docs/en/html/classfasttext_1_1QMatrix.html  \n",
      "  inflating: fastText-0.9.1/website/static/docs/en/html/classfasttext_1_1QMatrix.js  \n",
      "  inflating: fastText-0.9.1/website/static/docs/en/html/classfasttext_1_1Vector-members.html  \n",
      "  inflating: fastText-0.9.1/website/static/docs/en/html/classfasttext_1_1Vector.html  \n",
      "  inflating: fastText-0.9.1/website/static/docs/en/html/classfasttext_1_1Vector.js  \n",
      "  inflating: fastText-0.9.1/website/static/docs/en/html/closed.png  \n",
      "  inflating: fastText-0.9.1/website/static/docs/en/html/dictionary_8cc.html  \n",
      "  inflating: fastText-0.9.1/website/static/docs/en/html/dictionary_8h.html  \n",
      "  inflating: fastText-0.9.1/website/static/docs/en/html/dictionary_8h.js  \n",
      "  inflating: fastText-0.9.1/website/static/docs/en/html/dictionary_8h_source.html  \n",
      "  inflating: fastText-0.9.1/website/static/docs/en/html/dir_68267d1309a1af8e8297ef4c3efbcdba.html  \n",
      "  inflating: fastText-0.9.1/website/static/docs/en/html/dir_68267d1309a1af8e8297ef4c3efbcdba.js  \n",
      " extracting: fastText-0.9.1/website/static/docs/en/html/doc.png  \n",
      "  inflating: fastText-0.9.1/website/static/docs/en/html/doxygen.css  \n",
      " extracting: fastText-0.9.1/website/static/docs/en/html/doxygen.png  \n",
      "  inflating: fastText-0.9.1/website/static/docs/en/html/dynsections.js  \n",
      "  inflating: fastText-0.9.1/website/static/docs/en/html/fasttext_8cc.html  \n",
      "  inflating: fastText-0.9.1/website/static/docs/en/html/fasttext_8h.html  \n",
      "  inflating: fastText-0.9.1/website/static/docs/en/html/fasttext_8h.js  \n",
      "  inflating: fastText-0.9.1/website/static/docs/en/html/fasttext_8h_source.html  \n",
      "  inflating: fastText-0.9.1/website/static/docs/en/html/favicon.png  \n",
      "  inflating: fastText-0.9.1/website/static/docs/en/html/files.html  \n",
      "  inflating: fastText-0.9.1/website/static/docs/en/html/files.js  \n",
      " extracting: fastText-0.9.1/website/static/docs/en/html/folderclosed.png  \n",
      " extracting: fastText-0.9.1/website/static/docs/en/html/folderopen.png  \n",
      "  inflating: fastText-0.9.1/website/static/docs/en/html/functions.html  \n",
      "  inflating: fastText-0.9.1/website/static/docs/en/html/functions_0x7e.html  \n",
      "  inflating: fastText-0.9.1/website/static/docs/en/html/functions_b.html  \n",
      "  inflating: fastText-0.9.1/website/static/docs/en/html/functions_c.html  \n",
      "  inflating: fastText-0.9.1/website/static/docs/en/html/functions_d.html  \n",
      "  inflating: fastText-0.9.1/website/static/docs/en/html/functions_dup.js  \n",
      "  inflating: fastText-0.9.1/website/static/docs/en/html/functions_e.html  \n",
      "  inflating: fastText-0.9.1/website/static/docs/en/html/functions_f.html  \n",
      "  inflating: fastText-0.9.1/website/static/docs/en/html/functions_func.html  \n",
      "  inflating: fastText-0.9.1/website/static/docs/en/html/functions_g.html  \n",
      "  inflating: fastText-0.9.1/website/static/docs/en/html/functions_h.html  \n",
      "  inflating: fastText-0.9.1/website/static/docs/en/html/functions_i.html  \n",
      "  inflating: fastText-0.9.1/website/static/docs/en/html/functions_k.html  \n",
      "  inflating: fastText-0.9.1/website/static/docs/en/html/functions_l.html  \n",
      "  inflating: fastText-0.9.1/website/static/docs/en/html/functions_m.html  \n",
      "  inflating: fastText-0.9.1/website/static/docs/en/html/functions_n.html  \n",
      "  inflating: fastText-0.9.1/website/static/docs/en/html/functions_o.html  \n",
      "  inflating: fastText-0.9.1/website/static/docs/en/html/functions_p.html  \n",
      "  inflating: fastText-0.9.1/website/static/docs/en/html/functions_q.html  \n",
      "  inflating: fastText-0.9.1/website/static/docs/en/html/functions_r.html  \n",
      "  inflating: fastText-0.9.1/website/static/docs/en/html/functions_s.html  \n",
      "  inflating: fastText-0.9.1/website/static/docs/en/html/functions_t.html  \n",
      "  inflating: fastText-0.9.1/website/static/docs/en/html/functions_u.html  \n",
      "  inflating: fastText-0.9.1/website/static/docs/en/html/functions_v.html  \n",
      "  inflating: fastText-0.9.1/website/static/docs/en/html/functions_vars.html  \n",
      "  inflating: fastText-0.9.1/website/static/docs/en/html/functions_w.html  \n",
      "  inflating: fastText-0.9.1/website/static/docs/en/html/functions_z.html  \n",
      "  inflating: fastText-0.9.1/website/static/docs/en/html/globals.html  \n",
      "  inflating: fastText-0.9.1/website/static/docs/en/html/globals_defs.html  \n",
      "  inflating: fastText-0.9.1/website/static/docs/en/html/globals_func.html  \n",
      "  inflating: fastText-0.9.1/website/static/docs/en/html/index.html  \n",
      "  inflating: fastText-0.9.1/website/static/docs/en/html/jquery.js  \n",
      "  inflating: fastText-0.9.1/website/static/docs/en/html/main_8cc.html  \n",
      "  inflating: fastText-0.9.1/website/static/docs/en/html/main_8cc.js  \n",
      "  inflating: fastText-0.9.1/website/static/docs/en/html/matrix_8cc.html  \n",
      "  inflating: fastText-0.9.1/website/static/docs/en/html/matrix_8h.html  \n",
      "  inflating: fastText-0.9.1/website/static/docs/en/html/matrix_8h_source.html  \n",
      "  inflating: fastText-0.9.1/website/static/docs/en/html/menu.js  \n",
      "  inflating: fastText-0.9.1/website/static/docs/en/html/menudata.js  \n",
      "  inflating: fastText-0.9.1/website/static/docs/en/html/model_8cc.html  \n",
      "  inflating: fastText-0.9.1/website/static/docs/en/html/model_8h.html  \n",
      "  inflating: fastText-0.9.1/website/static/docs/en/html/model_8h.js  \n",
      "  inflating: fastText-0.9.1/website/static/docs/en/html/model_8h_source.html  \n",
      "  inflating: fastText-0.9.1/website/static/docs/en/html/namespacefasttext.html  \n",
      "  inflating: fastText-0.9.1/website/static/docs/en/html/namespacefasttext.js  \n",
      "  inflating: fastText-0.9.1/website/static/docs/en/html/namespacefasttext_1_1utils.html  \n",
      "  inflating: fastText-0.9.1/website/static/docs/en/html/namespacemembers.html  \n",
      "  inflating: fastText-0.9.1/website/static/docs/en/html/namespacemembers_enum.html  \n",
      "  inflating: fastText-0.9.1/website/static/docs/en/html/namespacemembers_func.html  \n",
      "  inflating: fastText-0.9.1/website/static/docs/en/html/namespacemembers_type.html  \n",
      "  inflating: fastText-0.9.1/website/static/docs/en/html/namespaces.html  \n",
      "  inflating: fastText-0.9.1/website/static/docs/en/html/namespaces.js  \n",
      " extracting: fastText-0.9.1/website/static/docs/en/html/nav_f.png  \n",
      "  inflating: fastText-0.9.1/website/static/docs/en/html/nav_g.png  \n",
      "  inflating: fastText-0.9.1/website/static/docs/en/html/nav_h.png  \n",
      "  inflating: fastText-0.9.1/website/static/docs/en/html/navtree.css  \n",
      "  inflating: fastText-0.9.1/website/static/docs/en/html/navtree.js  \n",
      "  inflating: fastText-0.9.1/website/static/docs/en/html/navtreedata.js  \n",
      "  inflating: fastText-0.9.1/website/static/docs/en/html/navtreeindex0.js  \n",
      "  inflating: fastText-0.9.1/website/static/docs/en/html/navtreeindex1.js  \n",
      "  inflating: fastText-0.9.1/website/static/docs/en/html/open.png  \n",
      "  inflating: fastText-0.9.1/website/static/docs/en/html/productquantizer_8cc.html  \n",
      "  inflating: fastText-0.9.1/website/static/docs/en/html/productquantizer_8cc.js  \n",
      "  inflating: fastText-0.9.1/website/static/docs/en/html/productquantizer_8h.html  \n",
      "  inflating: fastText-0.9.1/website/static/docs/en/html/productquantizer_8h_source.html  \n",
      "  inflating: fastText-0.9.1/website/static/docs/en/html/qmatrix_8cc.html  \n",
      "  inflating: fastText-0.9.1/website/static/docs/en/html/qmatrix_8h.html  \n",
      "  inflating: fastText-0.9.1/website/static/docs/en/html/qmatrix_8h_source.html  \n",
      "  inflating: fastText-0.9.1/website/static/docs/en/html/real_8h.html  \n",
      "  inflating: fastText-0.9.1/website/static/docs/en/html/real_8h.js  \n",
      "  inflating: fastText-0.9.1/website/static/docs/en/html/real_8h_source.html  \n",
      "  inflating: fastText-0.9.1/website/static/docs/en/html/resize.js  \n",
      "   creating: fastText-0.9.1/website/static/docs/en/html/search/\n",
      " extracting: fastText-0.9.1/website/static/docs/en/html/search/.files_7.html.StRRNc  \n",
      " extracting: fastText-0.9.1/website/static/docs/en/html/search/.variables_a.html.1MGQ27  \n",
      "  inflating: fastText-0.9.1/website/static/docs/en/html/search/all_0.html  \n",
      "  inflating: fastText-0.9.1/website/static/docs/en/html/search/all_0.js  \n",
      "  inflating: fastText-0.9.1/website/static/docs/en/html/search/all_1.html  \n",
      "  inflating: fastText-0.9.1/website/static/docs/en/html/search/all_1.js  \n",
      "  inflating: fastText-0.9.1/website/static/docs/en/html/search/all_10.html  \n",
      "  inflating: fastText-0.9.1/website/static/docs/en/html/search/all_10.js  \n",
      "  inflating: fastText-0.9.1/website/static/docs/en/html/search/all_11.html  \n",
      "  inflating: fastText-0.9.1/website/static/docs/en/html/search/all_11.js  \n",
      "  inflating: fastText-0.9.1/website/static/docs/en/html/search/all_12.html  \n",
      "  inflating: fastText-0.9.1/website/static/docs/en/html/search/all_12.js  \n",
      "  inflating: fastText-0.9.1/website/static/docs/en/html/search/all_13.html  \n",
      "  inflating: fastText-0.9.1/website/static/docs/en/html/search/all_13.js  \n",
      "  inflating: fastText-0.9.1/website/static/docs/en/html/search/all_14.html  \n",
      "  inflating: fastText-0.9.1/website/static/docs/en/html/search/all_14.js  \n",
      "  inflating: fastText-0.9.1/website/static/docs/en/html/search/all_15.html  \n",
      "  inflating: fastText-0.9.1/website/static/docs/en/html/search/all_15.js  \n",
      "  inflating: fastText-0.9.1/website/static/docs/en/html/search/all_16.html  \n",
      "  inflating: fastText-0.9.1/website/static/docs/en/html/search/all_16.js  \n",
      "  inflating: fastText-0.9.1/website/static/docs/en/html/search/all_17.html  \n",
      "  inflating: fastText-0.9.1/website/static/docs/en/html/search/all_17.js  \n",
      "  inflating: fastText-0.9.1/website/static/docs/en/html/search/all_2.html  \n",
      "  inflating: fastText-0.9.1/website/static/docs/en/html/search/all_2.js  \n",
      "  inflating: fastText-0.9.1/website/static/docs/en/html/search/all_3.html  \n",
      "  inflating: fastText-0.9.1/website/static/docs/en/html/search/all_3.js  \n",
      "  inflating: fastText-0.9.1/website/static/docs/en/html/search/all_4.html  \n",
      "  inflating: fastText-0.9.1/website/static/docs/en/html/search/all_4.js  \n",
      "  inflating: fastText-0.9.1/website/static/docs/en/html/search/all_5.html  \n",
      "  inflating: fastText-0.9.1/website/static/docs/en/html/search/all_5.js  \n",
      "  inflating: fastText-0.9.1/website/static/docs/en/html/search/all_6.html  \n",
      "  inflating: fastText-0.9.1/website/static/docs/en/html/search/all_6.js  \n",
      "  inflating: fastText-0.9.1/website/static/docs/en/html/search/all_7.html  \n",
      "  inflating: fastText-0.9.1/website/static/docs/en/html/search/all_7.js  \n",
      "  inflating: fastText-0.9.1/website/static/docs/en/html/search/all_8.html  \n",
      "  inflating: fastText-0.9.1/website/static/docs/en/html/search/all_8.js  \n",
      "  inflating: fastText-0.9.1/website/static/docs/en/html/search/all_9.html  \n",
      "  inflating: fastText-0.9.1/website/static/docs/en/html/search/all_9.js  \n",
      "  inflating: fastText-0.9.1/website/static/docs/en/html/search/all_a.html  \n",
      "  inflating: fastText-0.9.1/website/static/docs/en/html/search/all_a.js  \n",
      "  inflating: fastText-0.9.1/website/static/docs/en/html/search/all_b.html  \n",
      "  inflating: fastText-0.9.1/website/static/docs/en/html/search/all_b.js  \n",
      "  inflating: fastText-0.9.1/website/static/docs/en/html/search/all_c.html  \n",
      "  inflating: fastText-0.9.1/website/static/docs/en/html/search/all_c.js  \n",
      "  inflating: fastText-0.9.1/website/static/docs/en/html/search/all_d.html  \n",
      "  inflating: fastText-0.9.1/website/static/docs/en/html/search/all_d.js  \n",
      "  inflating: fastText-0.9.1/website/static/docs/en/html/search/all_e.html  \n",
      "  inflating: fastText-0.9.1/website/static/docs/en/html/search/all_e.js  \n",
      "  inflating: fastText-0.9.1/website/static/docs/en/html/search/all_f.html  \n",
      "  inflating: fastText-0.9.1/website/static/docs/en/html/search/all_f.js  \n",
      "  inflating: fastText-0.9.1/website/static/docs/en/html/search/classes_0.html  \n",
      "  inflating: fastText-0.9.1/website/static/docs/en/html/search/classes_0.js  \n",
      "  inflating: fastText-0.9.1/website/static/docs/en/html/search/classes_1.html  \n",
      "  inflating: fastText-0.9.1/website/static/docs/en/html/search/classes_1.js  \n",
      "  inflating: fastText-0.9.1/website/static/docs/en/html/search/classes_2.html  \n",
      "  inflating: fastText-0.9.1/website/static/docs/en/html/search/classes_2.js  \n",
      "  inflating: fastText-0.9.1/website/static/docs/en/html/search/classes_3.html  \n",
      "  inflating: fastText-0.9.1/website/static/docs/en/html/search/classes_3.js  \n",
      "  inflating: fastText-0.9.1/website/static/docs/en/html/search/classes_4.html  \n",
      "  inflating: fastText-0.9.1/website/static/docs/en/html/search/classes_4.js  \n",
      "  inflating: fastText-0.9.1/website/static/docs/en/html/search/classes_5.html  \n",
      "  inflating: fastText-0.9.1/website/static/docs/en/html/search/classes_5.js  \n",
      "  inflating: fastText-0.9.1/website/static/docs/en/html/search/classes_6.html  \n",
      "  inflating: fastText-0.9.1/website/static/docs/en/html/search/classes_6.js  \n",
      "  inflating: fastText-0.9.1/website/static/docs/en/html/search/classes_7.html  \n",
      "  inflating: fastText-0.9.1/website/static/docs/en/html/search/classes_7.js  \n",
      "  inflating: fastText-0.9.1/website/static/docs/en/html/search/classes_8.html  \n",
      "  inflating: fastText-0.9.1/website/static/docs/en/html/search/classes_8.js  \n",
      " extracting: fastText-0.9.1/website/static/docs/en/html/search/close.png  \n",
      "  inflating: fastText-0.9.1/website/static/docs/en/html/search/defines_0.html  \n",
      "  inflating: fastText-0.9.1/website/static/docs/en/html/search/defines_0.js  \n",
      "  inflating: fastText-0.9.1/website/static/docs/en/html/search/defines_1.html  \n",
      "  inflating: fastText-0.9.1/website/static/docs/en/html/search/defines_1.js  \n",
      "  inflating: fastText-0.9.1/website/static/docs/en/html/search/defines_2.html  \n",
      "  inflating: fastText-0.9.1/website/static/docs/en/html/search/defines_2.js  \n",
      "  inflating: fastText-0.9.1/website/static/docs/en/html/search/defines_3.html  \n",
      "  inflating: fastText-0.9.1/website/static/docs/en/html/search/defines_3.js  \n",
      "  inflating: fastText-0.9.1/website/static/docs/en/html/search/enums_0.html  \n",
      "  inflating: fastText-0.9.1/website/static/docs/en/html/search/enums_0.js  \n",
      "  inflating: fastText-0.9.1/website/static/docs/en/html/search/enums_1.html  \n",
      "  inflating: fastText-0.9.1/website/static/docs/en/html/search/enums_1.js  \n",
      "  inflating: fastText-0.9.1/website/static/docs/en/html/search/enums_2.html  \n",
      "  inflating: fastText-0.9.1/website/static/docs/en/html/search/enums_2.js  \n",
      "  inflating: fastText-0.9.1/website/static/docs/en/html/search/enumvalues_0.html  \n",
      "  inflating: fastText-0.9.1/website/static/docs/en/html/search/enumvalues_0.js  \n",
      "  inflating: fastText-0.9.1/website/static/docs/en/html/search/enumvalues_1.html  \n",
      "  inflating: fastText-0.9.1/website/static/docs/en/html/search/enumvalues_1.js  \n",
      "  inflating: fastText-0.9.1/website/static/docs/en/html/search/enumvalues_2.html  \n",
      "  inflating: fastText-0.9.1/website/static/docs/en/html/search/enumvalues_2.js  \n",
      "  inflating: fastText-0.9.1/website/static/docs/en/html/search/enumvalues_3.html  \n",
      "  inflating: fastText-0.9.1/website/static/docs/en/html/search/enumvalues_3.js  \n",
      "  inflating: fastText-0.9.1/website/static/docs/en/html/search/enumvalues_4.html  \n",
      "  inflating: fastText-0.9.1/website/static/docs/en/html/search/enumvalues_4.js  \n",
      "  inflating: fastText-0.9.1/website/static/docs/en/html/search/enumvalues_5.html  \n",
      "  inflating: fastText-0.9.1/website/static/docs/en/html/search/enumvalues_5.js  \n",
      "  inflating: fastText-0.9.1/website/static/docs/en/html/search/files_0.html  \n",
      "  inflating: fastText-0.9.1/website/static/docs/en/html/search/files_0.js  \n",
      "  inflating: fastText-0.9.1/website/static/docs/en/html/search/files_1.html  \n",
      "  inflating: fastText-0.9.1/website/static/docs/en/html/search/files_1.js  \n",
      "  inflating: fastText-0.9.1/website/static/docs/en/html/search/files_2.html  \n",
      "  inflating: fastText-0.9.1/website/static/docs/en/html/search/files_2.js  \n",
      "  inflating: fastText-0.9.1/website/static/docs/en/html/search/files_3.html  \n",
      "  inflating: fastText-0.9.1/website/static/docs/en/html/search/files_3.js  \n",
      "  inflating: fastText-0.9.1/website/static/docs/en/html/search/files_4.html  \n",
      "  inflating: fastText-0.9.1/website/static/docs/en/html/search/files_4.js  \n",
      "  inflating: fastText-0.9.1/website/static/docs/en/html/search/files_5.html  \n",
      "  inflating: fastText-0.9.1/website/static/docs/en/html/search/files_5.js  \n",
      "  inflating: fastText-0.9.1/website/static/docs/en/html/search/files_6.html  \n",
      "  inflating: fastText-0.9.1/website/static/docs/en/html/search/files_6.js  \n",
      "  inflating: fastText-0.9.1/website/static/docs/en/html/search/files_7.html  \n",
      "  inflating: fastText-0.9.1/website/static/docs/en/html/search/files_7.js  \n",
      "  inflating: fastText-0.9.1/website/static/docs/en/html/search/files_8.html  \n",
      "  inflating: fastText-0.9.1/website/static/docs/en/html/search/files_8.js  \n",
      "  inflating: fastText-0.9.1/website/static/docs/en/html/search/functions_0.html  \n",
      "  inflating: fastText-0.9.1/website/static/docs/en/html/search/functions_0.js  \n",
      "  inflating: fastText-0.9.1/website/static/docs/en/html/search/functions_1.html  \n",
      "  inflating: fastText-0.9.1/website/static/docs/en/html/search/functions_1.js  \n",
      "  inflating: fastText-0.9.1/website/static/docs/en/html/search/functions_10.html  \n",
      "  inflating: fastText-0.9.1/website/static/docs/en/html/search/functions_10.js  \n",
      "  inflating: fastText-0.9.1/website/static/docs/en/html/search/functions_11.html  \n",
      "  inflating: fastText-0.9.1/website/static/docs/en/html/search/functions_11.js  \n",
      "  inflating: fastText-0.9.1/website/static/docs/en/html/search/functions_12.html  \n",
      "  inflating: fastText-0.9.1/website/static/docs/en/html/search/functions_12.js  \n",
      "  inflating: fastText-0.9.1/website/static/docs/en/html/search/functions_13.html  \n",
      "  inflating: fastText-0.9.1/website/static/docs/en/html/search/functions_13.js  \n",
      "  inflating: fastText-0.9.1/website/static/docs/en/html/search/functions_14.html  \n",
      "  inflating: fastText-0.9.1/website/static/docs/en/html/search/functions_14.js  \n",
      "  inflating: fastText-0.9.1/website/static/docs/en/html/search/functions_15.html  \n",
      "  inflating: fastText-0.9.1/website/static/docs/en/html/search/functions_15.js  \n",
      "  inflating: fastText-0.9.1/website/static/docs/en/html/search/functions_16.html  \n",
      "  inflating: fastText-0.9.1/website/static/docs/en/html/search/functions_16.js  \n",
      "  inflating: fastText-0.9.1/website/static/docs/en/html/search/functions_17.html  \n",
      "  inflating: fastText-0.9.1/website/static/docs/en/html/search/functions_17.js  \n",
      "  inflating: fastText-0.9.1/website/static/docs/en/html/search/functions_2.html  \n",
      "  inflating: fastText-0.9.1/website/static/docs/en/html/search/functions_2.js  \n",
      "  inflating: fastText-0.9.1/website/static/docs/en/html/search/functions_3.html  \n",
      "  inflating: fastText-0.9.1/website/static/docs/en/html/search/functions_3.js  \n",
      "  inflating: fastText-0.9.1/website/static/docs/en/html/search/functions_4.html  \n",
      "  inflating: fastText-0.9.1/website/static/docs/en/html/search/functions_4.js  \n",
      "  inflating: fastText-0.9.1/website/static/docs/en/html/search/functions_5.html  \n",
      "  inflating: fastText-0.9.1/website/static/docs/en/html/search/functions_5.js  \n",
      "  inflating: fastText-0.9.1/website/static/docs/en/html/search/functions_6.html  \n",
      "  inflating: fastText-0.9.1/website/static/docs/en/html/search/functions_6.js  \n",
      "  inflating: fastText-0.9.1/website/static/docs/en/html/search/functions_7.html  \n",
      "  inflating: fastText-0.9.1/website/static/docs/en/html/search/functions_7.js  \n",
      "  inflating: fastText-0.9.1/website/static/docs/en/html/search/functions_8.html  \n",
      "  inflating: fastText-0.9.1/website/static/docs/en/html/search/functions_8.js  \n",
      "  inflating: fastText-0.9.1/website/static/docs/en/html/search/functions_9.html  \n",
      "  inflating: fastText-0.9.1/website/static/docs/en/html/search/functions_9.js  \n",
      "  inflating: fastText-0.9.1/website/static/docs/en/html/search/functions_a.html  \n",
      "  inflating: fastText-0.9.1/website/static/docs/en/html/search/functions_a.js  \n",
      "  inflating: fastText-0.9.1/website/static/docs/en/html/search/functions_b.html  \n",
      "  inflating: fastText-0.9.1/website/static/docs/en/html/search/functions_b.js  \n",
      "  inflating: fastText-0.9.1/website/static/docs/en/html/search/functions_c.html  \n",
      "  inflating: fastText-0.9.1/website/static/docs/en/html/search/functions_c.js  \n",
      "  inflating: fastText-0.9.1/website/static/docs/en/html/search/functions_d.html  \n",
      "  inflating: fastText-0.9.1/website/static/docs/en/html/search/functions_d.js  \n",
      "  inflating: fastText-0.9.1/website/static/docs/en/html/search/functions_e.html  \n",
      "  inflating: fastText-0.9.1/website/static/docs/en/html/search/functions_e.js  \n",
      "  inflating: fastText-0.9.1/website/static/docs/en/html/search/functions_f.html  \n",
      "  inflating: fastText-0.9.1/website/static/docs/en/html/search/functions_f.js  \n",
      " extracting: fastText-0.9.1/website/static/docs/en/html/search/mag_sel.png  \n",
      "  inflating: fastText-0.9.1/website/static/docs/en/html/search/namespaces_0.html  \n",
      "  inflating: fastText-0.9.1/website/static/docs/en/html/search/namespaces_0.js  \n",
      "  inflating: fastText-0.9.1/website/static/docs/en/html/search/nomatches.html  \n",
      "  inflating: fastText-0.9.1/website/static/docs/en/html/search/search.css  \n",
      "  inflating: fastText-0.9.1/website/static/docs/en/html/search/search.js  \n",
      " extracting: fastText-0.9.1/website/static/docs/en/html/search/search_l.png  \n",
      "  inflating: fastText-0.9.1/website/static/docs/en/html/search/search_m.png  \n",
      " extracting: fastText-0.9.1/website/static/docs/en/html/search/search_r.png  \n",
      "  inflating: fastText-0.9.1/website/static/docs/en/html/search/searchdata.js  \n",
      "  inflating: fastText-0.9.1/website/static/docs/en/html/search/typedefs_0.html  \n",
      "  inflating: fastText-0.9.1/website/static/docs/en/html/search/typedefs_0.js  \n",
      "  inflating: fastText-0.9.1/website/static/docs/en/html/search/typedefs_1.html  \n",
      "  inflating: fastText-0.9.1/website/static/docs/en/html/search/typedefs_1.js  \n",
      "  inflating: fastText-0.9.1/website/static/docs/en/html/search/variables_0.html  \n",
      "  inflating: fastText-0.9.1/website/static/docs/en/html/search/variables_0.js  \n",
      "  inflating: fastText-0.9.1/website/static/docs/en/html/search/variables_1.html  \n",
      "  inflating: fastText-0.9.1/website/static/docs/en/html/search/variables_1.js  \n",
      "  inflating: fastText-0.9.1/website/static/docs/en/html/search/variables_10.html  \n",
      "  inflating: fastText-0.9.1/website/static/docs/en/html/search/variables_10.js  \n",
      "  inflating: fastText-0.9.1/website/static/docs/en/html/search/variables_11.html  \n",
      "  inflating: fastText-0.9.1/website/static/docs/en/html/search/variables_11.js  \n",
      "  inflating: fastText-0.9.1/website/static/docs/en/html/search/variables_12.html  \n",
      "  inflating: fastText-0.9.1/website/static/docs/en/html/search/variables_12.js  \n",
      "  inflating: fastText-0.9.1/website/static/docs/en/html/search/variables_13.html  \n",
      "  inflating: fastText-0.9.1/website/static/docs/en/html/search/variables_13.js  \n",
      "  inflating: fastText-0.9.1/website/static/docs/en/html/search/variables_2.html  \n",
      "  inflating: fastText-0.9.1/website/static/docs/en/html/search/variables_2.js  \n",
      "  inflating: fastText-0.9.1/website/static/docs/en/html/search/variables_3.html  \n",
      "  inflating: fastText-0.9.1/website/static/docs/en/html/search/variables_3.js  \n",
      "  inflating: fastText-0.9.1/website/static/docs/en/html/search/variables_4.html  \n",
      "  inflating: fastText-0.9.1/website/static/docs/en/html/search/variables_4.js  \n",
      "  inflating: fastText-0.9.1/website/static/docs/en/html/search/variables_5.html  \n",
      "  inflating: fastText-0.9.1/website/static/docs/en/html/search/variables_5.js  \n",
      "  inflating: fastText-0.9.1/website/static/docs/en/html/search/variables_6.html  \n",
      "  inflating: fastText-0.9.1/website/static/docs/en/html/search/variables_6.js  \n",
      "  inflating: fastText-0.9.1/website/static/docs/en/html/search/variables_7.html  \n",
      "  inflating: fastText-0.9.1/website/static/docs/en/html/search/variables_7.js  \n",
      "  inflating: fastText-0.9.1/website/static/docs/en/html/search/variables_8.html  \n",
      "  inflating: fastText-0.9.1/website/static/docs/en/html/search/variables_8.js  \n",
      "  inflating: fastText-0.9.1/website/static/docs/en/html/search/variables_9.html  \n",
      "  inflating: fastText-0.9.1/website/static/docs/en/html/search/variables_9.js  \n",
      "  inflating: fastText-0.9.1/website/static/docs/en/html/search/variables_a.html  \n",
      "  inflating: fastText-0.9.1/website/static/docs/en/html/search/variables_a.js  \n",
      "  inflating: fastText-0.9.1/website/static/docs/en/html/search/variables_b.html  \n",
      "  inflating: fastText-0.9.1/website/static/docs/en/html/search/variables_b.js  \n",
      "  inflating: fastText-0.9.1/website/static/docs/en/html/search/variables_c.html  \n",
      "  inflating: fastText-0.9.1/website/static/docs/en/html/search/variables_c.js  \n",
      "  inflating: fastText-0.9.1/website/static/docs/en/html/search/variables_d.html  \n",
      "  inflating: fastText-0.9.1/website/static/docs/en/html/search/variables_d.js  \n",
      "  inflating: fastText-0.9.1/website/static/docs/en/html/search/variables_e.html  \n",
      "  inflating: fastText-0.9.1/website/static/docs/en/html/search/variables_e.js  \n",
      "  inflating: fastText-0.9.1/website/static/docs/en/html/search/variables_f.html  \n",
      "  inflating: fastText-0.9.1/website/static/docs/en/html/search/variables_f.js  \n",
      "  inflating: fastText-0.9.1/website/static/docs/en/html/splitbar.png  \n",
      "  inflating: fastText-0.9.1/website/static/docs/en/html/structfasttext_1_1Node-members.html  \n",
      "  inflating: fastText-0.9.1/website/static/docs/en/html/structfasttext_1_1Node.html  \n",
      "  inflating: fastText-0.9.1/website/static/docs/en/html/structfasttext_1_1Node.js  \n",
      "  inflating: fastText-0.9.1/website/static/docs/en/html/structfasttext_1_1entry-members.html  \n",
      "  inflating: fastText-0.9.1/website/static/docs/en/html/structfasttext_1_1entry.html  \n"
     ]
    },
    {
     "name": "stdout",
     "output_type": "stream",
     "text": [
      "  inflating: fastText-0.9.1/website/static/docs/en/html/structfasttext_1_1entry.js  \n",
      " extracting: fastText-0.9.1/website/static/docs/en/html/sync_off.png  \n",
      " extracting: fastText-0.9.1/website/static/docs/en/html/sync_on.png  \n",
      " extracting: fastText-0.9.1/website/static/docs/en/html/tab_a.png  \n",
      " extracting: fastText-0.9.1/website/static/docs/en/html/tab_b.png  \n",
      " extracting: fastText-0.9.1/website/static/docs/en/html/tab_h.png  \n",
      " extracting: fastText-0.9.1/website/static/docs/en/html/tab_s.png  \n",
      "  inflating: fastText-0.9.1/website/static/docs/en/html/tabs.css  \n",
      "  inflating: fastText-0.9.1/website/static/docs/en/html/utils_8cc.html  \n",
      "  inflating: fastText-0.9.1/website/static/docs/en/html/utils_8cc.js  \n",
      "  inflating: fastText-0.9.1/website/static/docs/en/html/utils_8h.html  \n",
      "  inflating: fastText-0.9.1/website/static/docs/en/html/utils_8h.js  \n",
      "  inflating: fastText-0.9.1/website/static/docs/en/html/utils_8h_source.html  \n",
      "  inflating: fastText-0.9.1/website/static/docs/en/html/vector_8cc.html  \n",
      "  inflating: fastText-0.9.1/website/static/docs/en/html/vector_8cc.js  \n",
      "  inflating: fastText-0.9.1/website/static/docs/en/html/vector_8h.html  \n",
      "  inflating: fastText-0.9.1/website/static/docs/en/html/vector_8h.js  \n",
      "  inflating: fastText-0.9.1/website/static/docs/en/html/vector_8h_source.html  \n",
      "  inflating: fastText-0.9.1/website/static/fasttext.css  \n",
      "   creating: fastText-0.9.1/website/static/img/\n",
      "   creating: fastText-0.9.1/website/static/img/authors/\n",
      "  inflating: fastText-0.9.1/website/static/img/authors/armand_joulin.jpg  \n",
      "  inflating: fastText-0.9.1/website/static/img/authors/christian_puhrsch.png  \n",
      "  inflating: fastText-0.9.1/website/static/img/authors/edouard_grave.jpeg  \n",
      "  inflating: fastText-0.9.1/website/static/img/authors/piotr_bojanowski.jpg  \n",
      "  inflating: fastText-0.9.1/website/static/img/authors/tomas_mikolov.jpg  \n",
      "   creating: fastText-0.9.1/website/static/img/blog/\n",
      "  inflating: fastText-0.9.1/website/static/img/blog/2016-08-18-blog-post-img1.png  \n",
      "  inflating: fastText-0.9.1/website/static/img/blog/2016-08-18-blog-post-img2.png  \n",
      "  inflating: fastText-0.9.1/website/static/img/blog/2017-05-02-blog-post-img1.jpg  \n",
      "  inflating: fastText-0.9.1/website/static/img/blog/2017-05-02-blog-post-img2.jpg  \n",
      "  inflating: fastText-0.9.1/website/static/img/blog/2017-10-02-blog-post-img1.png  \n",
      "  inflating: fastText-0.9.1/website/static/img/cbo_vs_skipgram.png  \n",
      "  inflating: fastText-0.9.1/website/static/img/fasttext-icon-api.png  \n",
      "  inflating: fastText-0.9.1/website/static/img/fasttext-icon-bg-web.png  \n",
      "  inflating: fastText-0.9.1/website/static/img/fasttext-icon-color-square.png  \n",
      "  inflating: fastText-0.9.1/website/static/img/fasttext-icon-color-web.png  \n",
      "  inflating: fastText-0.9.1/website/static/img/fasttext-icon-faq.png  \n",
      "  inflating: fastText-0.9.1/website/static/img/fasttext-icon-tutorial.png  \n",
      "  inflating: fastText-0.9.1/website/static/img/fasttext-icon-white-web.png  \n",
      "  inflating: fastText-0.9.1/website/static/img/fasttext-logo-color-web.png  \n",
      "  inflating: fastText-0.9.1/website/static/img/fasttext-logo-white-web.png  \n",
      "  inflating: fastText-0.9.1/website/static/img/logo-color.png  \n",
      "  inflating: fastText-0.9.1/website/static/img/model-black.png  \n",
      "  inflating: fastText-0.9.1/website/static/img/model-blue.png  \n",
      "  inflating: fastText-0.9.1/website/static/img/model-red.png  \n",
      "  inflating: fastText-0.9.1/website/static/img/ogimage.png  \n",
      "  inflating: fastText-0.9.1/website/static/img/oss_logo.png  \n",
      "  inflating: fastText-0.9.1/wikifil.pl  \n",
      "  inflating: fastText-0.9.1/word-vector-example.sh  \n",
      "/home/mijangos/Documentos/NLP/Notebooks/fastText-0.9.1\n",
      "c++ -pthread -std=c++0x -march=native -O3 -funroll-loops -DNDEBUG -c src/args.cc\n",
      "c++ -pthread -std=c++0x -march=native -O3 -funroll-loops -DNDEBUG -c src/matrix.cc\n",
      "c++ -pthread -std=c++0x -march=native -O3 -funroll-loops -DNDEBUG -c src/dictionary.cc\n",
      "c++ -pthread -std=c++0x -march=native -O3 -funroll-loops -DNDEBUG -c src/loss.cc\n",
      "c++ -pthread -std=c++0x -march=native -O3 -funroll-loops -DNDEBUG -c src/productquantizer.cc\n",
      "c++ -pthread -std=c++0x -march=native -O3 -funroll-loops -DNDEBUG -c src/densematrix.cc\n",
      "c++ -pthread -std=c++0x -march=native -O3 -funroll-loops -DNDEBUG -c src/quantmatrix.cc\n",
      "c++ -pthread -std=c++0x -march=native -O3 -funroll-loops -DNDEBUG -c src/vector.cc\n",
      "c++ -pthread -std=c++0x -march=native -O3 -funroll-loops -DNDEBUG -c src/model.cc\n",
      "c++ -pthread -std=c++0x -march=native -O3 -funroll-loops -DNDEBUG -c src/utils.cc\n",
      "c++ -pthread -std=c++0x -march=native -O3 -funroll-loops -DNDEBUG -c src/meter.cc\n",
      "c++ -pthread -std=c++0x -march=native -O3 -funroll-loops -DNDEBUG -c src/fasttext.cc\n",
      "\u001b[01m\u001b[Ksrc/fasttext.cc:\u001b[m\u001b[K In member function ‘\u001b[01m\u001b[Kvoid fasttext::FastText::quantize(const fasttext::Args&)\u001b[m\u001b[K’:\n",
      "\u001b[01m\u001b[Ksrc/fasttext.cc:323:45:\u001b[m\u001b[K \u001b[01;35m\u001b[Kwarning: \u001b[m\u001b[K‘\u001b[01m\u001b[Kstd::vector<int> fasttext::FastText::selectEmbeddings(int32_t) const\u001b[m\u001b[K’ is deprecated: selectEmbeddings is being deprecated. [\u001b[01;35m\u001b[K-Wdeprecated-declarations\u001b[m\u001b[K]\n",
      "  323 |     auto idx = selectEmbeddings(qargs.cutoff\u001b[01;35m\u001b[K)\u001b[m\u001b[K;\n",
      "      |                                             \u001b[01;35m\u001b[K^\u001b[m\u001b[K\n",
      "\u001b[01m\u001b[Ksrc/fasttext.cc:293:22:\u001b[m\u001b[K \u001b[01;36m\u001b[Knote: \u001b[m\u001b[Kdeclared here\n",
      "  293 | std::vector<int32_t> \u001b[01;36m\u001b[KFastText\u001b[m\u001b[K::selectEmbeddings(int32_t cutoff) const {\n",
      "      |                      \u001b[01;36m\u001b[K^~~~~~~~\u001b[m\u001b[K\n",
      "\u001b[01m\u001b[Ksrc/fasttext.cc:\u001b[m\u001b[K In member function ‘\u001b[01m\u001b[Kvoid fasttext::FastText::lazyComputeWordVectors()\u001b[m\u001b[K’:\n",
      "\u001b[01m\u001b[Ksrc/fasttext.cc:551:40:\u001b[m\u001b[K \u001b[01;35m\u001b[Kwarning: \u001b[m\u001b[K‘\u001b[01m\u001b[Kvoid fasttext::FastText::precomputeWordVectors(fasttext::DenseMatrix&)\u001b[m\u001b[K’ is deprecated: precomputeWordVectors is being deprecated. [\u001b[01;35m\u001b[K-Wdeprecated-declarations\u001b[m\u001b[K]\n",
      "  551 |     precomputeWordVectors(*wordVectors_\u001b[01;35m\u001b[K)\u001b[m\u001b[K;\n",
      "      |                                        \u001b[01;35m\u001b[K^\u001b[m\u001b[K\n",
      "\u001b[01m\u001b[Ksrc/fasttext.cc:534:6:\u001b[m\u001b[K \u001b[01;36m\u001b[Knote: \u001b[m\u001b[Kdeclared here\n",
      "  534 | void \u001b[01;36m\u001b[KFastText\u001b[m\u001b[K::precomputeWordVectors(DenseMatrix& wordVectors) {\n",
      "      |      \u001b[01;36m\u001b[K^~~~~~~~\u001b[m\u001b[K\n",
      "c++ -pthread -std=c++0x -march=native -O3 -funroll-loops -DNDEBUG args.o matrix.o dictionary.o loss.o productquantizer.o densematrix.o quantmatrix.o vector.o model.o utils.o meter.o fasttext.o src/main.cc -o fasttext\n"
     ]
    }
   ],
   "source": [
    "!wget https://github.com/facebookresearch/fastText/archive/v0.9.1.zip\n",
    "!unzip v0.9.1.zip\n",
    "%cd fastText-0.9.1\n",
    "!make"
   ]
  },
  {
   "cell_type": "markdown",
   "metadata": {
    "colab_type": "text",
    "id": "nlk4_lq0FaXN"
   },
   "source": [
    "Una vez instalado fasText, podemos empezar a entrenar modelos de representaciones vectoriales a partir de un corpus.\n",
    "\n",
    "Montamos el sistema de archivos de Drive:\n"
   ]
  },
  {
   "cell_type": "code",
   "execution_count": 0,
   "metadata": {
    "colab": {
     "base_uri": "https://localhost:8080/",
     "height": 124
    },
    "colab_type": "code",
    "id": "Z8-HwbBZFmwh",
    "outputId": "105ddd88-04cf-47ee-9272-b7745ccaebd0"
   },
   "outputs": [
    {
     "name": "stdout",
     "output_type": "stream",
     "text": [
      "Go to this URL in a browser: https://accounts.google.com/o/oauth2/auth?client_id=947318989803-6bn6qk8qdgf4n4g3pfee6491hc0brc4i.apps.googleusercontent.com&redirect_uri=urn%3Aietf%3Awg%3Aoauth%3A2.0%3Aoob&scope=email%20https%3A%2F%2Fwww.googleapis.com%2Fauth%2Fdocs.test%20https%3A%2F%2Fwww.googleapis.com%2Fauth%2Fdrive%20https%3A%2F%2Fwww.googleapis.com%2Fauth%2Fdrive.photos.readonly%20https%3A%2F%2Fwww.googleapis.com%2Fauth%2Fpeopleapi.readonly&response_type=code\n",
      "\n",
      "Enter your authorization code:\n",
      "··········\n",
      "Mounted at /content/drive\n"
     ]
    }
   ],
   "source": [
    "#Montamos el contenido de Google Drive\n",
    "from google.colab import drive\n",
    "drive.mount('/content/drive')"
   ]
  },
  {
   "cell_type": "markdown",
   "metadata": {
    "colab_type": "text",
    "id": "gZJrFRpGvk-m"
   },
   "source": [
    "Para entrenar el método de Fasttext, utilizaremos la combinación de dos corpus pequeños: a) el Corpus del Español Mexicano COntemporáneo (CEMC); y b) el corpus paralelo náhuatl-español Axolotl (la parte en español). \n",
    "\n",
    "\n",
    "El entrenamiento se hace a través de la línea de comandos, se pueden específicar diversos hiperparámetros ([Consultar documentación](https://fasttext.cc/docs/en/unsupervised-tutorial.html)). Dos parámetros necesarios son el archivo input y el archivo output, que generará el entrenamiento."
   ]
  },
  {
   "cell_type": "code",
   "execution_count": 0,
   "metadata": {
    "colab": {
     "base_uri": "https://localhost:8080/",
     "height": 86
    },
    "colab_type": "code",
    "id": "cWGuna4FHoWk",
    "outputId": "b263e19d-d928-4658-ba0a-b606dfb257fa"
   },
   "outputs": [
    {
     "name": "stdout",
     "output_type": "stream",
     "text": [
      "\r",
      "Read 1M words\r",
      "Read 2M words\r",
      "Read 2M words\n",
      "Number of words:  24951\n",
      "Number of labels: 0\n",
      "Progress: 100.0% words/sec/thread:   30425 lr:  0.000000 loss:  2.323974 ETA:   0h 0m\n"
     ]
    }
   ],
   "source": [
    "#Se generan dos archivos: cemc.bin (modelo) y cemc.vec (este último es literalmente un archivo de texto con un vector por línea)\n",
    "#Se pueden descargar usando el visualizador de archivos (pestaña izq.) fastText-0.9.1/result\n",
    "!mkdir result \n",
    "!./fasttext cbow -input /content/drive/My\\ Drive/Curso_RIIAA/data/cemcytodo.txt  -output result/cemc"
   ]
  },
  {
   "cell_type": "markdown",
   "metadata": {
    "colab_type": "text",
    "id": "wTlunIinIFRR"
   },
   "source": [
    "Una vez generado el modelo, podemos utilizar estos vectores de diferentes maneras, por ejemplo para una palabra devolver las palabras más cercanas/similares:\n",
    "\n",
    "\n",
    "\n",
    "\n",
    "\n",
    "\n",
    "\n",
    "\n"
   ]
  },
  {
   "cell_type": "code",
   "execution_count": 0,
   "metadata": {
    "colab": {
     "base_uri": "https://localhost:8080/",
     "height": 607
    },
    "colab_type": "code",
    "id": "QILJGSOCZ8AY",
    "outputId": "1bc4bb92-73a3-4e35-835c-bd684789f3ae"
   },
   "outputs": [
    {
     "name": "stdout",
     "output_type": "stream",
     "text": [
      "Query word? tortilla\n",
      "pipa 0.968546\n",
      "cuchilla 0.965917\n",
      "tortillita 0.963624\n",
      "mochila 0.961793\n",
      "charola 0.955275\n",
      "cazuela 0.950224\n",
      "piña 0.944366\n",
      "chava 0.93888\n",
      "mojarra 0.935765\n",
      "tortuga 0.935342\n",
      "Query word? méxico\n",
      "norteamericano 0.906974\n",
      "universitario 0.902646\n",
      "universidá 0.890821\n",
      "mexico 0.886792\n",
      "university 0.881653\n",
      "mexicano 0.871778\n",
      "mexicali 0.871125\n",
      "méx 0.857005\n",
      "latinoamericano 0.839692\n",
      "italiano 0.836293\n",
      "Query word? azteca\n",
      "zapoteca 0.971951\n",
      "orilla 0.941215\n",
      "bonilla 0.936842\n",
      "barbilla 0.93559\n",
      "zorrilla 0.934385\n",
      "polla 0.933695\n",
      "chueca 0.932377\n",
      "azuela 0.932094\n",
      "chilena 0.930416\n",
      "borbolla 0.928953\n",
      "Query word? ^C\n"
     ]
    }
   ],
   "source": [
    "!./fasttext nn result/cemc.bin"
   ]
  },
  {
   "cell_type": "markdown",
   "metadata": {
    "colab_type": "text",
    "id": "OKbfZpFXJttb"
   },
   "source": [
    "#2. Cargando los vectores en Python\n",
    "Podemos cargar los modelos obtenidos de Fasttext y manipularlos directamente desde python, utilizando el paquete gensim."
   ]
  },
  {
   "cell_type": "code",
   "execution_count": 0,
   "metadata": {
    "colab": {
     "base_uri": "https://localhost:8080/",
     "height": 454
    },
    "colab_type": "code",
    "id": "J-YIv9XMzuG2",
    "outputId": "89d99260-f961-4e60-de6c-4513e3d564fb"
   },
   "outputs": [
    {
     "name": "stdout",
     "output_type": "stream",
     "text": [
      "Collecting gensim\n",
      "\u001b[?25l  Downloading https://files.pythonhosted.org/packages/40/3d/89b27573f56abcd1b8c9598b240f53c45a3c79aa0924a24588e99716043b/gensim-3.8.0-cp36-cp36m-manylinux1_x86_64.whl (24.2MB)\n",
      "\u001b[K     |████████████████████████████████| 24.2MB 69.8MB/s \n",
      "\u001b[?25hRequirement already satisfied, skipping upgrade: numpy>=1.11.3 in /usr/local/lib/python3.6/dist-packages (from gensim) (1.16.4)\n",
      "Requirement already satisfied, skipping upgrade: smart-open>=1.7.0 in /usr/local/lib/python3.6/dist-packages (from gensim) (1.8.4)\n",
      "Requirement already satisfied, skipping upgrade: six>=1.5.0 in /usr/local/lib/python3.6/dist-packages (from gensim) (1.12.0)\n",
      "Requirement already satisfied, skipping upgrade: scipy>=0.18.1 in /usr/local/lib/python3.6/dist-packages (from gensim) (1.3.1)\n",
      "Requirement already satisfied, skipping upgrade: boto3 in /usr/local/lib/python3.6/dist-packages (from smart-open>=1.7.0->gensim) (1.9.205)\n",
      "Requirement already satisfied, skipping upgrade: requests in /usr/local/lib/python3.6/dist-packages (from smart-open>=1.7.0->gensim) (2.21.0)\n",
      "Requirement already satisfied, skipping upgrade: boto>=2.32 in /usr/local/lib/python3.6/dist-packages (from smart-open>=1.7.0->gensim) (2.49.0)\n",
      "Requirement already satisfied, skipping upgrade: s3transfer<0.3.0,>=0.2.0 in /usr/local/lib/python3.6/dist-packages (from boto3->smart-open>=1.7.0->gensim) (0.2.1)\n",
      "Requirement already satisfied, skipping upgrade: jmespath<1.0.0,>=0.7.1 in /usr/local/lib/python3.6/dist-packages (from boto3->smart-open>=1.7.0->gensim) (0.9.4)\n",
      "Requirement already satisfied, skipping upgrade: botocore<1.13.0,>=1.12.205 in /usr/local/lib/python3.6/dist-packages (from boto3->smart-open>=1.7.0->gensim) (1.12.205)\n",
      "Requirement already satisfied, skipping upgrade: chardet<3.1.0,>=3.0.2 in /usr/local/lib/python3.6/dist-packages (from requests->smart-open>=1.7.0->gensim) (3.0.4)\n",
      "Requirement already satisfied, skipping upgrade: urllib3<1.25,>=1.21.1 in /usr/local/lib/python3.6/dist-packages (from requests->smart-open>=1.7.0->gensim) (1.24.3)\n",
      "Requirement already satisfied, skipping upgrade: certifi>=2017.4.17 in /usr/local/lib/python3.6/dist-packages (from requests->smart-open>=1.7.0->gensim) (2019.6.16)\n",
      "Requirement already satisfied, skipping upgrade: idna<2.9,>=2.5 in /usr/local/lib/python3.6/dist-packages (from requests->smart-open>=1.7.0->gensim) (2.8)\n",
      "Requirement already satisfied, skipping upgrade: python-dateutil<3.0.0,>=2.1; python_version >= \"2.7\" in /usr/local/lib/python3.6/dist-packages (from botocore<1.13.0,>=1.12.205->boto3->smart-open>=1.7.0->gensim) (2.5.3)\n",
      "Requirement already satisfied, skipping upgrade: docutils<0.15,>=0.10 in /usr/local/lib/python3.6/dist-packages (from botocore<1.13.0,>=1.12.205->boto3->smart-open>=1.7.0->gensim) (0.14)\n",
      "Installing collected packages: gensim\n",
      "  Found existing installation: gensim 3.6.0\n",
      "    Uninstalling gensim-3.6.0:\n",
      "      Successfully uninstalled gensim-3.6.0\n",
      "Successfully installed gensim-3.8.0\n"
     ]
    }
   ],
   "source": [
    "# Install / Upgrade Gensim\n",
    "!pip install --upgrade gensim"
   ]
  },
  {
   "cell_type": "markdown",
   "metadata": {
    "colab_type": "text",
    "id": "gLZ5RmKNxC1h"
   },
   "source": [
    "Cargamos el modelo:"
   ]
  },
  {
   "cell_type": "code",
   "execution_count": 0,
   "metadata": {
    "colab": {},
    "colab_type": "code",
    "id": "VZGMbBb4z5Ky"
   },
   "outputs": [],
   "source": [
    "from gensim.models.wrappers import FastText\n",
    "\n",
    "#Carga modelo pre-entrenado\n",
    "model = FastText.load_fasttext_format('result/cemc')\n"
   ]
  },
  {
   "cell_type": "markdown",
   "metadata": {
    "colab_type": "text",
    "id": "PVPV09yZ4iI6"
   },
   "source": [
    "Una vez cargado el modelo podemos jugar con los vectores directamente desde python. Aquí también se pueden buscar palabras similares o bien determinar la similitud entre una y otra palabra:\n"
   ]
  },
  {
   "cell_type": "code",
   "execution_count": 0,
   "metadata": {
    "colab": {
     "base_uri": "https://localhost:8080/",
     "height": 89
    },
    "colab_type": "code",
    "id": "YfbIEd824_HK",
    "outputId": "6a189097-feb6-40a0-9886-f8965cce15f3"
   },
   "outputs": [
    {
     "name": "stdout",
     "output_type": "stream",
     "text": [
      "[('zapoteca', 0.9719510078430176), ('orilla', 0.9412146806716919), ('bonilla', 0.9368422627449036), ('barbilla', 0.9355900883674622), ('zorrilla', 0.934384822845459), ('polla', 0.9336952567100525), ('chueca', 0.9323766827583313), ('azuela', 0.9320937395095825), ('chilena', 0.9304165244102478), ('borbolla', 0.9289524555206299)]\n",
      "[('americano', 0.9667645692825317), ('mexico', 0.9505746364593506), ('norteamericano', 0.9450423717498779), ('africano', 0.9262045621871948), ('republicano', 0.9257711172103882), ('latinoamericano', 0.9056142568588257), ('mexicanismo', 0.9027756452560425), ('universitario', 0.8979648351669312), ('organizador', 0.8943582773208618), ('italiano', 0.8912588357925415)]\n",
      "0.31398705\n"
     ]
    }
   ],
   "source": [
    "#Buscar las palabras más similares a query\n",
    "print(model.most_similar('azteca'))\n",
    "print(model.most_similar('mexicano'))\n",
    "\n",
    "#Similitud entre dos palabras dasdas\n",
    "print(model.similarity('mexico', 'país'))"
   ]
  },
  {
   "cell_type": "markdown",
   "metadata": {
    "colab_type": "text",
    "id": "DSpQsJ0t7DeI"
   },
   "source": [
    "Una de las ventajas de fastText es que, además de obtener los vectores de palabras que se encontraban en el vocabulario de entrenamiento, es capaz de construir representaciones vectoriales de palabras que no estaban en este vocabulario (*Out-Of-Vocabulary words, OOV*). Esto se realiza a través de una operación de composición de subwords."
   ]
  },
  {
   "cell_type": "code",
   "execution_count": 0,
   "metadata": {
    "colab": {
     "base_uri": "https://localhost:8080/",
     "height": 69
    },
    "colab_type": "code",
    "id": "Kn9y9H5E7cL1",
    "outputId": "cbd846bd-bf2b-4325-a30d-66810d522416"
   },
   "outputs": [
    {
     "name": "stdout",
     "output_type": "stream",
     "text": [
      "True\n",
      "False\n",
      "0.9610355\n"
     ]
    }
   ],
   "source": [
    "#Palabra dentro del vocabulario\n",
    "existent_word = \"computadora\"\n",
    "print(existent_word in model.wv.vocab)\n",
    "#Obtención del vector de esta palabra\n",
    "vector_computadora = model.wv[existent_word]\n",
    "\n",
    "#Palabra oov\n",
    "oov_word = \"computadorsota\"\n",
    "print(oov_word in model.wv.vocab)\n",
    "#Obtención del vector de oov\n",
    "vector_oov = model.wv[oov_word]\n",
    "\n",
    "#Similitud entre ambos\n",
    "print(model.similarity(existent_word, oov_word))"
   ]
  },
  {
   "cell_type": "markdown",
   "metadata": {
    "colab_type": "text",
    "id": "1ScNJI-qym2O"
   },
   "source": [
    "#3. Agrupamiento con spectral clustering\n",
    "\n",
    "Una vez obtenidos los vectores de Fasttext, podemos aplicar el algoritmo de spectral clustering, vamos a agrupar y visualizar los datos obtenidos."
   ]
  },
  {
   "cell_type": "code",
   "execution_count": 0,
   "metadata": {
    "colab": {},
    "colab_type": "code",
    "id": "VFnmkPwryuQ3"
   },
   "outputs": [],
   "source": [
    "#Paquetería necesaria\n",
    "import numpy as np\n",
    "import matplotlib.pyplot as plt\n",
    "from sklearn.decomposition import PCA\n",
    "from sklearn.cluster import KMeans\n",
    "import pandas as pd\n",
    "import networkx as nx\n",
    "from scipy.linalg import eig\n",
    "from operator import itemgetter"
   ]
  },
  {
   "cell_type": "markdown",
   "metadata": {
    "colab_type": "text",
    "id": "mKnz0i0uzoHH"
   },
   "source": [
    "Dado que Fasttext permite representar palabras OOV, podemos darle cualquier lista arbitraría de léxico y obtener vectores que los representen."
   ]
  },
  {
   "cell_type": "code",
   "execution_count": 0,
   "metadata": {
    "colab": {},
    "colab_type": "code",
    "id": "kWNifpNdHYW6"
   },
   "outputs": [],
   "source": [
    "#Lista de palabras para trabajar\n",
    "vocab_words = ['amo','amas','amamos','ama','aman','come','como','comemos','comen','toco','tocas','tocan','tocamos','gato','minino','gatito','gatos','mininos',\n",
    "               'flor','flores','mininito','computadora','computadoras']"
   ]
  },
  {
   "cell_type": "markdown",
   "metadata": {
    "colab_type": "text",
    "id": "Q75NRHQv0E5Q"
   },
   "source": [
    "Obtenemos los vectores que representan a las palabras anteriores y los guardamos en un arreglo."
   ]
  },
  {
   "cell_type": "code",
   "execution_count": 0,
   "metadata": {
    "colab": {
     "base_uri": "https://localhost:8080/",
     "height": 34
    },
    "colab_type": "code",
    "id": "fZzWyHEBIL3p",
    "outputId": "093c42da-5fdb-44fe-db68-eb9bf074a54d"
   },
   "outputs": [
    {
     "name": "stdout",
     "output_type": "stream",
     "text": [
      "(23, 100)\n"
     ]
    }
   ],
   "source": [
    "#Tamaño del vocabulario\n",
    "N = len(vocab_words)\n",
    "\n",
    "#Matrix de NxNúmero de dimmensiones\n",
    "X = np.zeros((N,100))\n",
    "#Llenamos la matriz con los vectores palabra\n",
    "for i,w in enumerate(vocab_words):\n",
    "  X[i] = model.wv[w]\n",
    "\n",
    "print(X.shape)"
   ]
  },
  {
   "cell_type": "markdown",
   "metadata": {
    "colab_type": "text",
    "id": "4jN76ZUw0eFT"
   },
   "source": [
    "Podemos visualizar estos datos a partir de la siguiente función:"
   ]
  },
  {
   "cell_type": "code",
   "execution_count": 0,
   "metadata": {
    "colab": {
     "base_uri": "https://localhost:8080/",
     "height": 269
    },
    "colab_type": "code",
    "id": "SxSusFRIIDOd",
    "outputId": "084c418b-764b-4d2f-8600-0fcf68a81b8f"
   },
   "outputs": [
    {
     "data": {
      "image/png": "[encoded data removed]",
      "text/plain": [
       "<Figure size 432x288 with 1 Axes>"
      ]
     },
     "metadata": {
      "tags": []
     },
     "output_type": "display_data"
    }
   ],
   "source": [
    "#Función para plotear\n",
    "def plot_words(Z,ids,color='blue'):\n",
    "    #Reduce a dos dimensiones con PCA\n",
    "    Z = PCA(n_components=2).fit_transform(Z)\n",
    "    r=0\n",
    "    #Plotea las dimensiones\n",
    "    plt.scatter(Z[:,0],Z[:,1], marker='o', c=color)\n",
    "    for label,x,y in zip(ids, Z[:,0], Z[:,1]):\n",
    "        #Agrega las etiquetas\n",
    "        plt.annotate(label, xy=(x,y), xytext=(-1,1), textcoords='offset points', ha='center', va='bottom')\n",
    "        r+=1\n",
    "\n",
    "#Ploteo de los datos\n",
    "plot_words(X, vocab_words)\n",
    "plt.show()"
   ]
  }
 ],
 "metadata": {
  "accelerator": "GPU",
  "colab": {
   "collapsed_sections": [],
   "name": "02 FastText.ipynb",
   "provenance": []
  },
  "kernelspec": {
   "display_name": "Python 3",
   "language": "python",
   "name": "python3"
  },
  "language_info": {
   "codemirror_mode": {
    "name": "ipython",
    "version": 3
   },
   "file_extension": ".py",
   "mimetype": "text/x-python",
   "name": "python",
   "nbconvert_exporter": "python",
   "pygments_lexer": "ipython3",
   "version": "3.8.5"
  }
 },
 "nbformat": 4,
 "nbformat_minor": 1
}
