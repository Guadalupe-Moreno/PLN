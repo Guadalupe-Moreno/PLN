{
  "nbformat": 4,
  "nbformat_minor": 0,
  "metadata": {
    "colab": {
      "name": "ExpReg.ipynb",
      "provenance": []
    },
    "kernelspec": {
      "name": "python3",
      "display_name": "Python 3"
    }
  },
  "cells": [
    {
      "cell_type": "markdown",
      "metadata": {
        "id": "mrDcIWFLYl7d"
      },
      "source": [
        "# **Expresiones regulares**"
      ]
    },
    {
      "cell_type": "markdown",
      "metadata": {
        "id": "WQvRY6ZsYqRG"
      },
      "source": [
        "Las expresiones regulares definen un lenguaje regular $L$, en la forma $L = [[r]]$, donde $r$ es una expresión regular. Para el lenguaje natural, se pueden utilizar las expresiones regulares para encontrar patrones concretos. En este sentido, el lenguaje regular que estamos definiendo no corresponde al lenguaje humano completo, sino sólo a una parte (pequeña) de éste. A continuación revisamos algunos conceptos esenciales sobre expresiones regulares."
      ]
    },
    {
      "cell_type": "code",
      "metadata": {
        "id": "WVdJs2IWUE0x"
      },
      "source": [
        "#Importa paquetes\n",
        "import nltk\n",
        "import re\n",
        "#NLTK contiene corpus en español\n",
        "from nltk.corpus import cess_esp"
      ],
      "execution_count": 1,
      "outputs": []
    },
    {
      "cell_type": "markdown",
      "metadata": {
        "id": "dsuLIrN9Y0Uo"
      },
      "source": [
        "Para obtener el corpus que utilizaremos, lo descargamos con el comando nltk.download()."
      ]
    },
    {
      "cell_type": "code",
      "metadata": {
        "colab": {
          "base_uri": "https://localhost:8080/"
        },
        "id": "4M43GP0kYxWB",
        "outputId": "b62516f8-9d22-4dc4-90f5-93b86e5788d6"
      },
      "source": [
        "#Descarga de corpus\n",
        "nltk.download('cess_esp')"
      ],
      "execution_count": 2,
      "outputs": [
        {
          "output_type": "stream",
          "text": [
            "[nltk_data] Downloading package cess_esp to /root/nltk_data...\n",
            "[nltk_data]   Unzipping corpora/cess_esp.zip.\n"
          ],
          "name": "stdout"
        },
        {
          "output_type": "execute_result",
          "data": {
            "text/plain": [
              "True"
            ]
          },
          "metadata": {
            "tags": []
          },
          "execution_count": 2
        }
      ]
    },
    {
      "cell_type": "code",
      "metadata": {
        "colab": {
          "base_uri": "https://localhost:8080/"
        },
        "id": "VGLypNv2ZGry",
        "outputId": "00d60c8e-ac3e-4b0c-9874-a3e7edb89874"
      },
      "source": [
        "#Obtenemos el corpus como un texto\n",
        "corpus = ' '.join(cess_esp.words())\n",
        "print(corpus[:100])"
      ],
      "execution_count": 3,
      "outputs": [
        {
          "output_type": "stream",
          "text": [
            "El grupo estatal Electricité_de_France -Fpa- EDF -Fpt- anunció hoy , jueves , la compra del 51_por_c\n"
          ],
          "name": "stdout"
        }
      ]
    },
    {
      "cell_type": "markdown",
      "metadata": {
        "id": "yNACLEQ7ZLJk"
      },
      "source": [
        "El grupo estatal Electricité_de_France -Fpa- EDF -Fpt- anunció hoy , jueves , la compra del 51_por_c\n",
        "Para definir el lenguje regular utilizaremos una expresión regular. Esta expresión regular aceptará todo lo que sea parte del lenguaje dentro del corpus. Claramente, el alfabeto que utilizamos es el alfabeto latino.\n",
        "\n",
        "En este caso, el lenguaje que buscamos corresponde a todas aquellas palabras que terminen en 'os'. Si bien muchas de estas palabras serán plurales, habrá casos en los que esto no suceda."
      ]
    },
    {
      "cell_type": "code",
      "metadata": {
        "id": "Mu43wDXZZNGc"
      },
      "source": [
        "#Definimos la expresión regular\n",
        "regex = re.compile(r'[^ ]+os')"
      ],
      "execution_count": 4,
      "outputs": []
    },
    {
      "cell_type": "code",
      "metadata": {
        "id": "-uYvUBDaZRPy"
      },
      "source": [
        "#Buscamos todas las palabras que pertenezcan al lenguaje\n",
        "#dentro del corpus\n",
        "matches = re.findall(regex,corpus)"
      ],
      "execution_count": 5,
      "outputs": []
    },
    {
      "cell_type": "code",
      "metadata": {
        "colab": {
          "base_uri": "https://localhost:8080/"
        },
        "id": "b8suxoGLZXYw",
        "outputId": "ec7de6c6-4ebc-4988-f139-f25b0c379333"
      },
      "source": [
        "print(matches[:10])"
      ],
      "execution_count": 6,
      "outputs": [
        {
          "output_type": "stream",
          "text": [
            "['megavatios', 'años', 'pos', 'dos', 'euros', 'megavatios', 'euros', 'megavatios', 'Celia_Villalobos', 'los']\n"
          ],
          "name": "stdout"
        }
      ]
    },
    {
      "cell_type": "markdown",
      "metadata": {
        "id": "AF55lhGdZYoD"
      },
      "source": [
        "# **Pluralización con expresiones regulares**"
      ]
    },
    {
      "cell_type": "markdown",
      "metadata": {
        "id": "BSxdK9gTZejf"
      },
      "source": [
        "Las expresiones regulares se pueden utilizar para buscar patrones lingüísticos especificos que obedezcan a reglas muy particulares. Por ejemplo, en el plural del español, en la mayoría de las palabras se concatena un símbolo 's' al final de la palabra. Pero en otros casos (cuando la palabra termina en consonante), lo que se concatena es la subcadena 'es'. Más aún, si la palabra termina en 's', no suele concatenarce nada.\n",
        "\n",
        "Otro caso particular es cuando las palabras terminan en 'z'. En estos casos, además existe una substitución de 'z' por 'c', además de que se concatena 'es'."
      ]
    },
    {
      "cell_type": "code",
      "metadata": {
        "colab": {
          "base_uri": "https://localhost:8080/"
        },
        "id": "GqCT7j3HZi8d",
        "outputId": "3c9c5ff6-2650-4ff5-fefb-a9331bbcbddf"
      },
      "source": [
        "#Palabras ejemplo\n",
        "singulares = ['análisis', 'gato', 'niña', 'pasante', 'flor', 'reloj', 'rubí', 'avestruz']\n",
        "\n",
        "for sg in singulares:\n",
        "  #Se busca las palabras que terminan en consonante o 'i'\n",
        "  if re.match(r'[^ ]+[í|b|c|d|g|j|k|l|m|n|p|q|r|t|v|w|y]\\b',sg):\n",
        "    #Se concatena 'es'\n",
        "    print(sg+'es')\n",
        "  \n",
        "  #Se busca palabras que terminen en z\n",
        "  elif re.match(r'[^ ]+z\\b',sg):\n",
        "    #Se sustituye 'z' por 'c'\n",
        "    pl = re.sub(r'z\\b',r'c',sg)\n",
        "    #Se concatena 'es'\n",
        "    print(pl+'es')\n",
        "    \n",
        "  #Se busca palabras que terminen en s\n",
        "  elif re.match(r'[^ ]+s\\b',sg):\n",
        "    #Se deja la palabra tal como es\n",
        "    print(sg)\n",
        "    \n",
        "  #En otro caso, sólo se concatena s\n",
        "  else:\n",
        "    print(sg+'s')"
      ],
      "execution_count": 7,
      "outputs": [
        {
          "output_type": "stream",
          "text": [
            "análisis\n",
            "gatos\n",
            "niñas\n",
            "pasantes\n",
            "flores\n",
            "relojes\n",
            "rubíes\n",
            "avestruces\n"
          ],
          "name": "stdout"
        }
      ]
    }
  ]
}