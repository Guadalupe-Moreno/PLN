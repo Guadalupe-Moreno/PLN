{
 "cells": [
  {
   "cell_type": "markdown",
   "metadata": {
    "collapsed": true
   },
   "source": [
    "# RNN bidireccional"
   ]
  },
  {
   "cell_type": "markdown",
   "metadata": {},
   "source": [
    "Analizaremos la estructura de una red recurrente bidireccional. Nuestro objetivo será construir un modelo del lenguaje que tome como cadena de entrada una secuencia de palabras $w_1,...,w_T$ y cuya salida sean las probabilidades de las palabras subsecuentes. La idea es que el modelo del lenguaje tome en cuenta todos los estados anteriores, pero tambien los siguientes. Para esto se utiliza la arquitectura bidireccional. De esta forma, estableceremos una probabilidad: \n",
    "$$p(w_i|w_1,...,w_{i-1},w_{i+1}...,w_T,)$$\n",
    "\n",
    "Para realizar esta probabilidad utilizaremos una arquitectura de red neuronal recurrente (RNN) y bidireccional. En primer lugar definiremos algunas funciones para manejar el texto."
   ]
  },
  {
   "cell_type": "code",
   "execution_count": 1,
   "metadata": {},
   "outputs": [],
   "source": [
    "#-*- encoding:utf-8 -*-\n",
    "import numpy as np\n",
    "from collections import defaultdict, Counter\n",
    "from itertools import chain\n",
    "\n",
    "#Funcion que crea un vocabulario de palabras con un indice numerico\n",
    "def vocab():\n",
    "    vocab = defaultdict()\n",
    "    vocab.default_factory = lambda: len(vocab)\n",
    "    return vocab    \n",
    "\n",
    "#Funcion que pasa la cadena de simbolos a una secuencia con indices numericos\n",
    "def text2numba(corpus, vocab):\n",
    "    for doc in corpus:\n",
    "        yield [vocab[w] for w in doc.split()]"
   ]
  },
  {
   "cell_type": "markdown",
   "metadata": {},
   "source": [
    "### Procesamiento del corpus\n",
    "\n",
    "Al igual que con modelos del lenguaje más tradicionales, tomamos un corpus e indexamos las palabras con valores numéricos, con el objetivo de que sea más fácil manejarlas."
   ]
  },
  {
   "cell_type": "code",
   "execution_count": 2,
   "metadata": {},
   "outputs": [
    {
     "name": "stdout",
     "output_type": "stream",
     "text": [
      "[[0, 1, 2, 3, 4], [3, 5, 6], [0, 5, 7, 8, 9], [3, 1, 2, 10], [0, 1, 2], [0, 11, 2, 10], [3, 11, 2]]\n"
     ]
    }
   ],
   "source": [
    "corpus = ['el perro come un hueso', 'un muchacho jugaba', 'el muchacho saltaba la cuerda',\n",
    "          'un perro come croquetas', 'el perro come', 'el gato come croquetas', 'un gato come']\n",
    "\n",
    "#Llamamos la funcion para crear el vocabulario\n",
    "idx = vocab()\n",
    "#Creamos el vocabulario y le asignamos un indice a cada simbolo segun su aparicion\n",
    "cads_idx = list(text2numba(corpus,idx))\n",
    "\n",
    "print(cads_idx)"
   ]
  },
  {
   "cell_type": "markdown",
   "metadata": {},
   "source": [
    "Además, tenemos que añadir los símbolos de BOS (Beginning Of Sentence) y EOS (End Of Sentence). Estas palabras también se añaden al vocabulario con índices numéricos."
   ]
  },
  {
   "cell_type": "code",
   "execution_count": 3,
   "metadata": {},
   "outputs": [
    {
     "name": "stdout",
     "output_type": "stream",
     "text": [
      "defaultdict(<function vocab.<locals>.<lambda> at 0x7f31466954c0>, {'el': 0, 'perro': 1, 'come': 2, 'un': 3, 'hueso': 4, 'muchacho': 5, 'jugaba': 6, 'saltaba': 7, 'la': 8, 'cuerda': 9, 'croquetas': 10, 'gato': 11, '<EOS>': 12, '<BOS>': 13})\n"
     ]
    }
   ],
   "source": [
    "#Indicamos las etiquetas a usar\n",
    "EOS = '<EOS>'\n",
    "BOS = '<BOS>'\n",
    "\n",
    "#Cada etiqeuta se le asigna un indice numerico\n",
    "BOS_IDX = max(idx.values())+2\n",
    "EOS_IDX = max(idx.values())+1\n",
    "\n",
    "#Se agregan estas etiqeutas al vocabulario\n",
    "idx[EOS] = EOS_IDX\n",
    "idx[BOS] = BOS_IDX\n",
    "\n",
    "#A cada cadena se le agrega la etiqueta BOS al inicio y EOS al final\n",
    "cadenas = [[BOS_IDX] + cad + [EOS_IDX] for cad in cads_idx]\n",
    "\n",
    "#Se obtiene la longitud del alfabeto\n",
    "N = len(idx)\n",
    "\n",
    "print(idx)"
   ]
  },
  {
   "cell_type": "markdown",
   "metadata": {},
   "source": [
    "### Bidirectional-RNN\n",
    "\n",
    "Para construir la RNN bidireccional definiremos una arquitectura simple con celdas vanilla:\n",
    "\n",
    "1) Incorporaremos una capa de embedding. En esta se tomará un one-hot $s^{(t)}$ que represente a una palabra $w_t$. Definiremos una matriz que guarde los vectores de embedding, $C$ de $d\\times N$, donde $d$ es la dimensión de los embeddings y $N$ el tamaño del vocabulario. Así, la capa de embedding estará definida por $$x = Cs^{(t)}$$\n",
    "\n",
    "2) Las celdas bidireccionales son independientes entre sí (pero dependientes de la entrada y la salida). Por facilidad, ambas celdas tendrán la misma dimensión $m$, pero las matrices que la parámetros que la definen (matrices de pesos y bias) son distintas. La celda de avance se definirá  como:\n",
    "\n",
    "$$h_{\\rightarrow t} = \\tanh(V_{\\rightarrow}h_{t-1} + U_{\\rightarrow}x + b_{\\rightarrow})$$\n",
    "\n",
    "Por su parte, la celda de retroceso será:\n",
    "\n",
    "$$h_{\\leftarrow t} = \\tanh(V_{\\leftarrow}h_{t+1} + U_{\\leftarrow}x + b_{\\leftarrow})$$ \n",
    "\n",
    "Las celdas de avance y retroceso lucen parecidas, sin embargo, los parámetros seránn distintos; asimismo, la celda de avance tomará la celda en el estado anterior, mientras que la de avance tomará la celda en el estado siguiente..\n",
    "\n",
    "3) La capa de salida se conformará por la función Softmax. Así, la definimos como $$\\phi(x) = Softmax(Wh_t + c)$$\n",
    "\n",
    "En primer lugar, inicializamos los parámetros de la red."
   ]
  },
  {
   "cell_type": "code",
   "execution_count": 4,
   "metadata": {},
   "outputs": [],
   "source": [
    "np.random.seed(0)\n",
    "#El número de rasgos que representan cada vector\n",
    "nn_input_dim = N\n",
    "#El total de clases que arrojará\n",
    "output_dim = N-1\n",
    "\n",
    "#Dimensiones de los vectores-palabra\n",
    "dim = 2\n",
    "cell_dim = 3\n",
    "\n",
    "#Embedding\n",
    "C = np.random.randn(dim,nn_input_dim) / np.sqrt(nn_input_dim)\n",
    "\n",
    "#Capa oculta\n",
    "#Celda forward\n",
    "V_for = np.random.randn(cell_dim,cell_dim) / np.sqrt(cell_dim)\n",
    "#Celda backward\n",
    "V_back = np.random.randn(cell_dim,cell_dim) / np.sqrt(cell_dim)\n",
    "\n",
    "#Capa oculta, entrada\n",
    "#Celda forward\n",
    "U_for = np.random.randn(cell_dim,dim) / np.sqrt(dim)\n",
    "b_for = np.zeros(cell_dim)\n",
    "\n",
    "#Celda backward\n",
    "U_back = np.random.randn(cell_dim,dim) / np.sqrt(dim)\n",
    "b_back = np.zeros(cell_dim)\n",
    "\n",
    "#Capa de salida\n",
    "W = np.random.randn(output_dim,2*cell_dim) / np.sqrt(cell_dim)\n",
    "c = np.zeros(output_dim)"
   ]
  },
  {
   "cell_type": "markdown",
   "metadata": {},
   "source": [
    "A continuación, definimos el entrenamiento: la fase de forward y el backpropagation. Utilizamos un rango de aprendizaje (lr) de 0.1 y 100 iteraciones (it).\n",
    "\n",
    "En este caso, calculamos todas las celdas de avance y retroceso antes de pasar a la siguiente capa. Para hacer de manera sencial, en el retroceso sólo invertimos la cadena, de tal forma que la red recorra la cadena en sentido inverso. Tanto las celdas de avance y retroceso se almacenan en matrices, que serán utilizadas en la capa de salida."
   ]
  },
  {
   "cell_type": "code",
   "execution_count": 5,
   "metadata": {},
   "outputs": [],
   "source": [
    "it = 15\n",
    "lr = 0.1\n",
    "\n",
    "for t in range(it):\n",
    "    \n",
    "    #Avance\n",
    "    for seq in cadenas:\n",
    "        #Inicializaciopn de estados\n",
    "        h_for = np.zeros((len(seq)+1,cell_dim))\n",
    "        #Inicialización de estados\n",
    "        h_back = np.zeros((len(seq)+1,cell_dim))\n",
    "        \n",
    "        #Avance\n",
    "        for t,w in enumerate(seq):\n",
    "            #FORWARD\n",
    "            #Embedding\n",
    "            x = C.T[w]\n",
    "                        \n",
    "            #VANILLA CELLS\n",
    "            #Avance\n",
    "            act_for = np.dot(V_for,h_for[t]) + np.dot(U_for,x) + b_for\n",
    "            h_for[t+1] = np.tanh(act_for)\n",
    "              \n",
    "        #Retroceso\n",
    "        for t,w in enumerate(seq[::-1]):\n",
    "            #FORWARD\n",
    "            #Embedding\n",
    "            x = C.T[w]\n",
    "            \n",
    "            #VANILLA CELLS\n",
    "            #Retroceso\n",
    "            act_back = np.dot(V_back,h_back[t]) + np.dot(U_back,x) + b_back\n",
    "            h_back[t+1] = np.tanh(act_back)\n",
    "        \n",
    "        #OPUTPUT & BACKPROP\n",
    "        for t, w in enumerate(seq):\n",
    "            #Avance+Retroceso\n",
    "            h = np.concatenate((h_for[t+1], h_back[t+1]), axis=None)\n",
    "            \n",
    "            #capa de salida\n",
    "            preAct = np.exp(np.dot(W,h) + c)\n",
    "            #Softmax\n",
    "            probs = preAct/preAct.sum(0)\n",
    "            \n",
    "            #BACK-PROP\n",
    "            #Variable de salida\n",
    "            d_out = probs\n",
    "            if t < len(seq)-1:\n",
    "                d_out[seq[t+1]] -= 1\n",
    "            else:\n",
    "                d_out[EOS_IDX] -= 1\n",
    "            \n",
    "            #Variable de celdas\n",
    "            d_h = (1-h**2)*np.dot(W.T,d_out)\n",
    "            \n",
    "            #Variable de embedding\n",
    "            d_emb = np.dot(U_for.T,d_h[:cell_dim]) + np.dot(U_back.T,d_h[cell_dim:])\n",
    "\n",
    "            #Jacobianas\n",
    "            dW = np.outer(d_out,h)\n",
    "            #Avance\n",
    "            dV_for = np.outer(d_h[:cell_dim], h_for[t+1])\n",
    "            dU_for = np.outer(d_h[:cell_dim], x)\n",
    "            #Retroceso\n",
    "            dV_back = np.outer(d_h[cell_dim:], h_back[t+1])\n",
    "            dU_back = np.outer(d_h[cell_dim:], x)\n",
    "\n",
    "            #Gradientes descendientes\n",
    "            W -= lr*dW\n",
    "            c -= lr*d_out\n",
    "            \n",
    "            V_for -= lr*dV_for\n",
    "            V_back -= lr*dV_back\n",
    "            \n",
    "            U_for -= lr*dU_for\n",
    "            b_for -= lr*d_h[:cell_dim]\n",
    "            U_back -= lr*dU_back\n",
    "            b_back -= lr*d_h[cell_dim:]\n",
    "            \n",
    "            C.T[w] -= lr*d_emb"
   ]
  },
  {
   "cell_type": "markdown",
   "metadata": {},
   "source": [
    "### Calculo de probabilidades\n",
    "\n",
    "Una vez entrenado el modelo, definimos una función (forward) que corra la red sobre una cadena de entrada."
   ]
  },
  {
   "cell_type": "code",
   "execution_count": 6,
   "metadata": {},
   "outputs": [],
   "source": [
    "def forward(sent, h0_for = np.zeros(cell_dim), h0_back = np.zeros(cell_dim)):\n",
    "    sent = [idx[i] for i in sent.split()]\n",
    "    prob_tot = np.zeros((len(sent),N-1))\n",
    "    \n",
    "    #Inicializaciopn de estados\n",
    "    h_for = np.zeros((len(sent)+1,cell_dim))\n",
    "    #Inicialización de estados\n",
    "    h_back = np.zeros((len(sent)+1,cell_dim))\n",
    "\n",
    "    #Asignación de valores iniciales\n",
    "    h_for[0] = h0_for\n",
    "    h_back[0] = h0_back\n",
    "\n",
    "    #Avance\n",
    "    for t,w in enumerate(sent):\n",
    "        #FORWARD\n",
    "        #Embedding\n",
    "        x = C.T[w]\n",
    "\n",
    "        #VANILLA CELLS\n",
    "        #Avance\n",
    "        act_for = np.dot(V_for,h_for[t]) + np.dot(U_for,x) + b_for\n",
    "        h_for[t+1] = np.tanh(act_for)\n",
    "\n",
    "    #Retroceso\n",
    "    for t,w in enumerate(sent[::-1]):\n",
    "        #BACKWARD\n",
    "        #Embedding\n",
    "        x = C.T[w]\n",
    "\n",
    "        #VANILLA CELLS\n",
    "        #Retroceso\n",
    "        act_back = np.dot(V_back,h_back[t]) + np.dot(U_back,x) + b_back\n",
    "        h_back[t+1] = np.tanh(act_back)\n",
    "\n",
    "    #OPUTPUT & BACKPROP\n",
    "    for t, w in enumerate(sent):\n",
    "        #Avance+Retroceso\n",
    "        h = np.concatenate((h_for[t+1], h_back[t+1]), axis=None)\n",
    "\n",
    "        #capa de salida\n",
    "        preAct = np.exp(np.dot(W,h) + c)\n",
    "        #Softmax\n",
    "        probs = preAct/preAct.sum(0)\n",
    "\n",
    "        #Se almacenan las probabilidades\n",
    "        prob_tot[t] = probs\n",
    "        \n",
    "    return np.concatenate((h_for,h_back), axis=1), prob_tot       "
   ]
  },
  {
   "cell_type": "markdown",
   "metadata": {},
   "source": [
    "Finalmente, podemos aplicar la red a una cadena para obtener su probabilidad. Como modelo del lenguaje, podemos aplicar para obtener las probabilidades de transición. Por ejemplo, si la aplicamos al símbolos BOS, obtendremos las probabilidades de que una palabra inicie una cadena."
   ]
  },
  {
   "cell_type": "code",
   "execution_count": 7,
   "metadata": {},
   "outputs": [
    {
     "name": "stdout",
     "output_type": "stream",
     "text": [
      "el 0.5012979372900094\n",
      "perro 0.024846168157972845\n",
      "come 8.633815894655691e-05\n",
      "un 0.34325029006404306\n",
      "hueso 0.003818904446129631\n",
      "muchacho 0.009013087983843142\n",
      "jugaba 0.0003178361964267705\n",
      "saltaba 0.0019774410218603104\n",
      "la 0.00028491209093621587\n",
      "cuerda 0.00033570131180064183\n",
      "croquetas 0.0031412186713584483\n",
      "gato 0.017196161003810675\n",
      "<EOS> 0.09443400360286232\n",
      "0.9999999999999999\n"
     ]
    }
   ],
   "source": [
    "#Obtenemos las matrices de avance y retroceso asi como vector de probs\n",
    "H,p = forward('<BOS>')\n",
    "\n",
    "#Probabilidades iniciales p(w|BOS)\n",
    "for word, j in idx.items():\n",
    "    if word != '<BOS>':\n",
    "        print(word, p[0][j])\n",
    "        \n",
    "#Suma igual a 1\n",
    "print(p[0].sum(0))"
   ]
  },
  {
   "cell_type": "markdown",
   "metadata": {
    "collapsed": true
   },
   "source": [
    "Asimismo, podemos obtener las probabilidades de una palabra dada las $n$ anteriores, lo que determina un modelo de $n-gramas$. Por ejemplo, podemos obtener probabilidades del tipo $p(w_i|w_{i-1},w_{i-2})$."
   ]
  },
  {
   "cell_type": "code",
   "execution_count": 8,
   "metadata": {},
   "outputs": [
    {
     "name": "stdout",
     "output_type": "stream",
     "text": [
      "el 9.783450968908839e-05\n",
      "perro 0.0005589984902912686\n",
      "come 0.7379091682819992\n",
      "un 0.000794493644275071\n",
      "hueso 0.004666398765461557\n",
      "muchacho 0.0012035776424747086\n",
      "jugaba 0.019929786869976054\n",
      "saltaba 0.007640027318894942\n",
      "la 0.09129820570939207\n",
      "cuerda 0.06372330366928934\n",
      "croquetas 0.055622993856730155\n",
      "gato 0.0013136538521516818\n",
      "<EOS> 0.015241557389374895\n",
      "1.0\n"
     ]
    }
   ],
   "source": [
    "#Forward\n",
    "H,p = forward('el perro')\n",
    "\n",
    "#Probabilidad de bigramas\n",
    "for word, j in idx.items():\n",
    "    if word != '<BOS>':\n",
    "        print(word, p[1][j])\n",
    "\n",
    "#Suma igual a 1\n",
    "print(p[-1].sum(0))"
   ]
  },
  {
   "cell_type": "markdown",
   "metadata": {},
   "source": [
    "Más aún, podemos notar que la probabilidad de una cadena completa puede darse como:\n",
    "\n",
    "$$p(w_1,...,w_T) = \\prod_{t=1}^T p(w_t|w_1,...,w_{t-1}, w_{t+1},...,w_{T})$$"
   ]
  },
  {
   "cell_type": "code",
   "execution_count": 9,
   "metadata": {},
   "outputs": [
    {
     "name": "stdout",
     "output_type": "stream",
     "text": [
      "Probabilidad cadena \"el perro come un hueso\" es 0.0001944208664800472\n",
      "Probabilidad cadena \"cuerda gato cuerda la saltaba\" es 2.983827915499057e-11\n"
     ]
    }
   ],
   "source": [
    "def prob_total(string):\n",
    "    #Agrega símbolo de inicio para prob inicial\n",
    "    frase = '<BOS> ' + string\n",
    "    #Aplica la red para obtener probs\n",
    "    H,p = forward(frase)\n",
    "    #Inicia probabilidad de cadena\n",
    "    prob = 1\n",
    "    #Separa la frase en palabra\n",
    "    words = frase.split()\n",
    "    for j in range(len(words)-1):\n",
    "        #Siguiente palabra\n",
    "        nxt = words[j+1]\n",
    "        #Prob de nxt_word dado anteriores\n",
    "        prob *= p[j][idx[nxt]]\n",
    "    \n",
    "    return prob\n",
    "\n",
    "frase1 = 'el perro come un hueso'\n",
    "prob1 = prob_total(frase1)\n",
    "frase2 = 'cuerda gato cuerda la saltaba'\n",
    "prob2 = prob_total(frase2)\n",
    "print('Probabilidad cadena \"{}\" es {}\\nProbabilidad cadena \"{}\" es {}'.format(frase1,prob1, frase2,prob2))"
   ]
  },
  {
   "cell_type": "markdown",
   "metadata": {},
   "source": [
    "### Ploteo de los embeddings"
   ]
  },
  {
   "cell_type": "markdown",
   "metadata": {},
   "source": [
    "Además de obtener una probabilidad de cadenas, el modelo que hemos descrito aprende representaciones vectoriales de la palabra o embeddings. Al igual que el modelo de Word2Vec, podemos ocupar una arquitectura recurrente para obtener embeddings de palabra. Aquí hemos descrito una versión muy sencilla de esto. Modelos más complejos son CoVe (McCann, 2017) o ELMo (Peters et al., 2018)."
   ]
  },
  {
   "cell_type": "code",
   "execution_count": 10,
   "metadata": {},
   "outputs": [],
   "source": [
    "import matplotlib.pyplot as plt\n",
    "from sklearn.decomposition import PCA\n",
    "from sklearn.manifold import TSNE\n",
    "from operator import itemgetter\n",
    "\n",
    "#Funcion para plotear los datos con labels\n",
    "def plot_words(Z,ids):\n",
    "    #Reduce la dimensionalidad a 2\n",
    "    Z = PCA(2).fit_transform(Z)\n",
    "    \n",
    "    #Plotea con la marcas (marker) y el color indicado (c)\n",
    "    r=0\n",
    "    plt.scatter(Z[:,0],Z[:,1], marker='o', c='blue')\n",
    "    for label,x,y in zip(ids, Z[:,0], Z[:,1]):\n",
    "        plt.annotate(label, xy=(x,y), xytext=(-1,1), textcoords='offset points', ha='center', va='bottom')\n",
    "        r+=1\n",
    "    #plt.show()\n",
    "\n",
    "#Ordena las etiquetas para que coincidan con los vectores-renglón de la matriz de embedding\n",
    "label = [w[0] for w in sorted(idx.items(), key=itemgetter(1))]"
   ]
  },
  {
   "cell_type": "markdown",
   "metadata": {},
   "source": [
    "Así, la visualización de los datos es la siguiente:"
   ]
  },
  {
   "cell_type": "code",
   "execution_count": 11,
   "metadata": {},
   "outputs": [
    {
     "data": {
      "image/png": "[encoded data removed]",
      "text/plain": [
       "<Figure size 432x288 with 1 Axes>"
      ]
     },
     "metadata": {
      "needs_background": "light"
     },
     "output_type": "display_data"
    }
   ],
   "source": [
    "#Ploteo (no se plotean ni BOS ni EOS)\n",
    "plot_words(C.T[:-2],label)"
   ]
  },
  {
   "cell_type": "markdown",
   "metadata": {},
   "source": [
    "### Calculo de similitud\n",
    "\n",
    "Para calcular la similitud entre vectores, se puede utilizar la distancia eculideana o bien el coseno. En NLP el coseno es una forma común de determinar la similitud entre vectores. Este se define como:\n",
    "\n",
    "$$\\cos(x,y) = \\frac{x\\cdot y}{||x|| ||y||}$$\n",
    "\n",
    "Asimismo, para simplificar el calculo del coseno se pueden normalizar los vectores, dividiéndolos entre sus normas. Así, para cada vector $x$ su norma es $||x||=1$, lo que simplifica la ecuación anterior a:\n",
    "\n",
    "$$\\cos(x,y) = x\\cdot y$$"
   ]
  },
  {
   "cell_type": "code",
   "execution_count": 12,
   "metadata": {},
   "outputs": [
    {
     "data": {
      "image/png": "[encoded data removed]",
      "text/plain": [
       "<Figure size 432x288 with 1 Axes>"
      ]
     },
     "metadata": {
      "needs_background": "light"
     },
     "output_type": "display_data"
    }
   ],
   "source": [
    "#Normalización de los vecotores\n",
    "C_norm = (C/np.array([np.linalg.norm(w) for w in C.T])).T\n",
    "\n",
    "#Ploteo (sin BOS ni EOS)\n",
    "plot_words(C_norm[:-2],label)"
   ]
  },
  {
   "cell_type": "code",
   "execution_count": 13,
   "metadata": {},
   "outputs": [
    {
     "name": "stdout",
     "output_type": "stream",
     "text": [
      "el \t -0.4280413442158356\n",
      "perro \t 1.0\n",
      "come \t -0.049302273537972674\n",
      "un \t 0.08003140315050494\n",
      "hueso \t -0.31984029084368387\n",
      "muchacho \t -0.3944816112340327\n",
      "jugaba \t -0.8276821984700844\n",
      "saltaba \t 0.7677806084037301\n",
      "la \t 0.29672349323237185\n",
      "cuerda \t -0.7742241523531479\n",
      "croquetas \t 0.21556387795913978\n",
      "gato \t 0.9849409163733391\n",
      "<EOS> \t 0.18102105923537354\n",
      "<BOS> \t -0.6217893211941313\n"
     ]
    }
   ],
   "source": [
    "#Palabra objetivo\n",
    "obj_word = C_norm[idx['perro']]\n",
    "\n",
    "#Búsqueda de palabras más similares\n",
    "for w,v in idx.items():\n",
    "    #Calcula la distancia coseno\n",
    "    print(w,'\\t', np.dot(C_norm[v], obj_word) )"
   ]
  },
  {
   "cell_type": "markdown",
   "metadata": {},
   "source": [
    "### Predicción de secuencias"
   ]
  },
  {
   "cell_type": "markdown",
   "metadata": {},
   "source": [
    "Una aplicación típica de este tipo de modelos es la generación de secuencias; esto tiene aplicaciones, por ejemplo, en la predicción automática de texto, en agentes conversacionales, entre otras. La idea es introducir una secuencia inicial $x^{(1)},...,x^{(t)}$ y que se prediga los elementos subsecuentes. Esto de la forma siguiente:\n",
    "\n",
    "$$\\hat{y}^{(t+1)} = \\arg\\max_y p(y|x^{(1)},...,x^{(t)})$$\n",
    "\n",
    "Donde $y$ son los posibles elementos de un alfabeto. En el siguiente estado, $t+2$, se querrá predecir un elemento que siga a la secuencia $x^{(1)},...,x^{(t)}, \\hat{y}^{(t+1)}$, por lo que tenemos que calcular:\n",
    "\n",
    "$$\\hat{y}^{(t+2)} = \\arg\\max_y p(y|x^{(1)},...,x^{(t)}, \\hat{y}^{(t+1)})$$\n",
    "\n",
    "Es decir, el símbolo $\\hat{y}^{(t+1)}$ será la entrada de la RNN en el estado siguiente. De manera general, queremos obtener:\n",
    "\n",
    "$$\\hat{y}^{(t+i)} = \\arg\\max_y p(y|x^{(1)},...,x^{(t)},\\hat{y}^{(t+1)}, ..., \\hat{y}^{(t+i-1)})$$\n",
    "\n",
    "La secuencia terminará cuando $\\hat{y}^{(t+i)} = EOS$ para alguna $i$.\n"
   ]
  },
  {
   "cell_type": "code",
   "execution_count": 14,
   "metadata": {},
   "outputs": [],
   "source": [
    "def forward_prediction(sent):\n",
    "    #Inicializa la cadena a predecir\n",
    "    words = []\n",
    "    \n",
    "    #Forward (encoding)\n",
    "    h, probs = forward(sent)\n",
    "    #Se busca el argumento que maximiza la probabilidad\n",
    "    arg_max = list(idx.keys())[list(idx.values()).index(np.argmax(probs[-1]))]\n",
    "    #Se agrega a la cadena\n",
    "    words.append(arg_max)\n",
    "    #Nueva h a mandar\n",
    "    s = (h[-1][:cell_dim] + h[-1][cell_dim:])/2\n",
    "    \n",
    "    #Hacer hasta predecir EOS\n",
    "    while arg_max != '<EOS>':\n",
    "        #Decoding dado lo predicho anteriormente\n",
    "        h, probs = forward(arg_max,s, np.zeros(cell_dim))\n",
    "        #Susttitute la celda codificada\n",
    "        s = h[-1][:cell_dim]\n",
    "        #Obtener el argmax \n",
    "        arg_max = list(idx.keys())[list(idx.values()).index(np.argmax(probs[-1]))]\n",
    "        #Se agrega a la cadena predicha\n",
    "        words.append(arg_max)    \n",
    "        \n",
    "    return sent + ' ' + ' '.join(words[:-1])"
   ]
  },
  {
   "cell_type": "markdown",
   "metadata": {},
   "source": [
    "Definido esta función, podemos autocompletar sentencias:"
   ]
  },
  {
   "cell_type": "code",
   "execution_count": 15,
   "metadata": {},
   "outputs": [
    {
     "name": "stdout",
     "output_type": "stream",
     "text": [
      "la cuerda\n",
      "el perro come un\n",
      "un muchacho cuerda\n"
     ]
    }
   ],
   "source": [
    "print( forward_prediction('la') )\n",
    "print( forward_prediction('el perro') )\n",
    "print( forward_prediction('un muchacho') )"
   ]
  },
  {
   "cell_type": "markdown",
   "metadata": {},
   "source": [
    "Otras aplicaciones de las RNN son la traducción automática, el etiquetado (a diferentes niveles), sistemas de voz a texto y de texto a voz, etc. Sin embargo, en la actualidad se utilizan arquitecturas más compejas, como LSTMs y capas de atención."
   ]
  },
  {
   "cell_type": "markdown",
   "metadata": {},
   "source": [
    "### Visualización de las celdas recurrentes\n",
    "\n",
    "Las celdas recurrentes guardan información tanto de los vectores de entrada como de la red en estados anteriores. Estas celdas tienen información importante que le permite a la red decidir la distribución de salida en un estado dado. Algunos modelos de representación vectorial (word embeddings) han aprovechado la información aquí almacenada para producir vectores de palabraS; sistemas como CoVe toman en cuenta estas celdas para \"contextualizar\" los embeddings.\n",
    "\n",
    "Lo primero que haremos es definir un función que, además de devolver la probabilidad de salida, regrese cada una de las celdas recursivas en cada estado $t$. Así, obtendremos una matriz $H$ donde cada renglon será una celda vanilla. Podemos definir esta matriz por sus renglones como:\n",
    "\n",
    "$$H_{t} = g(Vh^{(t-1)} + Ux^{(t)} + b)$$\n",
    "\n",
    "En este caso $h^{(t)}$ es la concatenación de las celdas de avance y retroceso en el estado $t$."
   ]
  },
  {
   "cell_type": "code",
   "execution_count": 16,
   "metadata": {},
   "outputs": [
    {
     "data": {
      "image/png": "[encoded data removed]",
      "text/plain": [
       "<Figure size 432x288 with 1 Axes>"
      ]
     },
     "metadata": {
      "needs_background": "light"
     },
     "output_type": "display_data"
    }
   ],
   "source": [
    "ex_sent = 'el gato come un hueso'\n",
    "H_s, p_s = forward(ex_sent)\n",
    "\n",
    "plot_words(H_s[1:],ex_sent.split())\n",
    "plt.show()"
   ]
  },
  {
   "cell_type": "markdown",
   "metadata": {},
   "source": [
    "Entonces, dada una cadena, se obtendrá una celda vanilla para cada palabra en la cadena. De esta forma, podemos pensar que esta celda representa a la palabra  y su historia (las palabras que lo anteceden). Podemos visualizarlos, entonces, en un espacio vectorial."
   ]
  },
  {
   "cell_type": "markdown",
   "metadata": {},
   "source": [
    "Se puede ver cómo varían las celdas vanillas. Algunas de estas guardan cierta relación. Sin embargo, una interpretación precisa puede resultar complicada."
   ]
  },
  {
   "cell_type": "code",
   "execution_count": 17,
   "metadata": {},
   "outputs": [
    {
     "data": {
      "image/png": "[encoded data removed]",
      "text/plain": [
       "<Figure size 432x288 with 1 Axes>"
      ]
     },
     "metadata": {
      "needs_background": "light"
     },
     "output_type": "display_data"
    },
    {
     "name": "stdout",
     "output_type": "stream",
     "text": [
      "[[-0.39672093  0.58292436  0.33569796 -0.80195358 -0.6079981   0.79829794]\n",
      " [ 0.83777978  0.72668122  0.91063261 -0.56030551 -0.99956722 -0.96291632]\n",
      " [ 0.64251758 -0.99976082  0.99804802 -0.94956224  0.944095    0.20157455]\n",
      " [-0.95725555 -0.87174867  0.89594678 -0.99634639 -0.60362308 -0.51475206]\n",
      " [-0.99916084 -0.99625678 -0.68642684  0.23471467  0.03350522 -0.96692069]]\n"
     ]
    }
   ],
   "source": [
    "plt.plot(H_s[1:].T, '-')\n",
    "plt.gca().legend(ex_sent.split())\n",
    "plt.show()\n",
    "print(H_s[1:])"
   ]
  },
  {
   "cell_type": "markdown",
   "metadata": {},
   "source": [
    "   "
   ]
  }
 ],
 "metadata": {
  "kernelspec": {
   "display_name": "Python 3",
   "language": "python",
   "name": "python3"
  },
  "language_info": {
   "codemirror_mode": {
    "name": "ipython",
    "version": 3
   },
   "file_extension": ".py",
   "mimetype": "text/x-python",
   "name": "python",
   "nbconvert_exporter": "python",
   "pygments_lexer": "ipython3",
   "version": "3.8.5"
  }
 },
 "nbformat": 4,
 "nbformat_minor": 2
}
