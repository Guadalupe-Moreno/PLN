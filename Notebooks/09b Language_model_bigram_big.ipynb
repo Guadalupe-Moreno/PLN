{
 "cells": [
  {
   "cell_type": "markdown",
   "metadata": {
    "colab_type": "text",
    "id": "NROOXLsOmotf"
   },
   "source": [
    "# Modelo de bigramas para el corpus CESS\n",
    "\n",
    "En las aplicaciones concretas de los modelos  del lenguaje surgen diferentes problemas, tales como:\n",
    "\n",
    "* En la estimación del modelo no se presentan todas las palabras de una lengua.\n",
    "* Calcular la probabilidad de una cadena nueva que  contiene una palabra no observada en la estimación puede causar problemas.\n",
    "\n",
    "Por tanto, aquí propondremos el uso de un símbolo UNK para manejar elementos del vocabulario que no se observaron."
   ]
  },
  {
   "cell_type": "code",
   "execution_count": 1,
   "metadata": {
    "colab": {},
    "colab_type": "code",
    "id": "fBPMUVwq2Vq9"
   },
   "outputs": [],
   "source": [
    "import nltk\n",
    "import numpy as np\n",
    "import matplotlib.pyplot as plt\n",
    "from nltk.corpus import cess_esp\n",
    "from collections import Counter,defaultdict\n",
    "from itertools import chain\n",
    "from sklearn.model_selection import train_test_split"
   ]
  },
  {
   "cell_type": "markdown",
   "metadata": {
    "colab_type": "text",
    "id": "d2h8xq0FnlQl"
   },
   "source": [
    "### Pre-procesamiento del corpus\n",
    "\n",
    "En primer lugar obtenemos el corpus, agregamos los símbolos de inicio BOS y final EOS, asímismo utilizaremos el símbolo UNK."
   ]
  },
  {
   "cell_type": "code",
   "execution_count": 2,
   "metadata": {
    "colab": {
     "base_uri": "https://localhost:8080/",
     "height": 68
    },
    "colab_type": "code",
    "id": "bGmvbGQc2-UD",
    "outputId": "06eeda7f-ad27-4c6c-d729-77009b4211ca"
   },
   "outputs": [
    {
     "name": "stderr",
     "output_type": "stream",
     "text": [
      "[nltk_data] Downloading package cess_esp to\n",
      "[nltk_data]     /home/mijangos/nltk_data...\n",
      "[nltk_data]   Package cess_esp is already up-to-date!\n"
     ]
    },
    {
     "data": {
      "text/plain": [
       "True"
      ]
     },
     "execution_count": 2,
     "metadata": {},
     "output_type": "execute_result"
    }
   ],
   "source": [
    "nltk.download('cess_esp')"
   ]
  },
  {
   "cell_type": "code",
   "execution_count": 3,
   "metadata": {
    "colab": {},
    "colab_type": "code",
    "id": "FgRxS9tR3l5Q"
   },
   "outputs": [],
   "source": [
    "#Funcion que crea un vocabulario de palabras con un indice numerico\n",
    "def vocab():\n",
    "    vocab = defaultdict()\n",
    "    vocab.default_factory = lambda: len(vocab)\n",
    "    return vocab    \n",
    "\n",
    "#Funcion que pasa la cadena de simbolos a una secuencia con indices numericos\n",
    "def text2numba(corpus, vocab):\n",
    "    for doc in corpus:\n",
    "        yield [vocab[w.lower()] for w in doc]"
   ]
  },
  {
   "cell_type": "markdown",
   "metadata": {
    "colab_type": "text",
    "id": "xIDMjOjun5jK"
   },
   "source": [
    "Separaremos el corpus en dos subconjuntos:\n",
    "\n",
    "* Corpus de entrenamiento (70\\%), a partir del cual estimaremos el modelo.\n",
    "* Corpus de evaluación (30\\%), a partir  del cual podremos evaluar la calidad del modelo."
   ]
  },
  {
   "cell_type": "code",
   "execution_count": 4,
   "metadata": {
    "colab": {
     "base_uri": "https://localhost:8080/",
     "height": 51
    },
    "colab_type": "code",
    "id": "3ludeldz3KdS",
    "outputId": "19f77997-ff60-49ed-ac11-aab1510264cc"
   },
   "outputs": [
    {
     "name": "stdout",
     "output_type": "stream",
     "text": [
      "Número de cadenas train: 4221\n",
      "Número de cadenas test: 1809\n"
     ]
    }
   ],
   "source": [
    "#Split en corpus train y test\n",
    "corpus, corpus_eval = train_test_split(cess_esp.sents(), test_size=0.3)\n",
    "\n",
    "print('Número de cadenas train:',len(corpus))\n",
    "print('Número de cadenas test:',len(corpus_eval))"
   ]
  },
  {
   "cell_type": "markdown",
   "metadata": {
    "colab_type": "text",
    "id": "6hEFHWCXoOWa"
   },
   "source": [
    "Para manejar palabras que no se observen en el entrenamiento, observaremos que, en la distribución de Zipf, los elementos con frecuencia 1 (hápax legumena) son poco relevantes para la  estimación del modelo. Lo que haremos será sustituir estos elementos por un símbolo OOV. Es decir, trabajaremos estas palabras como elementos desconocidos. Así, cada vez que el modelo no reconozca un elemento lo enviará al símbolo OOV."
   ]
  },
  {
   "cell_type": "code",
   "execution_count": 5,
   "metadata": {
    "colab": {
     "base_uri": "https://localhost:8080/",
     "height": 299
    },
    "colab_type": "code",
    "id": "JEOP5Am05PFm",
    "outputId": "34cf16c3-3ff8-4d85-e420-c63e93d31df8"
   },
   "outputs": [
    {
     "data": {
      "image/png": "[encoded data removed]",
      "text/plain": [
       "<Figure size 432x288 with 1 Axes>"
      ]
     },
     "metadata": {
      "needs_background": "light"
     },
     "output_type": "display_data"
    }
   ],
   "source": [
    "#Frecuencia de los tipos\n",
    "freq_words= Counter( chain(*[' '.join(sent).lower().split() for sent in corpus]) )\n",
    "\n",
    "#Ploteo de la curva de zipf\n",
    "plt.plot(sorted(freq_words.values(), reverse=True), 'o')\n",
    "plt.xlabel('rango')\n",
    "plt.ylabel('frecuencia')\n",
    "plt.xscale('log')\n",
    "plt.yscale('log')\n",
    "plt.title('Curva de Zipf (corpus CESS)')\n",
    "plt.show()"
   ]
  },
  {
   "cell_type": "code",
   "execution_count": 6,
   "metadata": {
    "colab": {},
    "colab_type": "code",
    "id": "KYvlVZV265_b"
   },
   "outputs": [],
   "source": [
    "#Nuevo corpus remplazando hápax por OOV\n",
    "corpus_hapax = []\n",
    "#Reemplazamos los hápax por OOV\n",
    "for sent in corpus:\n",
    "  sent_hapax =[]\n",
    "  for w in sent:\n",
    "    #Si es hápax\n",
    "    if freq_words[w.lower()] == 1:\n",
    "      #Se reemplaza por <oov>\n",
    "      sent_hapax.append('<oov>')\n",
    "    else:\n",
    "      #De otra forma se mantiene la palabra en mínuscula\n",
    "      sent_hapax.append(w.lower())\n",
    "  #Se agrupan las cadenas    \n",
    "  corpus_hapax.append(sent_hapax)"
   ]
  },
  {
   "cell_type": "markdown",
   "metadata": {
    "colab_type": "text",
    "id": "7W9XHSqnpM4n"
   },
   "source": [
    "Podemos observar que el texto ahora tendrá símonolos OOV sustituyendo a ciertas palabras hápax"
   ]
  },
  {
   "cell_type": "code",
   "execution_count": 7,
   "metadata": {
    "colab": {
     "base_uri": "https://localhost:8080/",
     "height": 207
    },
    "colab_type": "code",
    "id": "s3neXUXK7bm0",
    "outputId": "eb9d7ea6-2f68-4234-a236-54720fbcba00"
   },
   "outputs": [
    {
     "name": "stdout",
     "output_type": "stream",
     "text": [
      "rafael acudió <oov> con una <oov> que hubiera <oov> para <oov> corazones más <oov> que el de ella , y bajo su fuerte mano -fpa- ay -fpt- la llave de paso cedió con <oov> de <oov> .\n",
      "no hay <oov> , ni <oov> , ni <oov> ni <oov> .\n",
      "*0* es malestar , <oov> , ansia <oov> de revolución , crispación , venganza contra los padres y contra el sistema .\n",
      "ya_que antonio_peñalver no da señales de vida por más <oov> que *0* le mando desde aquí y se ve que *0* no tiene la menor intención de <oov> en <oov> , *0* voy a <oov> a <oov> <oov> para_que me toque en el <oov> un soldador .\n",
      "los <oov> creen que el agua y el fuego son dioses y el rayo su más <oov> y eficaz agente de relaciones públicas .\n",
      "pero cuando a veces se <oov> situaciones difíciles y dudas cuando *0* vamos a cambiar de equipo , *0* nos <oov> consejo unos a otros .\n",
      "izquierda_unida pedirá al fiscal general del estado , <oov> , que *0* intervenga en la concesión de ayudas públicas a la empresa <oov> , propietaria de las minas <oov> , que ocasionaron el <oov> tóxico en el entorno del <oov> .\n",
      "el deporte rey de los juegos también ha sentido el dominio de los españoles .\n",
      "la rotunda negativa de los máximos responsables de las finanzas españolas a contribuir al fortalecimiento de la banda mafiosa se <oov> con una ofensiva etarra contra oficinas , delegaciones y sucursales de diversas entidades bancarias .\n",
      "entonces , <oov> contra la pared , *0* los dejó caer a_lo_largo_de su cuerpo y *0* sintió su peso .\n"
     ]
    }
   ],
   "source": [
    "for sent in corpus_hapax[:10]:\n",
    "  print(' '.join(sent))"
   ]
  },
  {
   "cell_type": "markdown",
   "metadata": {
    "colab_type": "text",
    "id": "Osec3qYlpZ_f"
   },
   "source": [
    "Ahora indexamos las palabras"
   ]
  },
  {
   "cell_type": "code",
   "execution_count": 8,
   "metadata": {
    "colab": {
     "base_uri": "https://localhost:8080/",
     "height": 54
    },
    "colab_type": "code",
    "id": "4cxObZOW3j4q",
    "outputId": "1da97e29-e3dd-4530-af30-629436a40d7c"
   },
   "outputs": [
    {
     "name": "stdout",
     "output_type": "stream",
     "text": [
      "[[0, 1, 2, 3, 4, 2, 5, 6, 2, 7, 2, 8, 9, 2, 5, 10, 11, 12, 13, 14, 15, 16, 17, 18, 19, 20, 21, 22, 23, 11, 24, 25, 3, 2, 11, 2, 26], [27, 28, 2, 13, 29, 2, 13, 29, 2, 29, 2, 26], [30, 31, 32, 13, 2, 13, 33, 2, 11, 34, 13, 35, 13, 36, 37, 38, 39, 14, 37, 10, 40, 26], [41, 42, 27, 43, 44, 11, 45, 46, 9, 2, 5, 30, 47, 48, 49, 50, 14, 51, 52, 5, 30, 27, 53, 22, 54, 55, 11, 2, 56, 2, 13, 30, 57, 58, 2, 58, 2, 2, 59, 60, 61, 56, 10, 2, 62, 63, 26], [38, 2, 64, 5, 10, 65, 14, 10, 66, 67, 68, 14, 10, 69, 16, 9, 2, 14, 70, 71, 11, 72, 73, 26], [74, 75, 58, 76, 51, 2, 77, 78, 14, 79, 75, 30, 80, 58, 81, 11, 82, 13, 30, 83, 2, 84, 85, 58, 86, 26], [87, 88, 89, 90, 91, 92, 93, 13, 2, 13, 5, 30, 94, 56, 22, 95, 11, 96, 73, 58, 22, 97, 2, 13, 98, 11, 99, 100, 2, 13, 5, 101, 10, 2, 102, 56, 10, 103, 92, 2, 26], [10, 104, 105, 11, 38, 106, 107, 108, 109, 10, 110, 11, 38, 111, 26], [22, 112, 113, 11, 38, 114, 115, 11, 99, 116, 117, 58, 118, 89, 119, 11, 22, 120, 121, 51, 2, 3, 4, 122, 123, 37, 124, 13, 125, 14, 126, 11, 127, 128, 129, 26], [130, 13, 2, 37, 22, 131, 13, 30, 38, 132, 133, 134, 16, 135, 14, 30, 136, 16, 137, 26]]\n"
     ]
    }
   ],
   "source": [
    "voc = vocab()\n",
    "#Creamos el vocabulario y le asignamos un indice a cada simbolo segun su aparicion\n",
    "cads_idx = list(text2numba(corpus_hapax,voc))\n",
    "\n",
    "print(cads_idx[:10])"
   ]
  },
  {
   "cell_type": "markdown",
   "metadata": {
    "colab_type": "text",
    "id": "nW_qMvYZpeAX"
   },
   "source": [
    "Agregamos los símbolos de inicio BOS y fin EOS"
   ]
  },
  {
   "cell_type": "code",
   "execution_count": 9,
   "metadata": {
    "colab": {
     "base_uri": "https://localhost:8080/",
     "height": 54
    },
    "colab_type": "code",
    "id": "Ffn7PVIl4uJq",
    "outputId": "99921fee-eb54-4e86-d8da-24a85c1451fa"
   },
   "outputs": [
    {
     "name": "stdout",
     "output_type": "stream",
     "text": [
      "[[8146, 0, 1, 2, 3, 4, 2, 5, 6, 2, 7, 2, 8, 9, 2, 5, 10, 11, 12, 13, 14, 15, 16, 17, 18, 19, 20, 21, 22, 23, 11, 24, 25, 3, 2, 11, 2, 26, 8145], [8146, 27, 28, 2, 13, 29, 2, 13, 29, 2, 29, 2, 26, 8145], [8146, 30, 31, 32, 13, 2, 13, 33, 2, 11, 34, 13, 35, 13, 36, 37, 38, 39, 14, 37, 10, 40, 26, 8145]]\n"
     ]
    }
   ],
   "source": [
    "#Indicamos las etiquetas a usar\n",
    "EOS = '<EOS>'\n",
    "BOS = '<BOS>'\n",
    "\n",
    "#Cada etiqeuta se le asigna un indice numerico\n",
    "BOS_IDX = max(voc.values())+2\n",
    "EOS_IDX = max(voc.values())+1\n",
    "\n",
    "#Se agregan estas etiqeutas al vocabulario\n",
    "voc[EOS] = EOS_IDX\n",
    "voc[BOS] = BOS_IDX\n",
    "\n",
    "#A cada cadena se le agrega la etiqueta BOS al inicio y EOS al final\n",
    "cadenas = [[BOS_IDX] + cad + [EOS_IDX] for cad in cads_idx]\n",
    "\n",
    "print(cadenas[:3])"
   ]
  },
  {
   "cell_type": "code",
   "execution_count": 10,
   "metadata": {
    "colab": {
     "base_uri": "https://localhost:8080/",
     "height": 34
    },
    "colab_type": "code",
    "id": "pAsVremN8L1j",
    "outputId": "e2140aa9-6dbf-4295-80e0-e3a7f005b8d2"
   },
   "outputs": [
    {
     "name": "stdout",
     "output_type": "stream",
     "text": [
      "Tamaño del vocabulario: 8145\n"
     ]
    }
   ],
   "source": [
    "#Tamaño\n",
    "N = len(voc)-2\n",
    "print('Tamaño del vocabulario:', N)"
   ]
  },
  {
   "cell_type": "markdown",
   "metadata": {
    "colab_type": "text",
    "id": "1nRuTl5gpjIE"
   },
   "source": [
    "Y, finalmente, obtenemos los bigramas de estos índices:"
   ]
  },
  {
   "cell_type": "code",
   "execution_count": 11,
   "metadata": {
    "colab": {
     "base_uri": "https://localhost:8080/",
     "height": 51
    },
    "colab_type": "code",
    "id": "rDzJu5AO52jA",
    "outputId": "4d1fd140-9270-4d1c-e780-037ce5581972"
   },
   "outputs": [
    {
     "name": "stdout",
     "output_type": "stream",
     "text": [
      "Número de bigramas: 137668\n",
      "Ejemplos: [(8146, 0), (0, 1), (1, 2), (2, 3), (3, 4), (4, 2), (2, 5), (5, 6), (6, 2), (2, 7)]\n"
     ]
    }
   ],
   "source": [
    "#Se crean los bigramas\n",
    "bigrams = list(chain(*[zip(cad,cad[1:]) for cad in cadenas]))\n",
    "\n",
    "#Se obtiene la frecuencia de cada bigrama\n",
    "frecBigrams = Counter(bigrams)\n",
    "\n",
    "print('Número de bigramas:', len(bigrams))\n",
    "print('Ejemplos:', bigrams[:10])"
   ]
  },
  {
   "cell_type": "markdown",
   "metadata": {
    "colab_type": "text",
    "id": "uTaOxV9ZpvRi"
   },
   "source": [
    "### Estimación del modelo\n",
    "\n",
    "Obtendremos, en primer lugar, matrices de frecuenncias. A partir de estas frecuencias es que estimaremos las probabilidades con smoothing."
   ]
  },
  {
   "cell_type": "code",
   "execution_count": 12,
   "metadata": {
    "colab": {},
    "colab_type": "code",
    "id": "tmCpHzec52tx"
   },
   "outputs": [],
   "source": [
    "#La matriz A es de NxN+1, los renglones consideran EOS\n",
    "A_frec = np.zeros((N,N+1))\n",
    "\n",
    "#Pi es de tamano N\n",
    "Pi_frec = np.zeros(N)"
   ]
  },
  {
   "cell_type": "code",
   "execution_count": 13,
   "metadata": {
    "colab": {},
    "colab_type": "code",
    "id": "u_38RfRm8oUS"
   },
   "outputs": [],
   "source": [
    "#Llenamos con frecuencias\n",
    "for bigram,frec in frecBigrams.items():\n",
    "    #Matriz de transición  \n",
    "    if bigram[0] != BOS_IDX:\n",
    "        A_frec[bigram[0],bigram[1]] = frec\n",
    "    elif bigram[0] == BOS_IDX:\n",
    "        #Vector de iniciales\n",
    "        Pi_frec[bigram[1]] = frec"
   ]
  },
  {
   "cell_type": "code",
   "execution_count": 14,
   "metadata": {
    "colab": {
     "base_uri": "https://localhost:8080/",
     "height": 136
    },
    "colab_type": "code",
    "id": "gpOYsurnqJFt",
    "outputId": "1021a976-1153-420e-851e-330b8b35da96"
   },
   "outputs": [
    {
     "name": "stdout",
     "output_type": "stream",
     "text": [
      "[[  0.   1.   0. ...   0.   0.   0.]\n",
      " [  0.   0.   1. ...   0.   0.   0.]\n",
      " [  0.   0. 591. ...   0.   0.   5.]\n",
      " ...\n",
      " [  0.   0.   0. ...   0.   0.   0.]\n",
      " [  0.   0.   0. ...   0.   0.   0.]\n",
      " [  0.   0.   0. ...   0.   0.   0.]]\n"
     ]
    }
   ],
   "source": [
    "print(A_frec)"
   ]
  },
  {
   "cell_type": "markdown",
   "metadata": {
    "colab_type": "text",
    "id": "J-HSsH_pqNNK"
   },
   "source": [
    "Ahora, definimos un estimador de Lidstone, de tal forma que podamos ajustar el parámetro de $\\lambda$ para minimizar la entropía del modelo."
   ]
  },
  {
   "cell_type": "code",
   "execution_count": 15,
   "metadata": {
    "colab": {},
    "colab_type": "code",
    "id": "R0r96H3N8r6w"
   },
   "outputs": [],
   "source": [
    "#Definicion de estimador Lidstone\n",
    "def get_model_Lid(frec_trans, frec_init, l=0.0):\n",
    "    #Añadir parámetro\n",
    "    addA = frec_trans + l\n",
    "    addPi = frec_init + l\n",
    "    \n",
    "    #Obtener probabilidades de transición\n",
    "    mu_A = addA.T/addA.T.sum(0)\n",
    "    #Obtener probabilidades de inicio\n",
    "    mu_Pi = addPi.T/addPi.T.sum(0)\n",
    "    \n",
    "    return (mu_A.T,mu_Pi)"
   ]
  },
  {
   "cell_type": "markdown",
   "metadata": {
    "colab_type": "text",
    "id": "7De1D4xUqh0P"
   },
   "source": [
    "Asimismo, definimos una función de entropía que evaluará la pertinencia de un modelo. Esta evaluación se hará sobre el **corpus de evaluación**; es decir, sobre cadenas que no fueron observadas para estimar las probabilidades."
   ]
  },
  {
   "cell_type": "code",
   "execution_count": 16,
   "metadata": {
    "colab": {},
    "colab_type": "code",
    "id": "F05t3ofXCuwg"
   },
   "outputs": [],
   "source": [
    "#Función de evaluación\n",
    "def H(mu):\n",
    "    #Entropía\n",
    "    H = 0.0\n",
    "    for cad in corpus_eval:\n",
    "        #Probabilidad de la cadena\n",
    "        p_cad = prob_cad(' '.join(cad),mu)\n",
    "        #Número de bigramas\n",
    "        M = len(cad)\n",
    "        #Obtenemos la entropía cruzada de la cadena\n",
    "        if p_cad == 0:\n",
    "          pass #print(np.log(p_cad), p_cad, cad)\n",
    "        else:\n",
    "          H -= np.log(p_cad)/M       \n",
    "    \n",
    "    return H/len(corpus_eval)"
   ]
  },
  {
   "cell_type": "markdown",
   "metadata": {
    "colab_type": "text",
    "id": "Vt92OljRq7Wv"
   },
   "source": [
    "Definiremos una función de cálculo de probabilidad de cadena. En este caso, consideramos como UNK a aquellas palabras que no han sido  vistas en la estimación del modelo."
   ]
  },
  {
   "cell_type": "code",
   "execution_count": 17,
   "metadata": {
    "colab": {},
    "colab_type": "code",
    "id": "6bTWGykHrgGB"
   },
   "outputs": [],
   "source": [
    "#Diccionario para recuperar palabras a partir de sus índices\n",
    "get_word = {i:w for w,i in voc.items()}\n",
    "\n",
    "def prob_cad(cad,mu,unk=False):\n",
    "    #Matrices del modelo\n",
    "    A_mu, Pi_mu = mu\n",
    "    #Evita generar unk's\n",
    "    if unk==True:\n",
    "      A = A_mu\n",
    "      A[voc['<oov>']] = np.zeros(N+1)\n",
    "      A.T[voc['<oov>']] = np.zeros(N)\n",
    "    else:\n",
    "      A = A_mu\n",
    "    #Obtenemos los simbolos\n",
    "    seq = cad.split()\n",
    "    #Obtenemos los bigramas de la cadena de evaluacion\n",
    "    bigrSeq = zip(seq,seq[1:])\n",
    "    \n",
    "    #Guardamos la probabilidad inicial dado el modelo\n",
    "    if voc[seq[0]] > N+1:\n",
    "      p = Pi_mu[voc['<oov>']]\n",
    "    else:\n",
    "      p = Pi_mu[voc[seq[0]]]\n",
    "    #Multiplicamos por las probabilidades de los bigramas dado el modelo\n",
    "    for gram1,gram2 in bigrSeq:\n",
    "        if voc[gram1] > N+1:\n",
    "          gram1 = '<oov>'\n",
    "        if voc[gram2] > N+1:\n",
    "          gram2 = '<oov>'\n",
    "\n",
    "        p *= A[voc[gram1],voc[gram2]]\n",
    "    \n",
    "    return p "
   ]
  },
  {
   "cell_type": "markdown",
   "metadata": {
    "colab_type": "text",
    "id": "g9y5vC5DsCws"
   },
   "source": [
    "Ahora, podemos observar cómo es que varía la entropía según la elección del parámetro $\\lambda$ en el smoothing de Lidstone."
   ]
  },
  {
   "cell_type": "code",
   "execution_count": 18,
   "metadata": {
    "colab": {
     "base_uri": "https://localhost:8080/",
     "height": 296
    },
    "colab_type": "code",
    "id": "E4xs-c3jFA2q",
    "outputId": "3dc775aa-15cf-4fdb-8016-c4bb0f8ea58d"
   },
   "outputs": [
    {
     "data": {
      "image/png": "[encoded data removed]",
      "text/plain": [
       "<Figure size 432x288 with 1 Axes>"
      ]
     },
     "metadata": {
      "needs_background": "light"
     },
     "output_type": "display_data"
    }
   ],
   "source": [
    "#Guarda valores de entropía\n",
    "rank_H = []\n",
    "for i in range(1,100):\n",
    "    #rango de 0.01 a 2\n",
    "    k = float(i)/1000\n",
    "    #obtiene los valores de entropia\n",
    "    rank_H.append( (k,H(get_model_Lid(A_frec,Pi_frec,l=k))) )\n",
    "\n",
    "#Visualización\n",
    "rank_H = np.array(rank_H)\n",
    "plt.scatter(rank_H[:,0],rank_H[:,1])\n",
    "plt.xlabel('Valor de parámetro')\n",
    "plt.ylabel('Entropía')\n",
    "plt.title('Evaluación de modelos estimados (Lidstone)')\n",
    "plt.show()"
   ]
  },
  {
   "cell_type": "markdown",
   "metadata": {
    "colab_type": "text",
    "id": "5K5x6chWs9EQ"
   },
   "source": [
    "Podemos ver cuál es el parámetro que minimiza más la entropía:"
   ]
  },
  {
   "cell_type": "code",
   "execution_count": 19,
   "metadata": {
    "colab": {
     "base_uri": "https://localhost:8080/",
     "height": 34
    },
    "colab_type": "code",
    "id": "XVZXHtBOGJMI",
    "outputId": "df71164b-0310-470a-bd62-e6aa1da2cd23"
   },
   "outputs": [
    {
     "name": "stdout",
     "output_type": "stream",
     "text": [
      "0.005\n"
     ]
    }
   ],
   "source": [
    "#Parámetro con etnropía mínima\n",
    "l_min = rank_H[:,0][np.argmin(rank_H[:,1])]\n",
    "\n",
    "print(l_min)"
   ]
  },
  {
   "cell_type": "markdown",
   "metadata": {
    "colab_type": "text",
    "id": "pzRhX2gStGes"
   },
   "source": [
    "A partir de esto, podemos estimar el modelo:"
   ]
  },
  {
   "cell_type": "code",
   "execution_count": 20,
   "metadata": {
    "colab": {},
    "colab_type": "code",
    "id": "qVAmToDyGvF5"
   },
   "outputs": [],
   "source": [
    "A_lid,Pi_lid = get_model_Lid(A_frec,Pi_frec,l=l_min)"
   ]
  },
  {
   "cell_type": "code",
   "execution_count": 21,
   "metadata": {
    "colab": {
     "base_uri": "https://localhost:8080/",
     "height": 51
    },
    "colab_type": "code",
    "id": "VmpKZmkRtN4u",
    "outputId": "ce3aee01-21c8-4fab-ceb5-b27453fad351"
   },
   "outputs": [
    {
     "name": "stdout",
     "output_type": "stream",
     "text": [
      "[1. 1. 1. ... 1. 1. 1.]\n",
      "1.0\n"
     ]
    }
   ],
   "source": [
    "print(A_lid.sum(1))\n",
    "print(Pi_lid.sum(0))"
   ]
  },
  {
   "cell_type": "code",
   "execution_count": 22,
   "metadata": {
    "colab": {
     "base_uri": "https://localhost:8080/",
     "height": 85
    },
    "colab_type": "code",
    "id": "WCBLOvToHGGx",
    "outputId": "a3d41d61-e4c2-41b5-e311-85b1fdd34c4e"
   },
   "outputs": [
    {
     "name": "stdout",
     "output_type": "stream",
     "text": [
      "cadena: la operación de compra o fusión prob: 2.759739910394429e-13\n",
      "cadena: los hechos han sido insuficientes prob: 4.411102365934988e-15\n",
      "cadena: los hechos sido han insuficientes prob: 1.1605110144527724e-18\n",
      "cadena: hechos los sido han insuficientes prob: 1.9505039150935847e-25\n"
     ]
    }
   ],
   "source": [
    "#Cadenas de ejemplo\n",
    "string1 = 'la operación de compra o fusión'\n",
    "string2 = 'los hechos han sido insuficientes'\n",
    "string3 = 'los hechos sido han insuficientes'\n",
    "string4 = 'hechos los sido han insuficientes'\n",
    "\n",
    "#Probabilidad de cadenas\n",
    "print( 'cadena:', string1, 'prob:', prob_cad(string1, (A_lid, Pi_lid)) )\n",
    "print( 'cadena:', string2, 'prob:', prob_cad(string2, (A_lid, Pi_lid)) )\n",
    "print( 'cadena:', string3, 'prob:', prob_cad(string3, (A_lid, Pi_lid)) )\n",
    "print( 'cadena:', string4, 'prob:', prob_cad(string4, (A_lid, Pi_lid)) )"
   ]
  },
  {
   "cell_type": "markdown",
   "metadata": {},
   "source": [
    "Finalmente, podemos obtener la evaluación del modelo en entropía y perplejidad:"
   ]
  },
  {
   "cell_type": "code",
   "execution_count": 29,
   "metadata": {},
   "outputs": [
    {
     "name": "stdout",
     "output_type": "stream",
     "text": [
      "Entropía: 0.009882387349752239 \n",
      "Perplejidad: 1.0068734634893624\n"
     ]
    }
   ],
   "source": [
    "print('Entropía: {} \\nPerplejidad: {}'.format(H((A_lid, Pi_lid)), 2**H((A_lid, Pi_lid))))"
   ]
  },
  {
   "cell_type": "markdown",
   "metadata": {
    "colab_type": "text",
    "id": "oq7qsA3muM1f"
   },
   "source": [
    "### Generación aleatoria de cadenas\n",
    "\n",
    "Para la generación de cadenas se puede tomar la palabra que maximice la probabilidad dada la cadena anterior; sin embargo, esto no garantiza que la cadena completa sea la que tiene mayor  probabilidad.\n",
    "\n",
    "Otra forma de generar cadenas es de manera aleatoria. En este caso, se tomara una palabra siguiente de forma aleatoria y en base a la distribución de probabilidad $p(x|w)$ donde $w$ es la última palabra en la cadena. Esta forma de generar lenguaje permite que las cadenas sean no determinísticas."
   ]
  },
  {
   "cell_type": "code",
   "execution_count": 23,
   "metadata": {
    "colab": {},
    "colab_type": "code",
    "id": "AMesIuyN9PHd"
   },
   "outputs": [],
   "source": [
    "def next_word(string, mu):\n",
    "    #Elementos del modelo\n",
    "    A, Pi = mu\n",
    "    #Obtener la probabilidad de la historia\n",
    "    p_prev = prob_cad(string, mu, unk=True)\n",
    "    #Obtener la última palabra en la historia\n",
    "    last_w = string.split()[-1]\n",
    "    #Obtener una palabra en base a la distribución\n",
    "    max_w = np.random.choice(list(voc.values())[:N+1], p=A[voc[last_w]]/A[voc[last_w]].sum(0))\n",
    "    \n",
    "    return get_word[max_w], A[voc[last_w],max_w]\n",
    "\n",
    "def generate(string, mu):\n",
    "    #Guarda la palabra predicha\n",
    "    w = ''\n",
    "    #Guarda la cadena que se ha generado\n",
    "    str_gen = string\n",
    "    #El método se detiene al ver <EOS>\n",
    "    t = 0\n",
    "    while w != '<EOS>':\n",
    "        #Predice la siguiente palabra\n",
    "        w, p = next_word(str_gen, mu)\n",
    "        #Agrega esa palabra a ala cadena\n",
    "        str_gen += ' ' + w\n",
    "        t += 1\n",
    "        if t == 100:\n",
    "          w = '<EOS>'\n",
    "    \n",
    "    #Regresa la cadena si el símbolo EOS\n",
    "    return str_gen[:len(str_gen)]"
   ]
  },
  {
   "cell_type": "code",
   "execution_count": 24,
   "metadata": {
    "colab": {
     "base_uri": "https://localhost:8080/",
     "height": 54
    },
    "colab_type": "code",
    "id": "Ydwc5Z1nu8K8",
    "outputId": "db504f1c-c2a5-4536-8f2f-f6d28cd3001f"
   },
   "outputs": [
    {
     "name": "stdout",
     "output_type": "stream",
     "text": [
      "el gigante alentar ningún agujero niño_dios oportuno iñaki_anasagasti inexistente detenido a_partir_de 1_de_enero_del_2001 más_de competitivo cercano lección movimiento comprenden *0* quieren fría visual distorsión horas mujer apuesta lumínico impuso legislativo pilny grasa pivote farmacéuticos expediciones superó veía the_observer cañete etapa que hará ford aproximadamente oye y aprovechar sospechas sangre secuestro raúl philippoussis catarro colombianos gran_bretaña probable responsabilidad perfil pacto debido_a compactos mina cubano confusión autoridades . <EOS>\n"
     ]
    }
   ],
   "source": [
    "print( generate('el', (A_lid, Pi_lid)) )"
   ]
  },
  {
   "cell_type": "markdown",
   "metadata": {},
   "source": [
    "   "
   ]
  }
 ],
 "metadata": {
  "accelerator": "GPU",
  "colab": {
   "collapsed_sections": [],
   "name": "09b Modelo del lenguaje.ipynb",
   "provenance": []
  },
  "kernelspec": {
   "display_name": "Python 3",
   "language": "python",
   "name": "python3"
  },
  "language_info": {
   "codemirror_mode": {
    "name": "ipython",
    "version": 3
   },
   "file_extension": ".py",
   "mimetype": "text/x-python",
   "name": "python",
   "nbconvert_exporter": "python",
   "pygments_lexer": "ipython3",
   "version": "3.8.5"
  }
 },
 "nbformat": 4,
 "nbformat_minor": 1
}
