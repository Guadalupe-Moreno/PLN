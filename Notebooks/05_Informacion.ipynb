{
  "nbformat": 4,
  "nbformat_minor": 0,
  "metadata": {
    "colab": {
      "name": "05_Informacion.ipynb",
      "provenance": []
    },
    "kernelspec": {
      "name": "python3",
      "display_name": "Python 3"
    }
  },
  "cells": [
    {
      "cell_type": "markdown",
      "metadata": {
        "id": "7EZVL7Wtk97x"
      },
      "source": [
        "# **Información**"
      ]
    },
    {
      "cell_type": "markdown",
      "metadata": {
        "id": "Lcl_f4sBlDRV"
      },
      "source": [
        "La información es el concepto fundamental de la teoría de la información. Sus aplicaciones son múltiples, además de que funge como base para el desarrollo de otras herramientas dentro de esta teoría."
      ]
    },
    {
      "cell_type": "code",
      "metadata": {
        "id": "hD-Lz9JRk4pj"
      },
      "source": [
        "import numpy as np\n",
        "import pandas as pd\n",
        "import matplotlib.pyplot as plt"
      ],
      "execution_count": 1,
      "outputs": []
    },
    {
      "cell_type": "markdown",
      "metadata": {
        "id": "Zq3TKzXVlGjM"
      },
      "source": [
        "**El problema de las casillas**"
      ]
    },
    {
      "cell_type": "markdown",
      "metadata": {
        "id": "02nOdBs4lMfY"
      },
      "source": [
        "Supóngase que se tiene una tabla con 8 casillas donde sólo una puede tomar el valor 1, y las demas el valor 0. La probabilidad de que cualquier casilla tome el valor 1 es igual para todas las casillas.\n",
        "\n",
        "$$\n",
        "\\begin{pmatrix} y_1 &amp; y_2 &amp; y_3 \\\\ y_4 &amp; y_5 &amp; y_6\\end{pmatrix}\n",
        "$$\n",
        "Esto es tal que la prabilidad de $p(Y=y_i)$ para cualquier $i$ es uniforme (donde $Y$ representa la tabale completa), sabemos que la información necesaria, el número de bits que requerimos para codificar cada disposición de la tabale, es:\n",
        "\n",
        "$$I(y_i) = -\\log p(Y=y_i)$$\n",
        "Y ya que $p(Y=y_i) = \\frac{1}{8}$, tenemos que la información necesarias es igual a 3.\n",
        "\n",
        "Esto es, necesitamos 3 bits para codificar cualquier configuración que pueda tener la tabla.\n",
        "\n",
        "Nuestras variables serán binarias, por lo que necesitamos definir los valores que pueden tomar. Estos valores seran 0 y 1, o bien 'si' y 'no'. Para reconstruir la tabla de manera adecuada lo codificaremos por medio de vectores, que representan bits."
      ]
    },
    {
      "cell_type": "code",
      "metadata": {
        "id": "Bjz8jwI_lL4C"
      },
      "source": [
        "#bit 0 ó No\n",
        "no = np.array([0,1])\n",
        "#Bit 1 ó sí\n",
        "si = np.array([1,0])"
      ],
      "execution_count": 2,
      "outputs": []
    },
    {
      "cell_type": "markdown",
      "metadata": {
        "id": "J6bmhV08ldLx"
      },
      "source": [
        "Ahora, para codificar cualquier disposición necesitamos 3 bits, o lo que es lo mismo, 3 variables binarias. Estas variables representan preguntas binarias, podemos pensar, entonces que las variables representan las siguientes preguntas:\n",
        "\n",
        "*   $X_1$: ¿El uno está en la parte superior de la tabla?\n",
        "*   $X_2$: ¿El uno está en la izuierda de la tabla restante?\n",
        "*   $X_3$: ¿El uno está en la casilla de la izquierda?\n",
        "\n",
        "Con esto, responderemos 'sí' o 'no' hasta representar la codificación adecuada. Por ejemplo:"
      ]
    },
    {
      "cell_type": "code",
      "metadata": {
        "id": "HQwc7CPfmDXg"
      },
      "source": [
        "#Codificación\n",
        "cod = [si,si,si]"
      ],
      "execution_count": 3,
      "outputs": []
    },
    {
      "cell_type": "markdown",
      "metadata": {
        "id": "IVH2_JPzlmsl"
      },
      "source": [
        "Finalmente, a partir de esta codificación, podemos reconstruir la tabla completa con el uno en la casilla adecuada:"
      ]
    },
    {
      "cell_type": "code",
      "metadata": {
        "colab": {
          "base_uri": "https://localhost:8080/"
        },
        "id": "y58-6z6ZmEL7",
        "outputId": "c6596c30-c50d-4022-aabd-73460a22ae36"
      },
      "source": [
        "#reconstrucción de la tabla\n",
        "tabla = np.outer(np.outer(cod[0],cod[1]),cod[2]).reshape(2,4)\n",
        "print(tabla)"
      ],
      "execution_count": 4,
      "outputs": [
        {
          "output_type": "stream",
          "text": [
            "[[1 0 0 0]\n",
            " [0 0 0 0]]\n"
          ],
          "name": "stdout"
        }
      ]
    },
    {
      "cell_type": "markdown",
      "metadata": {
        "id": "7VSrj3a4mMle"
      },
      "source": [
        "# **Selección de variables informativas**"
      ]
    },
    {
      "cell_type": "markdown",
      "metadata": {
        "id": "LwTf_AFzmTox"
      },
      "source": [
        "De manera similar, cuando tenemos una serie de objetos caracterizados por un conjunto de variables, podemos determinar cuánta información es aportada por cada una de estas variables. De esta forma, podemos darnos una idea de cuáles son las variables que mejor representan los datos (sin embargo, debe notarse que la información no depende de los objetos o clases, sino únicamente de las variables; para ser más precisos en la selección de las variables, deben utilizarse distribuciones conjuntas o condicionales).\n",
        "\n",
        "Por ejemplo, considérese los siguientes datos:"
      ]
    },
    {
      "cell_type": "code",
      "metadata": {
        "colab": {
          "base_uri": "https://localhost:8080/",
          "height": 173
        },
        "id": "TxgsnxY5mV1L",
        "outputId": "7ddf3662-bed3-427e-e435-6e738fcdf426"
      },
      "source": [
        "targets = ['gato','perro','tigre','lobo']\n",
        "#Variables\n",
        "variables = ['Doméstico','Animal','Felino','Cánido','Carnívoro','Grande']\n",
        "\n",
        "#valores de las variables\n",
        "datos = np.array([[1,1,1,0,1,0],[1,1,0,1,1,1],[0,1,1,0,1,1],[0,1,0,1,1,1]])\n",
        "\n",
        "#Creación de tabla para visualización\n",
        "X = pd.DataFrame(data=datos, index=targets, columns=variables)\n",
        "\n",
        "X"
      ],
      "execution_count": 5,
      "outputs": [
        {
          "output_type": "execute_result",
          "data": {
            "text/html": [
              "<div>\n",
              "<style scoped>\n",
              "    .dataframe tbody tr th:only-of-type {\n",
              "        vertical-align: middle;\n",
              "    }\n",
              "\n",
              "    .dataframe tbody tr th {\n",
              "        vertical-align: top;\n",
              "    }\n",
              "\n",
              "    .dataframe thead th {\n",
              "        text-align: right;\n",
              "    }\n",
              "</style>\n",
              "<table border=\"1\" class=\"dataframe\">\n",
              "  <thead>\n",
              "    <tr style=\"text-align: right;\">\n",
              "      <th></th>\n",
              "      <th>Doméstico</th>\n",
              "      <th>Animal</th>\n",
              "      <th>Felino</th>\n",
              "      <th>Cánido</th>\n",
              "      <th>Carnívoro</th>\n",
              "      <th>Grande</th>\n",
              "    </tr>\n",
              "  </thead>\n",
              "  <tbody>\n",
              "    <tr>\n",
              "      <th>gato</th>\n",
              "      <td>1</td>\n",
              "      <td>1</td>\n",
              "      <td>1</td>\n",
              "      <td>0</td>\n",
              "      <td>1</td>\n",
              "      <td>0</td>\n",
              "    </tr>\n",
              "    <tr>\n",
              "      <th>perro</th>\n",
              "      <td>1</td>\n",
              "      <td>1</td>\n",
              "      <td>0</td>\n",
              "      <td>1</td>\n",
              "      <td>1</td>\n",
              "      <td>1</td>\n",
              "    </tr>\n",
              "    <tr>\n",
              "      <th>tigre</th>\n",
              "      <td>0</td>\n",
              "      <td>1</td>\n",
              "      <td>1</td>\n",
              "      <td>0</td>\n",
              "      <td>1</td>\n",
              "      <td>1</td>\n",
              "    </tr>\n",
              "    <tr>\n",
              "      <th>lobo</th>\n",
              "      <td>0</td>\n",
              "      <td>1</td>\n",
              "      <td>0</td>\n",
              "      <td>1</td>\n",
              "      <td>1</td>\n",
              "      <td>1</td>\n",
              "    </tr>\n",
              "  </tbody>\n",
              "</table>\n",
              "</div>"
            ],
            "text/plain": [
              "       Doméstico  Animal  Felino  Cánido  Carnívoro  Grande\n",
              "gato           1       1       1       0          1       0\n",
              "perro          1       1       0       1          1       1\n",
              "tigre          0       1       1       0          1       1\n",
              "lobo           0       1       0       1          1       1"
            ]
          },
          "metadata": {
            "tags": []
          },
          "execution_count": 5
        }
      ]
    },
    {
      "cell_type": "markdown",
      "metadata": {
        "id": "JHNmVwSimeCP"
      },
      "source": [
        "Recordemos que la información nos dice cuántos bits son los mínimos para codificar los datos. Sin embargo, no siempre se puede alcanzar este mínimo, pues dependemos del tipo de variables con que ya contamos, si estás no separán los datos, resultará complidado obtener nueva información relevante."
      ]
    },
    {
      "cell_type": "code",
      "metadata": {
        "colab": {
          "base_uri": "https://localhost:8080/"
        },
        "id": "ZTHquMTjmahR",
        "outputId": "05617e22-01c4-42da-fa12-4c8c14b65e31"
      },
      "source": [
        "#Información\n",
        "print('Bits necesarios para codificación:', np.log2(len(targets)))"
      ],
      "execution_count": 6,
      "outputs": [
        {
          "output_type": "stream",
          "text": [
            "Bits necesarios para codificación: 2.0\n"
          ],
          "name": "stdout"
        }
      ]
    },
    {
      "cell_type": "markdown",
      "metadata": {
        "id": "k24-NB9Smjrg"
      },
      "source": [
        "Ahora podemos obtener la información para cada variable como:\n",
        "\n",
        "$$I(X_i) = -\\log p_i$$\n",
        "En este caso, dado que las variables sólo tienen dos valores, cada una de estás tendrá una distribución Bernoulli con parámetro $p_i$. Este parámetro representa la probabilidad y puede estimarse como $p_i = \\mathbb{E}[X] \\approx \\frac{1}{N}\\sum_x x_i$, tal que $x_i$ es un valor tomado por la variable $X_i$."
      ]
    },
    {
      "cell_type": "code",
      "metadata": {
        "colab": {
          "base_uri": "https://localhost:8080/",
          "height": 324
        },
        "id": "71AuTVKKmrEm",
        "outputId": "85130074-f4bb-49d2-d4ea-9f12f0b16ea0"
      },
      "source": [
        "#Estimación de probabilidades\n",
        "p = X.sum(0)/X.sum(0).sum(0)\n",
        "#Información\n",
        "I = -np.log2(p)\n",
        "\n",
        "#Visualización de la información\n",
        "I.plot.bar()\n",
        "plt.title('Información por variable')\n",
        "plt.ylabel('Información (bits)')\n",
        "plt.show()"
      ],
      "execution_count": 7,
      "outputs": [
        {
          "output_type": "display_data",
          "data": {
            "image/png": "[encoded data removed]",
            "text/plain": [
              "<Figure size 432x288 with 1 Axes>"
            ]
          },
          "metadata": {
            "tags": [],
            "needs_background": "light"
          }
        }
      ]
    },
    {
      "cell_type": "markdown",
      "metadata": {
        "id": "wZbAKbUnmyaA"
      },
      "source": [
        "De tal forma, que podemos quedarnos únicamente con las variables más informativas. Más aún, ya que la información para codificar todo el sistema, podemos tomar únicamente dos de estas variables."
      ]
    },
    {
      "cell_type": "code",
      "metadata": {
        "colab": {
          "base_uri": "https://localhost:8080/",
          "height": 173
        },
        "id": "h8foPln-mziK",
        "outputId": "5533b878-4c82-4d3f-c922-07bdfb78ebf0"
      },
      "source": [
        "Xcod = X.drop(['Animal','Cánido','Carnívoro','Grande'],  axis=1)\n",
        "\n",
        "Xcod"
      ],
      "execution_count": 8,
      "outputs": [
        {
          "output_type": "execute_result",
          "data": {
            "text/html": [
              "<div>\n",
              "<style scoped>\n",
              "    .dataframe tbody tr th:only-of-type {\n",
              "        vertical-align: middle;\n",
              "    }\n",
              "\n",
              "    .dataframe tbody tr th {\n",
              "        vertical-align: top;\n",
              "    }\n",
              "\n",
              "    .dataframe thead th {\n",
              "        text-align: right;\n",
              "    }\n",
              "</style>\n",
              "<table border=\"1\" class=\"dataframe\">\n",
              "  <thead>\n",
              "    <tr style=\"text-align: right;\">\n",
              "      <th></th>\n",
              "      <th>Doméstico</th>\n",
              "      <th>Felino</th>\n",
              "    </tr>\n",
              "  </thead>\n",
              "  <tbody>\n",
              "    <tr>\n",
              "      <th>gato</th>\n",
              "      <td>1</td>\n",
              "      <td>1</td>\n",
              "    </tr>\n",
              "    <tr>\n",
              "      <th>perro</th>\n",
              "      <td>1</td>\n",
              "      <td>0</td>\n",
              "    </tr>\n",
              "    <tr>\n",
              "      <th>tigre</th>\n",
              "      <td>0</td>\n",
              "      <td>1</td>\n",
              "    </tr>\n",
              "    <tr>\n",
              "      <th>lobo</th>\n",
              "      <td>0</td>\n",
              "      <td>0</td>\n",
              "    </tr>\n",
              "  </tbody>\n",
              "</table>\n",
              "</div>"
            ],
            "text/plain": [
              "       Doméstico  Felino\n",
              "gato           1       1\n",
              "perro          1       0\n",
              "tigre          0       1\n",
              "lobo           0       0"
            ]
          },
          "metadata": {
            "tags": []
          },
          "execution_count": 8
        }
      ]
    },
    {
      "cell_type": "markdown",
      "metadata": {
        "id": "Rd_njM2Mm6pH"
      },
      "source": [
        "Y podemos ver que esto nos permite discriminar los datos en sus respectivas clases:"
      ]
    },
    {
      "cell_type": "code",
      "metadata": {
        "colab": {
          "base_uri": "https://localhost:8080/",
          "height": 279
        },
        "id": "NWQFaM63m7uc",
        "outputId": "7aa425a4-89d9-462f-fa51-6c130a8dda74"
      },
      "source": [
        "#Ploteo de datos\n",
        "fig, ax = plt.subplots()\n",
        "ax_labs = Xcod.columns\n",
        "Xcod.plot(ax_labs[0],ax_labs[1], kind='scatter', ax=ax)\n",
        "\n",
        "#Labels\n",
        "for k, v in Xcod.iterrows():\n",
        "    ax.annotate(k, v)\n",
        "\n",
        "fig.canvas.draw\n",
        "plt.show()"
      ],
      "execution_count": 9,
      "outputs": [
        {
          "output_type": "display_data",
          "data": {
            "image/png": "[encoded data removed]",
            "text/plain": [
              "<Figure size 432x288 with 1 Axes>"
            ]
          },
          "metadata": {
            "tags": [],
            "needs_background": "light"
          }
        }
      ]
    }
  ]
}