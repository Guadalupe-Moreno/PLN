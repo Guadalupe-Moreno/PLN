{
 "cells": [
  {
   "cell_type": "markdown",
   "metadata": {},
   "source": [
    "# Convergencia de una muestra a su probabilidad"
   ]
  },
  {
   "cell_type": "markdown",
   "metadata": {},
   "source": [
    "Sea $X$ una variable aleatoria tal que $X \\sim Ber(0.5)$; es decir, $X$ tiene distribución bernoulli y sus probabilidades son $p(X=1) = 0.5$ y $p(X=0) = 1-p(X=1) = 0.5$.\n",
    "\n",
    "Para probar como la convergencia de una serie de muestras con esta distribución implica la minimización de la divergencia KL y de la entropía cruzada generamos una muestra de 1 millón de datos con esta distribución."
   ]
  },
  {
   "cell_type": "code",
   "execution_count": 1,
   "metadata": {},
   "outputs": [],
   "source": [
    "import numpy as np\n",
    "import matplotlib.pyplot as plt\n",
    "\n",
    "Omega = np.random.binomial(1, 0.5, size=1000000)"
   ]
  },
  {
   "cell_type": "markdown",
   "metadata": {},
   "source": [
    "En este caso, comenzaremos con tomar pequeñas muestras. Para analizar estas muestras, sabemos, por la ley de los grandes números que se da la siguiente convergencia en probabilidad:\n",
    "\n",
    "$$\\frac{1}{N} \\sum_{i=1}^N X_i \\to \\mathbb{E}(X) = p$$\n",
    "\n",
    "Cuando $N\\to \\infty$. Entonces, definiremos un estimador $q$ de este parámetro a partir de este promedio:"
   ]
  },
  {
   "cell_type": "code",
   "execution_count": 2,
   "metadata": {},
   "outputs": [],
   "source": [
    "def esp(X):\n",
    "    N = len(X)\n",
    "    return (1./N)*X.sum(0)"
   ]
  },
  {
   "cell_type": "markdown",
   "metadata": {},
   "source": [
    "Así podemos tomar alguna muestra empírica pequeña de los datos para ver que tan bien este estiamdor aproxima el parámetro $p=0.5$."
   ]
  },
  {
   "cell_type": "code",
   "execution_count": 3,
   "metadata": {},
   "outputs": [
    {
     "name": "stdout",
     "output_type": "stream",
     "text": [
      "datos: [1 0 1] estimación: 0.6666666666666666\n"
     ]
    }
   ],
   "source": [
    "X = np.random.choice(Omega,size=3)\n",
    "\n",
    "print('datos:', X, 'estimación:', esp(X))"
   ]
  },
  {
   "cell_type": "markdown",
   "metadata": {},
   "source": [
    "En este caso, hemos tomado una muestra de 3 datos, $X_1, X_2, X_3$, vemos que la aproximación no es del todo buena, pues contamos con pocos datos.\n",
    "\n",
    "Podemos ver que tanto se aleja de la distribución original, que en este caso sabemos que es Bernoulli con parámetro $p=0.5$, a partir de la divergencia KL. En este caso particular, determinaremos la divergencia como:\n",
    "\n",
    "$$D_{KL} = p \\log\\frac{p}{q} + (1-p)\\log\\frac{1-p}{1-q}$$"
   ]
  },
  {
   "cell_type": "code",
   "execution_count": 4,
   "metadata": {},
   "outputs": [
    {
     "name": "stdout",
     "output_type": "stream",
     "text": [
      "0.05889151782819166\n"
     ]
    }
   ],
   "source": [
    "def KL(X):\n",
    "    q = esp(X)\n",
    "    return 0.5*np.log(0.5/q) + 0.5*np.log(0.5/(1-q))\n",
    "\n",
    "\n",
    "print(KL(X))"
   ]
  },
  {
   "cell_type": "markdown",
   "metadata": {},
   "source": [
    "Ya que $p$ y $q$ son diferente, la divergencia es diferente de 0. En los casos en que no conocemos la distribución original es mejor utilizar la entropia cruzada empírica, dada por:\n",
    "\n",
    "$$H(X;q) = -\\frac{1}{N} \\sum_{i=1}^N \\log q(X=x_i)$$\n",
    "\n",
    "donde $N$ es el número de datos diferentes."
   ]
  },
  {
   "cell_type": "code",
   "execution_count": 5,
   "metadata": {},
   "outputs": [
    {
     "name": "stdout",
     "output_type": "stream",
     "text": [
      "0.752038698388137\n"
     ]
    }
   ],
   "source": [
    "def crossH(X):\n",
    "    q = esp(X)\n",
    "    return (0.5)*(-np.log(q)-np.log(1-q))\n",
    "\n",
    "print(crossH(X))"
   ]
  },
  {
   "cell_type": "markdown",
   "metadata": {},
   "source": [
    "En este caso, buscaremos aproximar la distribución original a partir aumentar el tamaño de los datos. Así tomaremos varios datos hasta un tamaño determinado."
   ]
  },
  {
   "cell_type": "code",
   "execution_count": 6,
   "metadata": {},
   "outputs": [],
   "source": [
    "KL_list = []  #Guarda la divergencia KL\n",
    "crossH_list = []  #Guarda la entropia cruzada\n",
    "prob = []  #Guarda el estimador q\n",
    "for i in range(1000):\n",
    "    X = np.append(X,np.random.choice(Omega,size=1))\n",
    "\n",
    "    prob.append(esp(X))\n",
    "    KL_list.append(KL(X))\n",
    "    crossH_list.append(crossH(X))"
   ]
  },
  {
   "cell_type": "markdown",
   "metadata": {},
   "source": [
    "Ahora veremos como se aproxima este estimador $q$ al valor real $p=0.5$."
   ]
  },
  {
   "cell_type": "code",
   "execution_count": 7,
   "metadata": {},
   "outputs": [
    {
     "data": {
      "image/png": "[encoded data removed]",
      "text/plain": [
       "<Figure size 432x288 with 1 Axes>"
      ]
     },
     "metadata": {
      "needs_background": "light"
     },
     "output_type": "display_data"
    }
   ],
   "source": [
    "plt.plot(prob)\n",
    "plt.show()"
   ]
  },
  {
   "cell_type": "markdown",
   "metadata": {},
   "source": [
    "Como puede observarse, en cuanto aumenta el número de datos el parámetro tiende a converger al valor real. De esta forma, la divergencia KL debe minimizarse."
   ]
  },
  {
   "cell_type": "code",
   "execution_count": 8,
   "metadata": {},
   "outputs": [
    {
     "data": {
      "image/png": "[encoded data removed]",
      "text/plain": [
       "<Figure size 432x288 with 1 Axes>"
      ]
     },
     "metadata": {
      "needs_background": "light"
     },
     "output_type": "display_data"
    }
   ],
   "source": [
    "plt.plot(KL_list)\n",
    "plt.show()"
   ]
  },
  {
   "cell_type": "markdown",
   "metadata": {},
   "source": [
    "Podemos observar que, en efecto, la divergencia KL disminuye conforme el estimador se aproxima más al valor real.\n",
    "\n",
    "Pero de igual forma, sabemos que minimizar la entropía cruzada equivale a minimizar la divergencia KL, por lo que tenemos que también debe decrecer."
   ]
  },
  {
   "cell_type": "code",
   "execution_count": 9,
   "metadata": {},
   "outputs": [
    {
     "data": {
      "image/png": "[encoded data removed]",
      "text/plain": [
       "<Figure size 432x288 with 1 Axes>"
      ]
     },
     "metadata": {
      "needs_background": "light"
     },
     "output_type": "display_data"
    }
   ],
   "source": [
    "plt.plot(crossH_list)\n",
    "plt.show()"
   ]
  },
  {
   "cell_type": "markdown",
   "metadata": {},
   "source": [
    "En efecto, vemos que la entropía cruzada disminuye, pues cada vez nos aproximamos más a la distribución real. \n",
    "\n",
    "El hecho de que la entropía cruzada disminuya conforme nos aproximamos al valor original tiene gran importancia en diferentes tareas, pues muchas veces procederemos minimizando la entropía cruzada para poder obtener un estimador que se aproxime lo más posible a una distribución real desconocida. "
   ]
  }
 ],
 "metadata": {
  "kernelspec": {
   "display_name": "Python 3",
   "language": "python",
   "name": "python3"
  },
  "language_info": {
   "codemirror_mode": {
    "name": "ipython",
    "version": 3
   },
   "file_extension": ".py",
   "mimetype": "text/x-python",
   "name": "python",
   "nbconvert_exporter": "python",
   "pygments_lexer": "ipython3",
   "version": "3.8.5"
  }
 },
 "nbformat": 4,
 "nbformat_minor": 2
}
