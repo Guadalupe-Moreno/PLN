{
 "cells": [
  {
   "cell_type": "markdown",
   "metadata": {},
   "source": [
    "# Byte Pair Encoding (BPE)"
   ]
  },
  {
   "cell_type": "markdown",
   "metadata": {},
   "source": [
    "El algoritmo de BPE se enfoca en encontrar subcadenas (subwords) dentro de palabras. El objetivo es buscar subcadenas que permitan codificar las palabras. De esta forma, propone nuevos símbolos (correspondientes a las subcadenas) que reduzcan la entropía del sistema."
   ]
  },
  {
   "cell_type": "code",
   "execution_count": 1,
   "metadata": {},
   "outputs": [],
   "source": [
    "from __future__ import division\n",
    "from collections import defaultdict, Counter\n",
    "from itertools import chain\n",
    "from re import escape, compile\n",
    "import matplotlib.pyplot as plt\n",
    "import numpy as np"
   ]
  },
  {
   "cell_type": "markdown",
   "metadata": {},
   "source": [
    "El algoritmo de BPE suele trabajar con un vocabulario de palabras. En este caso $\\Sigma$ son los símbolos de caracteres. Podemos hacer un diccionario con estos símbolos dentro de las palabras y sus frecuencias."
   ]
  },
  {
   "cell_type": "code",
   "execution_count": 2,
   "metadata": {},
   "outputs": [
    {
     "name": "stdout",
     "output_type": "stream",
     "text": [
      "Counter({'g a t o': 1, 'g a t a': 1, 'g a t o s': 1, 'g a t a s': 1, 'g a t i t o s': 1, 'g a t i t a s': 1, 'n i ñ o': 1, 'n i ñ a': 1, 'n i ñ o s': 1, 'n i ñ a s': 1, 'n i ñ i t o s': 1, 'n i ñ i t a s': 1, 'l o b o': 1, 'l o b a': 1, 'l o b o s': 1, 'l o b a s': 1, 'l o b i t o s': 1, 'l o b i t a s': 1, 'v e n t a n a': 1, 'v e n t a n a s': 1, 'v e n t a n i t a s': 1, 'r o j o': 1, 'r o j a': 1, 'r o j i t o': 1, 'r o j i t a': 1, 'r o j i t o s': 1, 'r o j i t a s': 1, 'l o b i t o': 1, 'l o b i t a': 1, 'n i ñ i t o': 1, 'n i ñ i t a': 1, 'g a t i t o': 1, 'g a t i t a': 1, 'r e t o': 1, 'r e t o s': 1})\n"
     ]
    }
   ],
   "source": [
    "#Palabras para analizar\n",
    "strings = 'gato gata gatos gatas gatitos gatitas niño niña niños niñas niñitos niñitas lobo loba lobos lobas lobitos lobitas '\n",
    "strings += 'ventana ventanas ventanitas rojo roja rojito rojita rojitos rojitas lobito lobita niñito niñita gatito gatita reto retos'\n",
    "\n",
    "#Se crea el diccionario: \n",
    "#Los simbolos del alfabeto se separan por un símbolo especial\n",
    "#Se asocian las frecuencias\n",
    "words = Counter([' '.join(list(w)) for w in strings.split()])\n",
    "\n",
    "print(words)"
   ]
  },
  {
   "cell_type": "markdown",
   "metadata": {},
   "source": [
    "A continuación obtenemos la frecuencia de los pares de símbolos. Con base en el diccionario que hemos formado, tomamos todos los pares posibles de símbolos y sumamos la frecuencia de cada aparición. Así, obtenemos las frecuencias de los pares de caracteres."
   ]
  },
  {
   "cell_type": "code",
   "execution_count": 3,
   "metadata": {},
   "outputs": [
    {
     "name": "stdout",
     "output_type": "stream",
     "text": [
      "defaultdict(<class 'int'>, {('g', 'a'): 8, ('a', 't'): 8, ('t', 'o'): 12, ('t', 'a'): 14, ('o', 's'): 8, ('a', 's'): 9, ('t', 'i'): 4, ('i', 't'): 17, ('n', 'i'): 9, ('i', 'ñ'): 8, ('ñ', 'o'): 2, ('ñ', 'a'): 2, ('ñ', 'i'): 4, ('l', 'o'): 8, ('o', 'b'): 8, ('b', 'o'): 2, ('b', 'a'): 2, ('b', 'i'): 4, ('v', 'e'): 3, ('e', 'n'): 3, ('n', 't'): 3, ('a', 'n'): 3, ('n', 'a'): 2, ('r', 'o'): 6, ('o', 'j'): 6, ('j', 'o'): 1, ('j', 'a'): 1, ('j', 'i'): 4, ('r', 'e'): 2, ('e', 't'): 2})\n"
     ]
    }
   ],
   "source": [
    "#Determina las estadisticas (frecuencia) de las subwords\n",
    "def get_stats(voc):\n",
    "    #Diccionario tipo defaultdict\n",
    "    pairs = defaultdict(int)\n",
    "\n",
    "    for word, freq in voc.items():\n",
    "        #Separa la palabra por caracteres\n",
    "        chars = word.split(' ')\n",
    "        #\n",
    "        for i in range(len(chars)-1):\n",
    "            #Toma el caracter i y el i+1 y aumenta su freq\n",
    "            pairs[chars[i], chars[i+1]] += freq\n",
    "\n",
    "    return pairs\n",
    "\n",
    "stats1 = get_stats(words)\n",
    "print(stats1)"
   ]
  },
  {
   "cell_type": "markdown",
   "metadata": {},
   "source": [
    "Definimos una función que tome el patrón más frecuente $\\max (a,b)$ y lo convierte en un símbolo. Esto es, se realiza el cambio:\n",
    "\n",
    "$$(a,b) \\mapsto ab$$\n",
    "\n",
    "Posteriormente, sustituye este patrón cada vez que lo encuentra en el vocabulario."
   ]
  },
  {
   "cell_type": "code",
   "execution_count": 4,
   "metadata": {},
   "outputs": [
    {
     "name": "stdout",
     "output_type": "stream",
     "text": [
      "('i', 't')\n",
      "{'g a t o': 1, 'g a t a': 1, 'g a t o s': 1, 'g a t a s': 1, 'g a t it o s': 1, 'g a t it a s': 1, 'n i ñ o': 1, 'n i ñ a': 1, 'n i ñ o s': 1, 'n i ñ a s': 1, 'n i ñ it o s': 1, 'n i ñ it a s': 1, 'l o b o': 1, 'l o b a': 1, 'l o b o s': 1, 'l o b a s': 1, 'l o b it o s': 1, 'l o b it a s': 1, 'v e n t a n a': 1, 'v e n t a n a s': 1, 'v e n t a n it a s': 1, 'r o j o': 1, 'r o j a': 1, 'r o j it o': 1, 'r o j it a': 1, 'r o j it o s': 1, 'r o j it a s': 1, 'l o b it o': 1, 'l o b it a': 1, 'n i ñ it o': 1, 'n i ñ it a': 1, 'g a t it o': 1, 'g a t it a': 1, 'r e t o': 1, 'r e t o s': 1}\n"
     ]
    }
   ],
   "source": [
    "#Junta los patrones más frecuentes\n",
    "def merge_voc(pair,voc_in):\n",
    "    #Output vocabulary\n",
    "    voc_out ={}\n",
    "    #Escapa el patrón de mayor frecuencia\n",
    "    bigram = escape(' '.join(pair))\n",
    "    #Regex para buscar dentro de la palabra\n",
    "    pattern = compile(r'(?<!\\S)' + bigram + r'(?!\\S)')\n",
    "\n",
    "    for word in voc_in:\n",
    "        #('a', 'b') --> 'ab'\n",
    "        w_out = pattern.sub(''.join(pair), word)\n",
    "        #Define un nuevo vocabulario con el nuevo símbolo ab\n",
    "        voc_out[w_out] = voc_in[word]\n",
    "\n",
    "    return voc_out\n",
    "\n",
    "#Busca el patrón más frecuente\n",
    "max_freq = max(stats1, key=stats1.get)\n",
    "print(max_freq)\n",
    "print(merge_voc(max_freq,words))"
   ]
  },
  {
   "cell_type": "markdown",
   "metadata": {},
   "source": [
    "Podemos iterar el proceso varias veces para obtener subcadenas más largas."
   ]
  },
  {
   "cell_type": "code",
   "execution_count": 5,
   "metadata": {},
   "outputs": [
    {
     "name": "stdout",
     "output_type": "stream",
     "text": [
      "Patron mas frecuente: it frecuencia: 17\n",
      "Patron mas frecuente: as frecuencia: 9\n",
      "Patron mas frecuente: ga frecuencia: 8\n",
      "Patron mas frecuente: gat frecuencia: 8\n"
     ]
    }
   ],
   "source": [
    "its = 4\n",
    "\n",
    "new_words = words\n",
    "for j in range(its):\n",
    "    #Obtiene los pares y frecuencias\n",
    "    pair = get_stats(new_words)\n",
    "    #Condición de paro\n",
    "    try:\n",
    "        #max(a,b)\n",
    "        best = max(pair, key=pair.get)\n",
    "        #Sustituye (a,b) por ab al vocabulario\n",
    "        new_words = merge_voc(best,  new_words)\n",
    "    #Se detiene cuando merge toda palabra\n",
    "    except:\n",
    "        break\n",
    "    \n",
    "    print('Patron mas frecuente:', ''.join(best), 'frecuencia:',pair[best])"
   ]
  },
  {
   "cell_type": "code",
   "execution_count": 6,
   "metadata": {},
   "outputs": [
    {
     "name": "stdout",
     "output_type": "stream",
     "text": [
      "gat o\n",
      "gat a\n",
      "gat o s\n",
      "gat as\n",
      "gat it o s\n",
      "gat it as\n",
      "n i ñ o\n",
      "n i ñ a\n",
      "n i ñ o s\n",
      "n i ñ as\n",
      "n i ñ it o s\n",
      "n i ñ it as\n",
      "l o b o\n",
      "l o b a\n",
      "l o b o s\n",
      "l o b as\n",
      "l o b it o s\n",
      "l o b it as\n",
      "v e n t a n a\n",
      "v e n t a n as\n",
      "v e n t a n it as\n",
      "r o j o\n",
      "r o j a\n",
      "r o j it o\n",
      "r o j it a\n",
      "r o j it o s\n",
      "r o j it as\n",
      "l o b it o\n",
      "l o b it a\n",
      "n i ñ it o\n",
      "n i ñ it a\n",
      "gat it o\n",
      "gat it a\n",
      "r e t o\n",
      "r e t o s\n"
     ]
    }
   ],
   "source": [
    "for w in new_words.keys():\n",
    "    print(w)"
   ]
  },
  {
   "cell_type": "markdown",
   "metadata": {
    "collapsed": true
   },
   "source": [
    "### Estimación de entropía\n",
    "\n",
    "Cuando los símbolos que se utilizan para codificar el lenguaje humano se agrupan en símbolos que codifican de manera más eficiente el lenguaje, se esperaría que la entropía del lenguaje disminuyera. Por tanto, podemos estimar la probabilidad de cada codificación. Para esto, utilizamos una entropía empírica determinada por la probabilidad de los símbolos:\n",
    "\n",
    "$$H(X) = -\\frac{1}{N} \\sum_{x} \\ln p(x)$$\n",
    "\n",
    "Donde $x$ es un símbolo en una iteración dada. Así, en la primera iteración se calculará la entropía a nivel caracter, pero en las siguientes iteraciones se tomarán simbolos afijales."
   ]
  },
  {
   "cell_type": "code",
   "execution_count": 7,
   "metadata": {},
   "outputs": [],
   "source": [
    "def get_entropy(voc):\n",
    "    #Frecuencia de cada símbolo en el vocabulario\n",
    "    fr = list( chain(*[[(c,f) for c in w.split(' ')] for w,f in voc.items()]) ) #list(get_stats(voc).values()))\n",
    "    freq = defaultdict(int)\n",
    "    for w,f in fr:\n",
    "        freq[w] += f\n",
    "    freq = np.array(list(freq.values()))\n",
    "    #Probabilidad de los símbolos\n",
    "    p = freq/freq.sum()\n",
    "    #Entropía del vocabulario\n",
    "    H = (-(1./len(p))*np.log(p)).sum() \n",
    "    \n",
    "    return H"
   ]
  },
  {
   "cell_type": "markdown",
   "metadata": {},
   "source": [
    "Al calcular la entropía de los caracteres vemos que está es la más alta."
   ]
  },
  {
   "cell_type": "code",
   "execution_count": 8,
   "metadata": {},
   "outputs": [
    {
     "data": {
      "text/plain": [
       "2.884699917019258"
      ]
     },
     "execution_count": 8,
     "metadata": {},
     "output_type": "execute_result"
    }
   ],
   "source": [
    "get_entropy(words)"
   ]
  },
  {
   "cell_type": "markdown",
   "metadata": {},
   "source": [
    "Ahora, podemos ver cómmo se comporta la entropía a través de los agrupamientos que se hace en cada iteración."
   ]
  },
  {
   "cell_type": "code",
   "execution_count": 9,
   "metadata": {},
   "outputs": [
    {
     "name": "stdout",
     "output_type": "stream",
     "text": [
      "Patron mas frecuente: it frecuencia: 17\n",
      "Patron mas frecuente: as frecuencia: 9\n",
      "Patron mas frecuente: ga frecuencia: 8\n",
      "Patron mas frecuente: gat frecuencia: 8\n",
      "Patron mas frecuente: os frecuencia: 8\n",
      "Patron mas frecuente: ni frecuencia: 8\n",
      "Patron mas frecuente: niñ frecuencia: 8\n",
      "Patron mas frecuente: lo frecuencia: 8\n",
      "Patron mas frecuente: lob frecuencia: 8\n",
      "Patron mas frecuente: ro frecuencia: 6\n",
      "Patron mas frecuente: roj frecuencia: 6\n",
      "Patron mas frecuente: itas frecuencia: 5\n",
      "Patron mas frecuente: itos frecuencia: 4\n",
      "Patron mas frecuente: ito frecuencia: 4\n",
      "Patron mas frecuente: ita frecuencia: 4\n",
      "Patron mas frecuente: ve frecuencia: 3\n",
      "Patron mas frecuente: ven frecuencia: 3\n",
      "Patron mas frecuente: vent frecuencia: 3\n",
      "Patron mas frecuente: venta frecuencia: 3\n",
      "Patron mas frecuente: ventan frecuencia: 3\n",
      "Patron mas frecuente: re frecuencia: 2\n",
      "Patron mas frecuente: ret frecuencia: 2\n"
     ]
    }
   ],
   "source": [
    "its = 22\n",
    "\n",
    "#Valores para visualizar\n",
    "h_plot = np.zeros(its)\n",
    "\n",
    "words1 = words\n",
    "for j in range(its):\n",
    "    #Obtiene los pares y frecuencias\n",
    "    pair = get_stats(words1)\n",
    "    #Condición de paro\n",
    "    try:\n",
    "        #max(a,b)\n",
    "        best = max(pair, key=pair.get)\n",
    "        #Sustituye (a,b) por ab al vocabulario\n",
    "        words1 = merge_voc(best, words1)\n",
    "        h_plot[j] = get_entropy(words1)\n",
    "    #Se detiene cuando merge toda palabra\n",
    "    except:\n",
    "        break\n",
    "    \n",
    "    print('Patron mas frecuente:', ''.join(best), 'frecuencia:',pair[best])"
   ]
  },
  {
   "cell_type": "code",
   "execution_count": 10,
   "metadata": {},
   "outputs": [
    {
     "data": {
      "image/png": "[encoded data removed]",
      "text/plain": [
       "<Figure size 432x288 with 1 Axes>"
      ]
     },
     "metadata": {
      "needs_background": "light"
     },
     "output_type": "display_data"
    }
   ],
   "source": [
    "#Visualización\n",
    "plt.plot(range(1,its+1), h_plot,'-v')\n",
    "plt.xlabel('Iteración')\n",
    "plt.ylabel('Entropía')\n",
    "plt.title('Entropía de símbolos por iteración')\n",
    "plt.show()"
   ]
  },
  {
   "cell_type": "code",
   "execution_count": 11,
   "metadata": {},
   "outputs": [
    {
     "name": "stdout",
     "output_type": "stream",
     "text": [
      "gat o\n",
      "gat a\n",
      "gat os\n",
      "gat as\n",
      "gat itos\n",
      "gat itas\n",
      "niñ o\n",
      "niñ a\n",
      "niñ os\n",
      "niñ as\n",
      "niñ itos\n",
      "niñ itas\n",
      "lob o\n",
      "lob a\n",
      "lob os\n",
      "lob as\n",
      "lob itos\n",
      "lob itas\n",
      "ventan a\n",
      "ventan as\n",
      "ventan itas\n",
      "roj o\n",
      "roj a\n",
      "roj ito\n",
      "roj ita\n",
      "roj itos\n",
      "roj itas\n",
      "lob ito\n",
      "lob ita\n",
      "niñ ito\n",
      "niñ ita\n",
      "gat ito\n",
      "gat ita\n",
      "ret o\n",
      "ret os\n"
     ]
    }
   ],
   "source": [
    "for w in words1.keys():\n",
    "    print(w)"
   ]
  },
  {
   "cell_type": "markdown",
   "metadata": {},
   "source": [
    "     "
   ]
  }
 ],
 "metadata": {
  "kernelspec": {
   "display_name": "Python 3",
   "language": "python",
   "name": "python3"
  },
  "language_info": {
   "codemirror_mode": {
    "name": "ipython",
    "version": 3
   },
   "file_extension": ".py",
   "mimetype": "text/x-python",
   "name": "python",
   "nbconvert_exporter": "python",
   "pygments_lexer": "ipython3",
   "version": "3.8.5"
  }
 },
 "nbformat": 4,
 "nbformat_minor": 2
}
