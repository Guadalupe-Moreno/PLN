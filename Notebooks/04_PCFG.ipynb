{
  "nbformat": 4,
  "nbformat_minor": 0,
  "metadata": {
    "colab": {
      "name": "04_PCFG.ipynb",
      "provenance": []
    },
    "kernelspec": {
      "name": "python3",
      "display_name": "Python 3"
    }
  },
  "cells": [
    {
      "cell_type": "markdown",
      "metadata": {
        "id": "H0bHpMzHegl1"
      },
      "source": [
        "# **Gramáticas Libres de Contexto Probabilísticas**"
      ]
    },
    {
      "cell_type": "markdown",
      "metadata": {
        "id": "sDyHWl-Cenzq"
      },
      "source": [
        "Una gramática libre de contexto nos va ayudar a capturar ciertos patrones en la estructura sintáctica de una oración. Con ella podremos hacer que la computadora pueda determinar si un elemento es un sujeto, un objeto directo, un objeto indirecto, un verbo, etc.\n",
        "\n",
        "Para esto, la librería NLTK nos provee de librerías que nos permitirán hacer este análisis."
      ]
    },
    {
      "cell_type": "code",
      "metadata": {
        "id": "9D3CHuCjeZy_"
      },
      "source": [
        "from nltk import PCFG"
      ],
      "execution_count": 1,
      "outputs": []
    },
    {
      "cell_type": "markdown",
      "metadata": {
        "id": "MYTaEATueuf3"
      },
      "source": [
        "Supóngamos que tenemos una oración y que la hemos tokenizado.\n",
        "\n"
      ]
    },
    {
      "cell_type": "code",
      "metadata": {
        "colab": {
          "base_uri": "https://localhost:8080/"
        },
        "id": "7fXb77gGexUV",
        "outputId": "5095550c-2495-459d-c0fe-90db5ecd0a5a"
      },
      "source": [
        "sentence = 'Juan come unos tacos'\n",
        "tokens = sentence.split()\n",
        "\n",
        "print(tokens)"
      ],
      "execution_count": 2,
      "outputs": [
        {
          "output_type": "stream",
          "text": [
            "['Juan', 'come', 'unos', 'tacos']\n"
          ],
          "name": "stdout"
        }
      ]
    },
    {
      "cell_type": "markdown",
      "metadata": {
        "id": "YN790xBWe0KE"
      },
      "source": [
        "Hemos conservado el orden de las palabras y en este caso no hicimos un processo de stemming. El proceso de stemming debe hacerse si tal proceso está definido en la gramática. Como ahora no lo hemos hecho, nuestra gramática trabajará con los tokens y no con los stems de éstos.\n",
        "\n",
        "Definamos nuestra gramática con base en esto."
      ]
    },
    {
      "cell_type": "code",
      "metadata": {
        "colab": {
          "base_uri": "https://localhost:8080/"
        },
        "id": "Loft1On7e4CX",
        "outputId": "e423dc90-efb5-4609-fab5-846601a21d3f"
      },
      "source": [
        "grammar = PCFG.fromstring('''\n",
        "            O    -> FN FV     [0.7]\n",
        "            O    -> FV FN     [0.3]\n",
        "            FN   -> Sust      [0.6]\n",
        "            FN   -> Det Sust  [0.4]\n",
        "            FV   -> V FN      [0.8]\n",
        "            FV   -> FN V      [0.2]\n",
        "            Sust -> 'Juan'    [0.5]\n",
        "            Sust -> 'tacos'   [0.5]\n",
        "            Det  -> 'unos'    [1.0]\n",
        "            V    -> 'come'    [1.0]\n",
        "            ''')\n",
        "\n",
        "print(grammar)"
      ],
      "execution_count": 3,
      "outputs": [
        {
          "output_type": "stream",
          "text": [
            "Grammar with 10 productions (start state = O)\n",
            "    O -> FN FV [0.7]\n",
            "    O -> FV FN [0.3]\n",
            "    FN -> Sust [0.6]\n",
            "    FN -> Det Sust [0.4]\n",
            "    FV -> V FN [0.8]\n",
            "    FV -> FN V [0.2]\n",
            "    Sust -> 'Juan' [0.5]\n",
            "    Sust -> 'tacos' [0.5]\n",
            "    Det -> 'unos' [1.0]\n",
            "    V -> 'come' [1.0]\n"
          ],
          "name": "stdout"
        }
      ]
    },
    {
      "cell_type": "markdown",
      "metadata": {
        "id": "3kNEe9VUe7xt"
      },
      "source": [
        "En este caso hemos definido nuestra gramática y podemos, entonces parsear las oraciones que queramos analizar. Nótese aquí que distinguimos los símobolos terminales con comillas simples '', mientras que los símbolos no terminales no se marcan de esta forma.\n",
        "\n",
        "Para este parser a partir de la gramática usaremos el algoritmo de Viterbi, el cual revisaremos más adelante."
      ]
    },
    {
      "cell_type": "code",
      "metadata": {
        "colab": {
          "base_uri": "https://localhost:8080/"
        },
        "id": "jrULT8RwfBnB",
        "outputId": "ac4c32fb-e383-4483-aea1-99dff145f9ef"
      },
      "source": [
        "from nltk import ViterbiParser\n",
        "\n",
        "parser = ViterbiParser(grammar)\n",
        "\n",
        "for t in parser.parse(tokens):\n",
        "    print(t)"
      ],
      "execution_count": 4,
      "outputs": [
        {
          "output_type": "stream",
          "text": [
            "(O\n",
            "  (FN (Sust Juan))\n",
            "  (FV (V come) (FN (Det unos) (Sust tacos)))) (p=0.0336)\n"
          ],
          "name": "stdout"
        }
      ]
    },
    {
      "cell_type": "markdown",
      "metadata": {
        "id": "rB97882ufLL7"
      },
      "source": [
        "En la forma en que hemos definido la gramática podemos realizar otras construcciones para determinar posibles árboles."
      ]
    },
    {
      "cell_type": "code",
      "metadata": {
        "colab": {
          "base_uri": "https://localhost:8080/"
        },
        "id": "Rvf1Snn4fMS-",
        "outputId": "92208033-9c59-41e5-cecb-f71f064a5d64"
      },
      "source": [
        "for t in parser.parse(['come', 'unos','tacos', 'Juan']):\n",
        "    print(t)"
      ],
      "execution_count": 5,
      "outputs": [
        {
          "output_type": "stream",
          "text": [
            "(O\n",
            "  (FV (V come) (FN (Det unos) (Sust tacos)))\n",
            "  (FN (Sust Juan))) (p=0.0144)\n"
          ],
          "name": "stdout"
        }
      ]
    },
    {
      "cell_type": "markdown",
      "metadata": {
        "id": "uKFmMJHUfQXs"
      },
      "source": [
        "Dada esta gramática una construcción más probable es \"Juan come unos tacos\", mientras que si bien \"unos tacos come Juan\" es aceptable, su probabilidad es menor."
      ]
    }
  ]
}