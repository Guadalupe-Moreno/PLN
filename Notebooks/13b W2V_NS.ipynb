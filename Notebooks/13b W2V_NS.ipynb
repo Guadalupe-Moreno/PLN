{
 "cells": [
  {
   "cell_type": "markdown",
   "metadata": {},
   "source": [
    "# Word2Vec con Negative sampling\n",
    "\n",
    "Elaboraremos un modelo de Word2Vec utilizando Negative Sampling. El objetivo del negative sampling es simplificar el tiempo de procesamiento del algoritmo de Word2Vec al tomar sólo un número de ejemplos negativos limitados por cada ejemplo positivo."
   ]
  },
  {
   "cell_type": "code",
   "execution_count": 1,
   "metadata": {},
   "outputs": [],
   "source": [
    "import numpy as np\n",
    "from collections import defaultdict, Counter\n",
    "#from preprocessing import preprocess\n",
    "from itertools import chain, combinations\n",
    "import pandas as pd\n",
    "\n",
    "#Funcion que crea un vocabulario de palabras con un indice numerico\n",
    "def vocab():\n",
    "    vocab = defaultdict()\n",
    "    vocab.default_factory = lambda: len(vocab)\n",
    "    return vocab    \n",
    "\n",
    "#Funcion que pasa la cadena de simbolos a una secuencia con indices numericos\n",
    "def text2numba(corpus, vocab):\n",
    "    for doc in corpus:\n",
    "        yield [vocab[w] for w in doc.split()]"
   ]
  },
  {
   "cell_type": "markdown",
   "metadata": {},
   "source": [
    "### Preprocesamiento de corpus\n",
    "\n",
    "En primer lugar, tomaremos un pequeño corpus. En este caso, el contexto estará determinado por la oración; de aquí obtendremos los pares de entrenamiento. Estos pares son de la forma $(w_i, w_j)$ donde $w_i$ es la palabra objetivo y $w_j$ es el ejemplo positivo, es decir, una palabra que sí aparece en contexto junto con la palabra objetivo."
   ]
  },
  {
   "cell_type": "code",
   "execution_count": 2,
   "metadata": {},
   "outputs": [
    {
     "name": "stdout",
     "output_type": "stream",
     "text": [
      "[[0, 1, 2, 3], [0, 1, 2, 4], [0, 1, 2, 5], [0, 6, 2, 3], [0, 6, 2, 4], [0, 6, 2, 7]]\n"
     ]
    }
   ],
   "source": [
    "#Abrimos el documento\n",
    "corpus = ['el gato es mascota', 'el gato es animal', 'el gato es felino', \n",
    "          'el perro es mascota', 'el perro es animal', 'el perro es canino']\n",
    "\n",
    "#Llamamos la funcion para crear el vocabulario\n",
    "idx = vocab()\n",
    "#Creamos el vocabulario y le asignamos un indice a cada simbolo segun su aparicion\n",
    "cads_idx = list(text2numba(corpus,idx))\n",
    "\n",
    "print(cads_idx)"
   ]
  },
  {
   "cell_type": "code",
   "execution_count": 3,
   "metadata": {},
   "outputs": [],
   "source": [
    "#Obtención de los pares de entrenamiento\n",
    "pairs = []\n",
    "for cad in cads_idx:\n",
    "    pairs.append( [(x,y) for x,y in combinations(cad,2)] )\n",
    "    \n",
    "pairs = list(chain(*pairs))\n",
    "\n",
    "pairs = pairs + [(y,x) for x,y in pairs]"
   ]
  },
  {
   "cell_type": "markdown",
   "metadata": {},
   "source": [
    "## Entrenamiento de la red\n",
    "\n",
    "Una vez obtenido los pares de entrenamiento, debemos construir la red neuronal para entrenar los embeddings. Para esto, definiremos primero una función para obtener los ejemplos negativos a partir de un subsampleo de las palabras en el corpus determinado por la distribución:\n",
    "\n",
    "$$p_{NS}(w_k) = \\frac{fr(w_k)^\\alpha}{\\sum_q fr(w_k)^\\alpha}$$"
   ]
  },
  {
   "cell_type": "markdown",
   "metadata": {},
   "source": [
    "### Negative sampling\n",
    "\n",
    "En base a la distribución $p_{NS}$ obtendremos un número dado de ejemplos negativos. En este caso $\\alpha=0.75$ (que es un valor estándar obtenido empíricamente por Mikolov (2013)). Obtenido $K$ ejemplos negativos, además adjuntaremos el ejemplo positivo a los datos."
   ]
  },
  {
   "cell_type": "code",
   "execution_count": 4,
   "metadata": {},
   "outputs": [],
   "source": [
    "frecs = Counter(chain(*cads_idx))\n",
    "\n",
    "#NEGATIVE SAMPLING\n",
    "def negative_sampling(posit_samp, num_ex=2, a=0.75):\n",
    "    #Obtención de frecuencias temportales\n",
    "    temp_frecs = {i:f for i,f in frecs.items() if i != posit_samp}\n",
    "    \n",
    "    #Función de partición prob frecuencia ponderada\n",
    "    N_exp = (np.fromiter(temp_frecs.values(), dtype=float)**a).sum(0)\n",
    "\n",
    "    #Obtención de distribución de probabilidad\n",
    "    for k,v in temp_frecs.items():\n",
    "        temp_frecs[k] = v**a/N_exp\n",
    "\n",
    "    #Obtención del sampleo de ejemplos negativos\n",
    "    neg_samp = np.random.choice(list(temp_frecs.keys()), num_ex, replace=False,p=list(temp_frecs.values()))\n",
    "    #Se añade el ejemplo positivo\n",
    "    sample = np.append(posit_samp,neg_samp)\n",
    "    \n",
    "    return sample"
   ]
  },
  {
   "cell_type": "markdown",
   "metadata": {},
   "source": [
    "A continuación se presenta un ejemplo: se toma como ejemplo positivo a la palabra \"el\", y se muestran 3 ejemplos negativos. El resultado se muestra a continuación:"
   ]
  },
  {
   "cell_type": "code",
   "execution_count": 5,
   "metadata": {},
   "outputs": [
    {
     "name": "stdout",
     "output_type": "stream",
     "text": [
      "['el', 'perro', 'animal']\n"
     ]
    }
   ],
   "source": [
    "#Diccionario para recuperar la palabra gráfica\n",
    "wordID = {v:k for k,v in idx.items()}\n",
    "#Ejemplo de obtención de negative sampling\n",
    "print( [wordID[w] for w in negative_sampling(idx['el'], num_ex=2)] )"
   ]
  },
  {
   "cell_type": "markdown",
   "metadata": {},
   "source": [
    "### Entrenamiento\n",
    "\n",
    "Una vez definido el negative sampling, podemos entrenar la red. Ya que en cada ejemplo, no se activarán todos los nodos de salida, sino una muestra aleatoria  de estos, no podemos  usar la función Softmax. Por tanto definiremos la función sigmoide, que será nuestra función de activación en la capa de salida."
   ]
  },
  {
   "cell_type": "code",
   "execution_count": 6,
   "metadata": {},
   "outputs": [],
   "source": [
    "#Función sigmoide\n",
    "sig = lambda x: 1./(1.+np.exp(-x))"
   ]
  },
  {
   "cell_type": "markdown",
   "metadata": {},
   "source": [
    "Ahora, inicializamos los parámetros de forma aleatoria. En este caso, sólo contamos con los parámetros $U\\in\\mathbb{R}^{d\\times N}$ y $W\\in\\mathbb{R}^{N\\times d}$."
   ]
  },
  {
   "cell_type": "code",
   "execution_count": 7,
   "metadata": {},
   "outputs": [],
   "source": [
    "np.random.seed(0)\n",
    "\n",
    "N = len(idx)\n",
    "#El número de rasgos que representan cada vector\n",
    "nn_input_dim = N\n",
    "#El total de clases que arrojará\n",
    "output_dim = N\n",
    "\n",
    "#Dimensiones de los vectores-palabra\n",
    "dim = 2\n",
    "\n",
    "#Embedding\n",
    "U = np.random.randn(dim, N) / np.sqrt(N)\n",
    "\n",
    "#Capa de salida\n",
    "W = np.random.randn(N,dim) / np.sqrt(dim)"
   ]
  },
  {
   "cell_type": "markdown",
   "metadata": {},
   "source": [
    "Entrenamos entonces la red eligiendo un número de iteraciones y un rango de aprendizaje.  En el paso Forward, antes de pasar por la capa de salida, aplicamos negative sampling. De esta forma, sólo trabajaremos con $K$ ejemplos negativos más un ejemplo positivo. Por lo tanto, sólo actualizaremos los vectores renglones de $W$ correspondientes a estos ejemplos."
   ]
  },
  {
   "cell_type": "code",
   "execution_count": 8,
   "metadata": {},
   "outputs": [],
   "source": [
    "its = 15\n",
    "eta = 0.01\n",
    "for i in range(0,its):\n",
    "    for ex in pairs:\n",
    "        #Forward\n",
    "        #Embedimiento\n",
    "        u_w = U.T[ex[0]]\n",
    "            \n",
    "        #NEGATIVE SAMPLING\n",
    "        sample = negative_sampling(ex[1], num_ex=3)\n",
    "\n",
    "        #salida\n",
    "        a = np.dot(W[sample],u_w)\n",
    "        \n",
    "        #Softmax\n",
    "        f = sig(a) #-np.max(a))\n",
    "\n",
    "        #Backprop\n",
    "        #Variable de salida\n",
    "        y = np.zeros(len(sample))\n",
    "        y[0] = 1\n",
    "        d_out = y - f[0]\n",
    "        \n",
    "        #Variable de embedding\n",
    "        d_emb = np.dot(d_out,W[sample])\n",
    "        \n",
    "        #Actualizacion de salida\n",
    "        W[sample] -= eta*np.outer(d_out,u_w)\n",
    "\n",
    "        #Actualizacion de embedding\n",
    "        U.T[ex[0]] -= eta*d_emb"
   ]
  },
  {
   "cell_type": "markdown",
   "metadata": {},
   "source": [
    "### Normalización de embeddings\n",
    "\n",
    "Un paso extra, per no necesario, es la normalización de los vectores de embeddings. Estos pueden normalizarse a partir de la función $\\frac{x-\\mu}{\\sigma}$ ($\\mu$ su media y $\\sigma$ la varianza); asimismo, pueden normalizarse como $\\frac{x}{||x||}$ ($||x||$ es la norma de $x$). Optamos por esta última opción."
   ]
  },
  {
   "cell_type": "code",
   "execution_count": 9,
   "metadata": {},
   "outputs": [
    {
     "name": "stdout",
     "output_type": "stream",
     "text": [
      "[[0.99968827 0.02496726]\n",
      " [0.99809473 0.06170021]\n",
      " [0.99573582 0.09225067]\n",
      " [0.99314578 0.11688226]\n",
      " [0.99797812 0.06355841]\n",
      " [0.99411546 0.10832563]\n",
      " [0.9979401  0.06415256]\n",
      " [0.99838608 0.05679123]]\n"
     ]
    }
   ],
   "source": [
    "#Obtención de normas\n",
    "norms = [np.linalg.norm(u) for u in U.T]\n",
    "#Normalización\n",
    "U = U/norms\n",
    "print(U.T)"
   ]
  },
  {
   "cell_type": "markdown",
   "metadata": {},
   "source": [
    "## Visualización\n",
    "\n",
    "Finalmente, visualizamos los vectores de embedding. Para esto definimos una función que los ploteará. Buscamos que palabras similares se encuentren cercanas en el espacio vectorial."
   ]
  },
  {
   "cell_type": "code",
   "execution_count": 10,
   "metadata": {},
   "outputs": [],
   "source": [
    "from sklearn.decomposition import PCA\n",
    "import matplotlib.pyplot as plt\n",
    "from operator import itemgetter\n",
    "\n",
    "#Función de ploteado\n",
    "def plot_words(Z,ids,mark='o', color='blue'):\n",
    "    Z = PCA(n_components=2).fit_transform(Z) #PCA no es necesario si la dimensión de los embeddings es 2\n",
    "    r=0\n",
    "    plt.scatter(Z[:,0],Z[:,1], marker=mark, c=color)\n",
    "    for label,x,y in zip(ids, Z[:,0], Z[:,1]):\n",
    "        plt.annotate(label, xy=(x,y), xytext=(-1,1), textcoords='offset points', ha='center', va='bottom')\n",
    "        r+=1"
   ]
  },
  {
   "cell_type": "code",
   "execution_count": 11,
   "metadata": {},
   "outputs": [
    {
     "data": {
      "image/png": "[encoded data removed]",
      "text/plain": [
       "<Figure size 432x288 with 1 Axes>"
      ]
     },
     "metadata": {
      "needs_background": "light"
     },
     "output_type": "display_data"
    }
   ],
   "source": [
    "#Etiquetas de las palabras\n",
    "labels = [w[0] for w in sorted(idx.items(), key=itemgetter(1))]\n",
    "#Plot de los embeddings\n",
    "plot_words(U.T, labels)\n",
    "plt.show()"
   ]
  },
  {
   "cell_type": "markdown",
   "metadata": {},
   "source": [
    "## Similitud entre palabras\n",
    "\n",
    "Podemos calcular la  similitud  entre vectores: si asumimos que palabras similares están cercanas en el espacio vectorial, podemos definir una función que nos indique, numéricamente, qué tan cercanas están dos vectores palabra. En este caso, pueden definirse una multitud de funciones de similitud (métricas, distancias). Dos de ellas, quizá las más comúnes, son la distancia euclideana y el coseno.\n",
    "\n",
    "La distancia euclideana se define como:\n",
    "\n",
    "$$d(x,y) = [\\sum_i (x_i-y_i)^2]^{1/2}$$\n",
    "\n",
    "Una forma general de definir metricas está dada por:\n",
    "\n",
    "$$d_p(x,y) = [\\sum_i (x_i-y_i)^p]^{1/p}$$\n",
    "\n",
    "De donde la distancia euclideana es sólo una particularidad. \n",
    "\n",
    "Por su parte, el coseno está dado por la función:\n",
    "\n",
    "$$\\cos(x,y) = \\frac{x\\dot y}{||x|| ||y||}$$\n",
    "\n",
    "Debe notarse que la distancia euclideana y el coseno no siempre dan los mismos resultados: mientras que la distancia  euclideana se fija en la cercanía entre dos vectores en el espacio euclideao, el coseno se fija en la correlación lineal que guarda un vector con otro."
   ]
  },
  {
   "cell_type": "code",
   "execution_count": 12,
   "metadata": {},
   "outputs": [],
   "source": [
    "#Funciones de similitud\n",
    "cos = lambda u,v: np.dot(u,v)/( np.linalg.norm(u)*np.linalg.norm(v) )\n",
    "euc = lambda u,v: np.linalg.norm(u-v)"
   ]
  },
  {
   "cell_type": "markdown",
   "metadata": {},
   "source": [
    "Definida una función de similitud, se puede obtener las palabras más similares dada una palabra de entrada."
   ]
  },
  {
   "cell_type": "code",
   "execution_count": 13,
   "metadata": {},
   "outputs": [
    {
     "name": "stdout",
     "output_type": "stream",
     "text": [
      "Similitud con la palabra gato\n",
      "\t Palabra \t euc \t cos \t comb\n",
      "\t el \t 0.0368 \t 0.9993 \t 0.0367\n",
      "\t gato \t 0.0 \t 1.0 \t 0.0\n",
      "\t es \t 0.0306 \t 0.9995 \t 0.0306\n",
      "\t mascota \t 0.0554 \t 0.9985 \t 0.0553\n",
      "\t animal \t 0.0019 \t 1.0 \t 0.0019\n",
      "\t felino \t 0.0468 \t 0.9989 \t 0.0467\n",
      "\t perro \t 0.0025 \t 1.0 \t 0.0025\n",
      "\t canino \t 0.0049 \t 1.0 \t 0.0049\n"
     ]
    }
   ],
   "source": [
    "word = 'gato'\n",
    "\n",
    "print('Similitud con la palabra', word)\n",
    "print('\\t Palabra \\t euc \\t cos \\t comb')\n",
    "vec_word = U.T[idx[word]]\n",
    "for w,j in idx.items():    \n",
    "    print('\\t',w,'\\t',round(euc(vec_word,U.T[j]),4),'\\t',round(cos(vec_word,U.T[j]),4),'\\t',\n",
    "          round(euc(vec_word,U.T[j])*cos(vec_word,U.T[j]),4) )\n",
    "    "
   ]
  },
  {
   "cell_type": "markdown",
   "metadata": {},
   "source": [
    "## Composición de vectores\n",
    "\n",
    "La composición asume que el significado de una unidad lingüística compleja es el resultado de la suma de los significados de sus partes. Por ejemplo, el significado de una oración, como \"yo comí ayer\" es sólo el resultado de los significados individuales de las palabras \"yo\", \"comí\"  y \"ayer\". Así, si $\\phi$ es una función de significado, tenemos que:\n",
    "\n",
    "$$\\phi(w_i \\cdot w_j) = \\phi(w_i) \\oplus \\phi(w_j)$$\n",
    "\n",
    "En este caso $\\oplus$ es una función que opera sobre los significados de $w_i$ y  $w_j$ para componerlo en el significado de $w_i\\cdot w_j$. De esta forma, dado que los embeddings de palabras representan el  significado de las palabras, podemos operar sobre estos vectores para obtener significados de unidades mayores a aprtir de la composición."
   ]
  },
  {
   "cell_type": "markdown",
   "metadata": {},
   "source": [
    "### Composición por suma\n",
    "\n",
    "Una de las formas más sencillas de realizar la composición es a partir de la suma de vectores. Así, si $\\phi(w)$ es el emebedding de una palabra, tenemos que:\n",
    "\n",
    "$$\\phi(w_i \\cdot w_j) = \\phi(w_i) + \\phi(w_j)$$\n",
    "\n",
    "donde la operación de suma se hace de la forma usual sobre vectores."
   ]
  },
  {
   "cell_type": "code",
   "execution_count": 17,
   "metadata": {},
   "outputs": [
    {
     "data": {
      "image/png": "[encoded data removed]",
      "text/plain": [
       "<Figure size 432x288 with 1 Axes>"
      ]
     },
     "metadata": {
      "needs_background": "light"
     },
     "output_type": "display_data"
    }
   ],
   "source": [
    "#Composición de vectores\n",
    "gato_mascota = (U.T[idx['gato']]+U.T[idx['mascota']])\n",
    "perro_mascota = (U.T[idx['perro']]+U.T[idx['mascota']])\n",
    "\n",
    "#Concatenar a la matriz\n",
    "plus_U = np.vstack([ gato_mascota,  perro_mascota])\n",
    "\n",
    "#Plotear los vectores\n",
    "plot_words(U.T, labels)\n",
    "plot_words(plus_U, ['gato-mascota', 'perro-mascota'], mark='v',color='red')\n",
    "plt.show()"
   ]
  },
  {
   "cell_type": "markdown",
   "metadata": {},
   "source": [
    "Otras formas simples de realziar composición es a partir del promedio:\n",
    "\n",
    "$$\\phi(w_i \\cdot w_j) = \\frac{\\phi(w_i) + \\phi(w_j)}{2}$$\n",
    "\n",
    "O bien a partir del producto punto a punto (pairwise) también conocido como producto de Hadamard:\n",
    "\n",
    "$$\\phi(w_i \\cdot w_j) = \\phi(w_i) \\odot \\phi(w_j)$$\n",
    "\n",
    "donde $x \\odot y = (x_i y_i)_{i=1}$, es decir, el resultado es un vector de igual tamaño cuyas entradas son el producto de las entradas de los vectores $x$ y $y$ en esa posición."
   ]
  },
  {
   "cell_type": "markdown",
   "metadata": {},
   "source": [
    "### Composición por transformación\n",
    "\n",
    "Una forma general de hacer composición es a partir de una tranformación lineal. De igual forma si $\\phi(w)$ es el embedding de una palabra, entonces:\n",
    "\n",
    "$$\\phi(w_i \\cdot w_j) = T[\\phi(w_i); \\phi(w_j)]$$\n",
    "\n",
    "donde $[\\phi(w_i);\\phi(w_j)]$ es la concatenación de los vectores y $T$ es una tranformación lineal que va de $\\mathbb{R}^{2d}$ a $\\mathbb{R}^d$. Esta tranformación puede ser aprendida, por ejemplo, por medio de un método de descomposición en valores singulares o bien, por medio de un AutoEncoder."
   ]
  },
  {
   "cell_type": "code",
   "execution_count": 15,
   "metadata": {},
   "outputs": [],
   "source": [
    "#Palabras concatenadas\n",
    "names = []\n",
    "#Concatenación de los vectores\n",
    "combs = []\n",
    "for u,v in combinations(idx.keys(),2):\n",
    "    combs.append(np.concatenate((U.T[idx[u]],U.T[idx[v]])) )\n",
    "    names.append((u,v))\n",
    "    \n",
    "combs = np.array(combs)"
   ]
  },
  {
   "cell_type": "code",
   "execution_count": 16,
   "metadata": {},
   "outputs": [
    {
     "data": {
      "image/png": "[encoded data removed]",
      "text/plain": [
       "<Figure size 432x288 with 1 Axes>"
      ]
     },
     "metadata": {
      "needs_background": "light"
     },
     "output_type": "display_data"
    }
   ],
   "source": [
    "#Estimación de T\n",
    "evals,evecs = np.linalg.eig(np.dot(combs.T, combs))\n",
    "T = evecs[:2].T\n",
    "plot_words(np.dot(combs,T), names)"
   ]
  },
  {
   "cell_type": "markdown",
   "metadata": {},
   "source": [
    "De forma más compleja, $T$ puede no ser lineal. Para esto, será necesario usar un AutoEncoder."
   ]
  }
 ],
 "metadata": {
  "kernelspec": {
   "display_name": "Python 3",
   "language": "python",
   "name": "python3"
  },
  "language_info": {
   "codemirror_mode": {
    "name": "ipython",
    "version": 3
   },
   "file_extension": ".py",
   "mimetype": "text/x-python",
   "name": "python",
   "nbconvert_exporter": "python",
   "pygments_lexer": "ipython3",
   "version": "3.8.5"
  }
 },
 "nbformat": 4,
 "nbformat_minor": 2
}
